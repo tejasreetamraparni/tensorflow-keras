{
  "nbformat": 4,
  "nbformat_minor": 0,
  "metadata": {
    "colab": {
      "provenance": [],
      "authorship_tag": "ABX9TyOjYg+P+jhCZZvSduBZJoPe"
    },
    "kernelspec": {
      "name": "python3",
      "display_name": "Python 3"
    },
    "language_info": {
      "name": "python"
    }
  },
  "cells": [
    {
      "cell_type": "code",
      "execution_count": null,
      "metadata": {
        "id": "t-HaX_02Odce"
      },
      "outputs": [],
      "source": [
        "import os\n",
        "import shutil\n",
        "import keras\n",
        "import tensorflow as tf\n",
        "import numpy as np"
      ]
    },
    {
      "cell_type": "code",
      "source": [
        "from urllib.request import urlretrieve"
      ],
      "metadata": {
        "id": "cVu5rSbUQU3x"
      },
      "execution_count": null,
      "outputs": []
    },
    {
      "cell_type": "code",
      "source": [
        "print(tf.__version__)\n",
        "print(keras.__version__)"
      ],
      "metadata": {
        "colab": {
          "base_uri": "https://localhost:8080/"
        },
        "id": "8AYSruHNOvLg",
        "outputId": "1f2ea008-0962-4937-955a-e9db3e22d1f5"
      },
      "execution_count": null,
      "outputs": [
        {
          "output_type": "stream",
          "name": "stdout",
          "text": [
            "2.15.0\n",
            "2.15.0\n"
          ]
        }
      ]
    },
    {
      "cell_type": "code",
      "source": [
        "BATCH_SIZE = 64\n",
        "SEED = 42\n",
        "MAX_SEQUENCE_LENGTH = 512\n",
        "VOCAB_SIZE = 10000\n",
        "AUTOTUNE = tf.data.AUTOTUNE"
      ],
      "metadata": {
        "id": "6jDgV-dePiVO"
      },
      "execution_count": null,
      "outputs": []
    },
    {
      "cell_type": "code",
      "source": [
        "_DOWNLOAD_URL = \"http://ai.stanford.edu/~amaas/data/sentiment/aclImdb_v1.tar.gz\"\n",
        "filename = _DOWNLOAD_URL.split(\"/\")[-1]\n",
        "\n",
        "print(filename)"
      ],
      "metadata": {
        "colab": {
          "base_uri": "https://localhost:8080/"
        },
        "id": "AuPaBXA5P0SR",
        "outputId": "4f1602d2-599a-48e9-9e91-28506e6625f6"
      },
      "execution_count": null,
      "outputs": [
        {
          "output_type": "stream",
          "name": "stdout",
          "text": [
            "aclImdb_v1.tar.gz\n"
          ]
        }
      ]
    },
    {
      "cell_type": "code",
      "source": [
        "def download_dataset(url, filename):\n",
        "  path, headers = urlretrieve(url, filename)\n",
        "  print(f\"File Downloaded successfully: {path}\")\n",
        "  print()\n",
        "  print(headers)\n",
        "\n",
        "def uncompress_dataset(filepath, extract_dir=None):\n",
        "  if extract_dir is None:\n",
        "    extract_dir = os.getcwd()\n",
        "  shutil.unpack_archive(filepath, extract_dir)\n",
        "  print(f\"File extracted successfully to {extract_dir}\")\n",
        "  print(f\"Contents of the directory:\")\n",
        "  print(os.listdir(extract_dir))\n",
        "  return extract_dir"
      ],
      "metadata": {
        "id": "mUaiJAm_QFCV"
      },
      "execution_count": null,
      "outputs": []
    },
    {
      "cell_type": "code",
      "source": [
        "download_dataset(_DOWNLOAD_URL, filename)\n",
        "dataset_dir = uncompress_dataset(filename)"
      ],
      "metadata": {
        "colab": {
          "base_uri": "https://localhost:8080/"
        },
        "id": "CUedevj3RGQz",
        "outputId": "5d2b5ae2-a733-4e59-e8f3-97551a5b86d2"
      },
      "execution_count": null,
      "outputs": [
        {
          "output_type": "stream",
          "name": "stdout",
          "text": [
            "File Downloaded successfully: aclImdb_v1.tar.gz\n",
            "\n",
            "Date: Tue, 16 Apr 2024 06:57:53 GMT\n",
            "Server: Apache/2.2.15 (CentOS)\n",
            "Last-Modified: Sun, 26 Jun 2011 01:16:03 GMT\n",
            "ETag: \"6d4b0748-503a881-4a6932da47ac0\"\n",
            "Accept-Ranges: bytes\n",
            "Content-Length: 84125825\n",
            "Connection: close\n",
            "Content-Type: application/x-gzip\n",
            "\n",
            "\n",
            "File extracted successfully to /content\n",
            "Contents of the directory:\n",
            "['.config', 'aclImdb_v1.tar.gz', 'aclImdb', 'sample_data']\n"
          ]
        }
      ]
    },
    {
      "cell_type": "code",
      "source": [
        "dataset_path = os.path.join(dataset_dir, 'aclImdb')\n",
        "\n",
        "train_dir = os.path.join(dataset_path, 'train')\n",
        "test_dir = os.path.join(dataset_path, 'test')\n",
        "\n",
        "print(f\"Training directory:{os.listdir(train_dir)}\")\n",
        "print(f\"Test directory:{os.listdir(test_dir)}\")"
      ],
      "metadata": {
        "colab": {
          "base_uri": "https://localhost:8080/"
        },
        "id": "Cy783q6oR6-6",
        "outputId": "ee568752-310e-4e0e-a177-4446033b8a5a"
      },
      "execution_count": null,
      "outputs": [
        {
          "output_type": "stream",
          "name": "stdout",
          "text": [
            "Training directory:['urls_pos.txt', 'urls_unsup.txt', 'neg', 'unsup', 'unsupBow.feat', 'labeledBow.feat', 'urls_neg.txt', 'pos']\n",
            "Test directory:['urls_pos.txt', 'neg', 'labeledBow.feat', 'urls_neg.txt', 'pos']\n"
          ]
        }
      ]
    },
    {
      "cell_type": "code",
      "source": [
        "rmdir = os.path.join(train_dir, 'unsup')\n",
        "shutil.rmtree(rmdir)"
      ],
      "metadata": {
        "id": "iAM5nc03Snj5"
      },
      "execution_count": null,
      "outputs": []
    },
    {
      "cell_type": "code",
      "source": [
        "raw_train_ds = tf.keras.utils.text_dataset_from_directory(train_dir,\n",
        "                                                          batch_size=BATCH_SIZE,\n",
        "                                                          shuffle=True,\n",
        "                                                          seed=SEED,\n",
        "                                                          validation_split=0.2,\n",
        "                                                          subset='training')\n",
        "raw_val_ds = tf.keras.utils.text_dataset_from_directory(train_dir,\n",
        "                                                        batch_size=BATCH_SIZE,\n",
        "                                                        shuffle=True,\n",
        "                                                        seed=SEED,\n",
        "                                                        validation_split=0.2,\n",
        "                                                        subset='validation')\n",
        "raw_test_ds = tf.keras.utils.text_dataset_from_directory(test_dir,\n",
        "                                                         batch_size=BATCH_SIZE,\n",
        "                                                         shuffle=True,\n",
        "                                                         seed=SEED)\n"
      ],
      "metadata": {
        "colab": {
          "base_uri": "https://localhost:8080/"
        },
        "id": "myxcsoZeStO4",
        "outputId": "0b1c845c-1951-4559-b7e9-403a4fe7f949"
      },
      "execution_count": null,
      "outputs": [
        {
          "output_type": "stream",
          "name": "stdout",
          "text": [
            "Found 25000 files belonging to 2 classes.\n",
            "Using 20000 files for training.\n",
            "Found 25000 files belonging to 2 classes.\n",
            "Using 5000 files for validation.\n",
            "Found 25000 files belonging to 2 classes.\n"
          ]
        }
      ]
    },
    {
      "cell_type": "code",
      "source": [
        "for text_batch, label_batch in raw_train_ds.take(1):\n",
        "  for i in range(2):\n",
        "    print(f\"Review:{text_batch[i]}\")\n",
        "    print(f\"Label:{label_batch[i]}\")"
      ],
      "metadata": {
        "colab": {
          "base_uri": "https://localhost:8080/"
        },
        "id": "f76ShHXAThFP",
        "outputId": "a7d041da-3a17-4136-d77f-5835b257a38b"
      },
      "execution_count": null,
      "outputs": [
        {
          "output_type": "stream",
          "name": "stdout",
          "text": [
            "Review:b\"First of all, I liked very much the central idea of locating the '' intruders'', Others in the fragile Self, on various levels - mainly subconscious but sometimes more allegorical. In fact the intruders are omnipresent throughout the film : in the Swiss-French border where the pretagonist leads secluded life; in the his recurring daydream and nightmare; inside his ailing body after heart transplantation.... In the last half of the film, he becomes intruder himself, returning in ancient french colony in the hope of atoning for the past. <br /><br />The overall tone is bitter rather than pathetic, full of regrets and guilts, sense of failure being more or less dominant. This is a quite grim picture of an old age, ostensibly self-dependent but hopelessly void and lonely inside. The directer composes the images more to convey passing sensations of anxiety and desire than any explicit meanings. Some of them are mesmerizing, not devoid of humor though, kind of absurdist play only somnambulist can visualize.\"\n",
            "Label:1\n",
            "Review:b\"David Mamet is a very interesting and a very un-equal director. His first movie 'House of Games' was the one I liked best, and it set a series of films with characters whose perspective of life changes as they get into complicated situations, and so does the perspective of the viewer.<br /><br />So is 'Homicide' which from the title tries to set the mind of the viewer to the usual crime drama. The principal characters are two cops, one Jewish and one Irish who deal with a racially charged area. The murder of an old Jewish shop owner who proves to be an ancient veteran of the Israeli Independence war triggers the Jewish identity in the mind and heart of the Jewish detective.<br /><br />This is were the flaws of the film are the more obvious. The process of awakening is theatrical and hard to believe, the group of Jewish militants is operatic, and the way the detective eventually walks to the final violent confrontation is pathetic. The end of the film itself is Mamet-like smart, but disappoints from a human emotional perspective.<br /><br />Joe Mantegna and William Macy give strong performances, but the flaws of the story are too evident to be easily compensated.\"\n",
            "Label:0\n"
          ]
        }
      ]
    },
    {
      "cell_type": "markdown",
      "source": [
        "Vectorization using two techniques:\n",
        "1. Bag of words of binary vectorization - returns multi-hot encoded vector\n",
        "2. Int output - converts strings to numerical index representing vocab word index\n"
      ],
      "metadata": {
        "id": "3GuCw4AgcZlh"
      }
    },
    {
      "cell_type": "code",
      "source": [
        "text, label = next(iter(raw_train_ds.take(1)))\n"
      ],
      "metadata": {
        "id": "wj5YtCHYs6wt"
      },
      "execution_count": null,
      "outputs": []
    },
    {
      "cell_type": "code",
      "source": [
        "text, label"
      ],
      "metadata": {
        "id": "vMKyW4Q9-reT",
        "outputId": "a1f9d161-8598-46aa-e2d1-171f03d94763",
        "colab": {
          "base_uri": "https://localhost:8080/"
        }
      },
      "execution_count": null,
      "outputs": [
        {
          "output_type": "execute_result",
          "data": {
            "text/plain": [
              "(<tf.Tensor: shape=(64,), dtype=string, numpy=\n",
              " array([b'Every scene was put together perfectly.This movie had a wonderful cast and crew. I mean, how can you have a bad movie with Robert Downey Jr. in it,none have and ever will exist. He has the ability to brighten up any movie with his amazing talent.This movie was perfect! I saw this movie sitting all alone on a movie shelf in \"Blockbuster\" and like it was calling out to me,I couldn\\'t resist picking it up and bringing it home with me. You can call me a sappy romantic, but this movie just touched my heart, not to mention made me laugh with pleasure at the same time. Even though it made me cry,I admit, at the end, the whole movie just brightened up my outlook on life thereafter.I suggested to my horror, action, and pure humor movie buff of a brother,who absolutely adored this movie. This is a movie with a good sense of feeling.It could make you laugh out loud, touch your heart, make you fall in love,and enjoy your life.Every time you purposefully walk past this movie, just be aware that you are consciously making the choice to live and feel this inspiring movie.Who knows? What if it could really happen to you?, and keep your mind open to the mystical wonders of life.',\n",
              "        b'Watching The Tenants has been a interesting experience for me. It is the first film I have ever seen where I have shuttled at speed through parts of the (non)action - and I can normally watch anything from turgid action movies to Serbo-Croat indie and find them fascinating.<br /><br />The Tenants is frustratingly sluggish and over-orchestrated. One of the main problems of the script is there is little realistic character dialogue, apart from the set pieces where characters \\'collide\\' in a very structured setting (to make this work, the film needed to feel more conceptual, which it didn\\'t). This leads to a lack of realistic character development; everyone seems two-dimensional.<br /><br />The worse for this is the character of Bill Spear, aka Snoop Dogg. I found his characterization very uncomfortable and very unsympathetic. At one point, I even stopped the film because I got so annoyed by the character\\'s aggressive, violent and monotonal delivery, the lack of any other personality layer apart from that of the reactionary \"on\" switch (which gets really predictable after a while) and I so desperately wanted him to have some redeeming qualities. However, one reason for this jar might be the nebulous time scape of the film (supposedly 70s, it feels and looks more early noughties). If it had been more securely fixed in the 70s, his character might have seemed more understandable.<br /><br />The lighting of the film was also awkward. All the way through, the soundtrack attempts to provide a certain gritty, jazz-infused atmosphere that just did not come off, largely because the set was too well-lit.<br /><br />The Tenants, to me, is an unbelievable film. It doesn\\'t depict real people or propose any interesting ways of thinking about race, identity or the life of a writer, be they white or black.<br /><br />Strangely, I came away with the feeling that this project needed David Lynch; his eerie, clastrophobic and obsessive look and feel would have lifted both the actors and the script into something quite remarkable.',\n",
              "        b'This is probably the best television show I\\'ve ever seen. I first saw it on Comedy Central several years ago. At the time I was unaware that it had been dramatically edited and was shown out of order, and having just watched all three series in order and unedited (thank you internet and your wondrous \"series of tubes\") I am SO GLAD I rediscovered it! I think Comedy Central sort of picked and chose their way through series one and two to make a \"season\"......and I tried to get friends and family to watch it, but nobody really seemed to like it (I need new friends). So, on my own, I made the best out of it that I could. Even when I felt like it was waning a bit, I still felt compelled to continue watching. Years after when I discovered Little Britain, I immediately recognized Pauline from LoG as having influenced Marjorie in Fat Fighters. Also, I love the idea of writers who act the entire show....(not new, but done impeccably here). LB has nothing on LoG! (No offense, Matt & David....Love you)! This is indeed a darkly comedic piece of genius. Serial murder, implied cannibalism.....you name it and it\\'s probably found in this wonderful, unique piece of TV art. The location shots from the very first scene themselves are chilling and seem to beckon you to the town of Royston Vasey.....You\\'ll Never Leave! I think my favorite character would have to be Tubbs, but each character as portrayed has it\\'s own \"charm\". My least favorite was Papa Lazarous, that was until he re-surfaced in series three (clever and wholly unexpected)! It\\'s best to watch several episodes in a row as it drives the continuity and as I said before, becomes so compelling (while repulsing) that you really CAN\\'T stop watching. This is not for those with weak stomachs, kids, conservatives or Grandma (unless you\\'ve got one saucy granny)! I have always loved British TV, particularly comedies, from Monty Python to Benny Hill, Red Dwarf to Keeping Up Appearances, Absolutely Fabulous and the British originals Coupling and The Office (but not their US counterparts....sorry). This is unlike any of those in that it completely redraws the line between what\\'s funny and what\\'s just sick and twisted. Nothing, NOTHING on US TV has ever come close to this level of entertainment. US broadcast TV is so sad and lame, I can barely stand to watch ANY of it. It\\'s kind of sad that even our cable channels don\\'t have the guts to show unedited versions of this gem (your loss, Comedy Central). Thankfully there are shows like this one that come from the \"across the pond\" that redeem the entire medium every decade or so. Basic cable here in the US has been making tiny steps the last few years in confidently \"crossing lines\" with more graphic sexual content, drug use and adult language, but they are still years away from just deciding to be Adults about showing real life, adult behavior (instead of just murder obsession and blowing things up, sheesh, it\\'s like the same basic show format for the past 35 years)! Don\\'t even get me started on US sitcoms! Waste of time and lots of wasted money......did you know that \"According to Jim\" has been on the air for 10 years??? 10 YEARS?? Anyway... Watch this show, get it on DVD, do what you must and then make your friends watch it as well! You\\'ve never seen anything like it. There are three specials that I have not watched yet....I\\'m saving them to spring on my best friend next time he visits. He\\'ll watch them, even if I have to chain him up and paint him with Excrement! Lines and lines and lines and lines! Note that series three departs from one and two....the greater town seems to fall away to concentrate on newer characters, the laugh track is gone (thank bloody hell), the theme is more band and less orchestra and a bit of the story takes place outside of Royston Vasey. Don\\'t be thrown by any of that as by the end, the series has preserved the quiet perversity first demonstrated in series one and two. I think these four guys have created something sort of undefinable. Brilliant, confident and absolutely demented. You will want to re-watch it again and again. It\\'s amazing that in 5 seconds of screen time they can go from cheap sight-gag to horrifying blasphemy then end with a single actors close-up facial expression. If ever I were to meet any of the writer/performers, I\\'d implore them not to recreate it or try to top it.....I\\'d just say \"Can I help you at all?\" (Then they\\'d probably slap me, so I\\'d ask them to sign the slap-mark)! 10 out of 10',\n",
              "        b'The major fault in this film is that it is impossible to believe any of these people would ever be cast in a professional production of Macbeth. Hearing David Lansbury\\'s soft voice struggling laboriously with the famous \"Tomorrow, Tomorrow, and Tomorrow\" speech made it impossible to believe anyone would ever consider him for the role. I kept believing therefore that he didn\\'t get the part because he was a lousy actor; not because a bigger name was available. Then when we see portions of the play in rehearsal it is difficult to believe the director is not parodying things with a hopelessly miscast, misdirected travesty of actors who are unable to articulate or even understand the verse and directors who see the play through their own screwball interpretations. Sometimes directors are so anxious to have their films done (and writers think they have the ability to direct their own works)that they settle for less. This appears to be such an example.',\n",
              "        b\"When thinking about Captivity many words come to mind. Among them are: uninteresting, unentertaining, unsuspensful, unsexy, unfathomable, and unwatchable.<br /><br />I used to hate those movies from the mid to late nineties that were basically ripoffs of Scream but these new Saw knockoffs are beginning to make those films look like classics. They still pander to the same demographic that those other movies were so successful at doing, but now they add a new level of degeneracy that make the twelve to fourteen year old girls they're aimed at feel like they're hardcore AND hip.<br /><br />This movie is a load of boring crap! What the hell has happened to Larry Cohen? His name hasn't been attached to anything good since 1993! Even so, I was still surprised to see that he had anything to do with something THIS bad! Was anyone surprised when the movie's love interest turned out to be one of the psychopaths? Did anyone not know it when they first saw him? Only someone who has never before in his or her life, ever seen another movie!\",\n",
              "        b'Let\\'s start this review out on a positive note -- I am very glad they didn\\'t decide to wimp out with Tony being shot and do a retrospective season like some people were rumoring. Actually, creator and writer of this episode David Chase did quite the opposite. We don\\'t actually know if Tony will live or die. He\\'s in a coma and his chances of recovering are very slim to none. This episode seemed to move very slow, and the coma induced dream Tony was in involving mistaken identity and robed Asian monks slapping the sh*t out of him was absolutely, flat-out weird. After 45-minutes I got a little sick of everyone grieving, but that shouldn\\' t be a reason to slam this episode. It was a weird and unpredictable episode, but it was still well-written and intense. Edie Falco gave an astounding career-defining performance in this episode as the conflicted wife having to face with her husband\\'s could-be demise. I also found it interesting AJ dropped out of school and swore a vendetta against Junior, which AJ most likely won\\'t have the balls to pull off. Silvio is now acting-boss which opens numerous doors to problems in later episodes. There were a lot of great quips in this episode, also, and I think Vito \\'Pole-Smoker\\' Spadafore may meet his demise if he keeps being a greedy S.O.B.<br /><br />This wasn\\'t a great episode and disappointed only because even though Tony kills people, we as an audience adore him and feel he is our hero of the show. This was a necessary episode for the series, even though it was a little snore inducing towards the conclusion. Kudos to Edie Falco\\'s performance, and David Chase and the writers for creating this wholly original and unpredictable plot twist. This is the only season of \\'The Sopranos\\' where I haven\\'t a f*cking clue where it is going to go. I can\\'t wait for next week\\'s episode. My Rating: 7.5/10 <br /><br />Best Line of the Episode: (Paulie to AJ): \"Let\\'s go, Van Helsing!\"',\n",
              "        b'Ivan Reitman is something of a savior. The most tired plots (Ghostbusters, Evolution) come to life in his skilled hands. Even his occasional flop (Six Days, Seven Nights) show signs of life and humor that make it worth viewing. So I was disappointed that Reitman could not take a fairly original plot (man dumps superhero, superhero gets superpower-fueled revenge), and shape it into something enjoyable. \"Girlfriend\" is an exercise in pointlessness. The one-trick pony plot is long in the tooth after the first 20 minutes. The film can\\'t decide whether to be romantic comedy or superhero drama. The result is a film the flip-flops between both, with neither aspect being very well done. Uma Thurman is tops, as usual, and Luke Wilson pulls off his role too, though his slacker antics quickly grow tired. What\\'s even more maddening is that, in certain scenes (such as when a very turned on Uma knocks a headboard through a wall), you sense a witty, raucous Reitman opus practically screaming to get out. But seconds later, the magic is lost, gone as quick as the superheroine whose movies disappoints in almost every way.',\n",
              "        b'At the end of \"Dragon Heat,\" all I could think of was why I bothered sitting through the whole thing.<br /><br />The film\\'s premise is interesting and that - as well as Maggie Q - is what attracted me to the film in the first place. But was I ever disappointed. Writer-director Daniel Lee can\\'t hold a candle to the likes of John Woo, Ringo Lam and Corey Yuen.<br /><br />This has to be one of the most annoyingly-directed films I have ever seen. Lee is so wrapped up in his visual style - and I use that phrase incredibly loosely - that he fills the film with completely needless black-and-white stills, freeze frames, slow-motion, fast-motion and other visual nonsense. I suppose he did all that to make up for the lack of a good story or dialogue.<br /><br />The action scenes are nothing special and play out like some hopped-up music video more than anything else. There is little to care about any of the characters - including two supposedly professional snipers who couldn\\'t hit the broad side of a barn from the inside! - who are then laden with some of the cheesiest dialogue I have seen in one of these Hong Kong actioners.<br /><br />The plot is devoid of any twists and turns - from the initial set-up, everything unfolds in predictable fashion - and Lee feels the need to keep reminding us of the characters\\' back stories in case we didn\\'t get it the first several times. This is awfully amateurish writing and film-making and wastes the talents of Sammo Hung, Michael Biehn and Maggie Q. Though, to be frank, I am hard-pressed to remember Biehn being in any good film that was not directed by James Cameron.<br /><br />If you really are in the mood for a great Hong Kong actioner, you are much better off sticking to some of the staples - John Woo\\'s \"The Killer\" (1989) and \"Hard-Boiled\" (1992), Ringo Lam\\'s \"City on Fire\" (1987) - which Quentin Tarantino stole for \"Reservoir Dogs\" (1992) - or his \"Point Blank\" (1967) remake, \"Full Contact\" (1992). Or, even check out Yuen\\'s \"So Close\" (2002), a supremely entertaining, yet preposterous, popcorn flick. And there\\'s always the terrific French police actioner, \"The Nest\" (2002).<br /><br />True, most, if not all, are a bit over-the-top, but they were films that remain exciting, thrilling and even suspenseful. They have characters we care about and mind-blowing action sequences.<br /><br />\"Dragon Heat,\" on the other hand, is just terribly mediocre. The trouble is that Lee has not made a bad action film, he has made a dull one.',\n",
              "        b\"This thrown together piece of fecal matter adds together so many ludicrous scenarios that in the end it's a laugh riot of absolute hilarity. Too bad as the premise is promising (as it so often is in Duhllywood), but in the hands of this scriptwriter it segues off into la la land. <br /><br />Lowe is in Prison serving time for a DUI that killed off his mistress. We get to see him having nightmares just so that we know he feels real BAD about this. Then his cell mate neighbor hangs himself. Or does he? Lowe has some suspicions but drops them quickly. His suspicions are so weak that the bad guys have nothing to worry about. So why do they then set him up to be killed? Ah, that's where this story could get interesting. That's where it falls off the rails, and once off the rails it decides it can get away with insulting the viewers attention for the next numbing hour.<br /><br />****************SPOILERS****************************<br /><br />I won't bore with an endless recounting of the irrationality of what follows, but contemplate this ending. Lowe has been trapped by the bad guys on a train. They want a tape he has, because that tape will screw their boss, and them. So on to the train come 3 cops, guns drawn, ready to rescue Lowe. The bad guys kill the cops, in front of half the passengers and then....continue chasing Lowe to get the tape. HELLO!!!! killing 3 cops in public will get you into deep doodo, to hell with the tape. Yet off they go through a mall shooting up the place, as if the public did not exist as witnesses, and in the end Lowe is grabbed and the bad guy still wants the tape!!!\",\n",
              "        b'I actually didn\\'t mind the Geico commercials the first 50 of so times I saw them and even found them to be a bit wry and amusing, BUT SERIOUSLY! This is the BEST thing that these people could come up with?!? This show sucks! It is bland and feels like watching an episode of \"The Office\" with the characters disguised as cavemen (I know a lot of you will hate me for saying that but \"The Office\" just does not do it for me). Okay, I get it: we have the poor slob just trying to keep his nose clean and he has a crappy boss who hates him; the pseudo-intellectual who really just has a barely-functioning intellect; and the dopey one who just wants to be accepted, but SO WHAT!!! I have worked with these people and found them just as annoying in real life as I do on TV...why would I want to waste another 1/336th of my week watching more of those type nominates?!? Please call your parents and ask them if they dropped you on your head if after thinking about it, you still delude yourself into believing that this is entertainment.',\n",
              "        b'It has been about 50 years since a movie has been made about romance and mysticism. The only two movies I can think of is \"Enchanted April\" (1992) and \"The Enchanted Cottage\" (1945). Both movies used wonderful actors not stars. In both movies, all the actors gave their best romantic performances.<br /><br />\"Enchanted April\" is about four English women after WWI who are unhappy with their lives and find happiness in Italy while on vacation. It is amazing \"Enchanted April\" was made in 1992. It stands out as an enjoyable classic.',\n",
              "        b'It\\'s remarkable and quite praiseworthy how writers and directors continue to make great movies out of one of the oldest and most (over)used story lines in cinema! \"Dog Bite Dog\" is basically not much more than just the simple story of an lone copper obsessively chasing a brilliant criminal, only Pou-Soi Cheang distinguishes his film from the rest by being extremely violent & relentless. This is unquestionably one of the grittiest and most uncompromising movies I\\'ve ever seen, with an atmosphere of constant nihilism and characters that seem to come walking straight out of hell! Not even the installments in Chan-Wook Park\\'s trilogy of vengeance (with the exception of \"Oldboy\", perhaps) or any other infamous Cat-III film ever released were as sadistic and brutal as some of the events depicted in \"Dog Bite Dog\". Pang is a young and ruthless Cambodian assassin who lands in the crowded streets of Hong Kong to eliminate the wife of an eminent judge in a restaurant. When the police arrives at the place, young officer Wai sees how Pang hastily flees from the scene of the crime and follow him. The first actual confrontation between the two rabid dogs results in a gigantic blood bath, as Pang mercilessly kills several hostages and even Wai\\'s long time friend and colleague. From then on begins a thrilling and action-packed cat and mouse game between the frustrated cop and the professional killer. The latter also saves a young girl from the constant sexual abuse of her father and stays with her at her shed in the local garbage dump. What makes this routine action/thriller so fascinating (apart from the explicit violence) are the main characters\\' backgrounds! Pang, the hit-man, is a Cambodian orphan and has been trained to fight & kill for money ever since he was a child. He knows no restrictions, has no mercy and barely speaks a word. Wai, the cop, became particularly ruthless and unorthodox ever since his role-model father (also a cop) lies in a coma after a drug-related incident. Lai doesn\\'t question suspects and witnesses; he yells at them and he\\'s prepared to sacrifice everything in order to stop his brand new nemesis. People with a weak stomach or tangled nerves are advised to stay away from this film, because the cruelty and shocks featuring in \"Dog Bite Dog\" can easily cause nausea. It\\'s not the type of violence where bloodied heads and chopped off limbs fly through the air, but more like the intense and utterly disturbing type where people attempt to crush their opponents mentally as well as physically. The filming locations are effectively dark and eerie and the extremely sober music makes the already harrowing tone of the movie even more petrifying. The performances are terrific! I wouldn\\'t be surprised if Edison Chen and Sam Lee treated each other like enemies on the film set as well, because their on screen hatred and disgust feels a little too legitimate. \"Dog Bite Dog\" is a powerful and unforgettable film, highly recommended if you can stomach it. If you fear you can\\'t, just wait a few years for the inevitable American remake which will unquestionably soften the premise a little.',\n",
              "        b'This movie should be shown to film school students as an example of what NOT to do. The original kicked some major tire squealing butt, this horrible disaster breaks the cardinal rule of Bruckheimer films, which is: we all know they suck, but they have great action. This film has NO ACTION. This film is BORING. Where are the cars? Where are the chases? Where\\'s the tension? Where\\'s the suspense? Where\\'s the rush? Where!!?? This isn\\'t really a movie at all, it\\'s a bad commercial. 50 cars in 24 hours? That is wrong. They have 3 days to steal them, the ad is wrong. How bad is that? The leads acting is stiff, wooden and forced. The villain, the cop, the others...who cares. They utter their pointless lines, they serve the illogical plot. They slog through it the best they can as the music video director says \"don\\'t worry we\\'ll make a lot of fast cuts and no one will notice how bad the film is\" or \"we\\'ll fix it with lots of loud music\" The \"script\" isn\\'t really a script at all, it\\'s more like a list of cliches with an ending that is a total ripoff of: -------Warning - possible spoiler------ 5------4-----3-----2-----1------ The Fugitive. The biggest crime of all is the underuse of Vinnie Jones, man....this is the baddest, coolest mofo since Jules in Pulp Fiction. And what do they do!? They make him a mute who\\'s hardly in the film! Make Vinnie the main villain and he could have saved the film. How could they have been so dumb? How? How? Why? The original film is very entertaining with a cool trick at the end that gets the driver away. The original has a great 40 minute chase that delivers! Go find the original. Or if you\\'re craving some real car chase action go rent RONIN. The chases in Ronin raised the bar by which all other car chases will now be judged. Bruckheimer and Cage had all that money, all those resources, all that experience, and they can\\'t even come close to matching a film made 25 years ago for $250,000? How can that be? You feel like you got ripped off after seeing this movie. Where I was once excited to see Coyote Ugly, Remember the Titans and Pearl Harbor, now I say: God help us all. <br /><br />',\n",
              "        b'The British claymation series putting \"witty\" conversations taped from \"average\" people in the mouths of \"cute\" fanciful creatures at least had the advantage for non-British viewers of seeming droll and the kind of rarefied cultured humor you couldn\\'t get on U.S. television. Someone made the mistake of PUTTING it on U.S. television.<br /><br />Sort of like the sadly miscast American version of the sublime Brit-com COUPLING which died in a month on NBC when the same basic scripts didn\\'t \"translate\" from British English to American English, what seemed droll and cultured (and just a BIT dull) in England, comes across in CREATURE COMFORTS, the American Version, as simply boredom with puppets. There\\'s no through plot-line, no characters and after one and a half episodes watched (of the three ultimately aired), no reason to suffer through more.<br /><br />The only positive thing to be said about the new summer series and the mercifully brief run it had is that the claymation is at least professionally done and coming as a set-up for the single worst show on the CBS schedule, The New Adventures of Old Christine (or \"how to be a HORRIBLE mother - or person - in one interminable, unfunny lesson\"), kids who wanted to stay up past their bedtime happily ran to bed rather than sit through this show, and the adults could wait to tune in until 9pm when \"Two and A Half Men\" (guilty pleasure) and \"How I Met Your Mother\" (actual quality writing) come on.',\n",
              "        b'I haven\\'t actually finished the film. You may say that in this case I have no right to review it, especially so negatively. But I do, only because I stopped it on account of I couldn\\'t watch anymore...I got over halfway, and I only got there by promising myself something good was just around the corner. This film is so tiresome, so lackluster that I was actually insulted. I haven\\'t read many of the other reviews, so I\\'m not sure if there are other homosexual teens who have suffered through it, but I am homosexual, and I did go through \"similar\" revelations, day dreams, issues etc etc. There were maybe two moments where I actually felt this film could go somewhere, where I felt it may have some inkling of meaning, or relativity, but these hopes were dashed the moment the next set of clich\\xc3\\xa9-ridden narration came on. I mean, just look at the quotes on the IMDb page. Unfortunately you\\'re not able to hear the scratchy play back, nor the echo-ey fades if you\\'re just read the quotes, because they are just too painful/ridiculous/stupid to miss. I did give the film three stars, and all three of those stars go to the films cinematographer who did a fantastic job attempting to transform Archer\\'s tired \"concepts\" into something watchable. Mind you, I pray he wasn\\'t the one who decided to include all the long shots of TV closeups...another unnecessary clich\\xc3\\xa9 already over done in films such as Korine\\'s Gummo... I think it is extremely fitting that this film premiered at Sundance (only because Archer had connections in the festival via volunteer work he did, by the way...) because Sundance seems to be the one festival where clich\\xc3\\xa9 heavy drivel like this is still accepted as \"arthouse\". No, it\\'s not art house, I\\'m afraid it\\'s just plain s**t-house. Do not watch.',\n",
              "        b'I grew up with H.R. Pufnstuff and the dashingly talented Jack Wild and now my daughters are adoring fans of Jack Wild too. This movie is exactly what movies should be: fun and entertaining. This movie is not limited to children either. A lot of the dialogue is directed to adults and Witchiepoo\\'s performance is something you do not want to miss. The music in this movie suited Jack Wild and Mama Cass beautifully. And as a Jack Wild fan, I would never miss the chance to watch him dance or hear him sing. Knowing the hard life that Jack had now makes this movie even more wonderful especially when he sings the opening song \"If I Could\". It makes me pause in loving adoration for him for giving me wonderful childhood memories that I am now passing on to my children. Let\\'s all go to Living Island where there is friendship and fun! And keep Jack Wild\\'s memory alive by passing Pufnstuff on to others.',\n",
              "        b\"Prot\\xc3\\xa9g\\xc3\\xa9 runs in a linear fashion; expect no fast-paced action, and neither will you find yourself with baited breath because there are simply no seating-on-the-edge moments.<br /><br />There is not much of a crux, so don't expect one either. I would not fault the acting - the show would have been much worst if not for Wu's acting which was the film's only saving grace. And, oh that cute little girl too.<br /><br />The humour is at best, weak, and the show must as well pass off as an anti-drug campaign which employs the usual shock-tactic (esp in the scenes with Zhang) to tell us stuff that we already know - i.e. drugs break up families, heroin drives you crazy, it is not so easy to wean off, you will fall into a vicious cycle.<br /><br />I know it may seem all a little harsh, but I feel that the show is far from seamless and somewhat patchy (*SPOILER ALERT*: Take for example when Andy Lau got brought to the police station: what? we were just told 'oh we have all the tapes and evidence against you since 1997', and THAT is how he got caught. Nope, no chasing-car action, just a jump-of-scene, which kind of undermined Wu's role as an undercover in the first place.) I suspect the lack of creativity is attributed to the fact that it is after all, a production of Mediacorp Raintree - a Singaporean production film company.\",\n",
              "        b'\"Holly\" is an issue-driven film, but it is neither manipulative nor overly sentimental. At its heart is it is a character-driven film, which wouldn\\'t be nearly so successful without the fleshed-out portrayals of Patrick (Ron Livingston), the lost soul with the gradually awakening conscience, and Holly (Thuy Nguyen), the strong-willed but ultimately over-matched young Vietnamese girl. From the vibrant locations and photography to the effective editing, everything is forthright and well-done. The contemporary classical score may put some off at first, but it is top-notch composition and underscores the admirable restraint which is evident throughout. This film, which raises many issues but provides few clear-cut answers, ultimately succeeds in raising awareness of and compassion for Holly and the many who share her plight. Kudos to those who managed to get it made.',\n",
              "        b\"The plot of 'Edison' was decent, but one actor in particular ruined the entire film. Justin Timberlake ruined the film with every line he uttered during the movie. He is by far one of the worst actors I have ever seen, and should face the same fate as the entire F.R.A.T. squad. <br /><br />Whether it was an emotional scene, an action scene, or even a silent scene, Justin Timberlake managed to ruin it. <br /><br />Do not waste your time watching this film. Don't even bother downloading it, midget porn would be a much better choice.<br /><br />And Justin, if you're reading this, stick to music. Even though you're no good at that, you've done a wonderful job tricking people into thinking you can actually sing.\",\n",
              "        b\"I was really looking forward to seeing this film, but after watching it I was really disappointed. The best bit was when Stephen King was in it. Rober John Berk cannot act to save his life and neither can any of the others. A few of the performances even made me laugh out loud! The film was was not as I imagined it, after reading the book which was awesome, I imagined it darker and a lot scarier. If i was Stephen, I would be really mad!<br /><br />I don't know why they changed the ending, I thought the ending of the book was very good. If you just found out the pie killed your daughter, you wouldn't feed it to anyone else would you?!<br /><br />Book was so much better!\",\n",
              "        b'There is one good thing in this movie: Lola Glaudini\\'s ass! Sorry to be so blunt but it\\'s the truth. Too bad she didn\\'t do a nude. It would at least have made this mess tolerable. We see another chick\\'s boobs but she\\'s nowhere near Lola. And man, is Armand Assante old or what? The man looks like crap! \"Consequence\" is the usual B-Movie you would expect. The story had potential. It\\'s like they had good ideas but didn\\'t know how to execute them. The cinematography is just plain awful. Ugly! The directing is uninspired and the end result is a bland thriller with lame twists and washed up actors. Lola Gaudini is great as the vixen in a cheap, slutty way but not even she saves \"Consequence\" from being trash and not funny trash, just plain old stinking trash.',\n",
              "        b\"I had an uncle who committed suicide after serving in Vietnam because of mental problems he experienced after coming back. So when I saw part of this movie one night on a pay-for-view channel I was intrigued. I wanted to know what my uncle went through and felt as he got ready for Vietnam. I went out and rented this movie and I have to say it is the most heart-wrenching film I have ever seen. I bought the DVD immediately after renting it. The way it pulls you in so many different directions emotionally is something I've never experienced with any other film. As far as Vietnam subject films go, I think it is the best one, although Platoon runs a close second. Besides all of that, I think it is also Colin Farrell's best performance as an actor. I like him in most of his movies but in this one he was incredible. I gave this a 10 rating because it is one of my top five favorite movies.\",\n",
              "        b\"Story of Ireland in the 70/s. This film is a beautiful reconstruction of small time Ireland in the 1970/s. All the gang are there see below. Master Boyle , The Boys , The Cannon , SP O'Donnell , Senator Doogan's Daugter , Rose , Agnes , Maura and Una. See this film.Feel Ireland as it was.<br /><br />\",\n",
              "        b'Even though it has one of the standard \"Revenge Price Plots,\" this film is my favorite of Vincent Price\\'s work. Gallico has that quality that is missing in so many horror film characters- likeability. When you watch it, you feel for him, you feel his frustration, the injustices against him, and you cheer him on when he goes for vengeance, even though he frightens you a little with his original fury. As the film goes on, his character becomes tragic. He\\'s committed his murder, but now he must kill to cover that up. And again to cover that one up. And again... your stomach sinks with his soul as it goes down its spiral- like watching a beloved brother turn into a hood. Even if the revenge story is of old, the plot devices themselves are original- Gallico uses his tricks to kill in more and more inventive ways. A shame this one isn\\'t available for home veiwing.',\n",
              "        b'Literally every aspect of this science-fiction low-budget flick falls under the categories that have been classified for its predecessors, contemporaries, and those to follow. Bad special effects, a weak storyline, ridiculous amounts of blood and gore, annoying and pointless characters, all that you can expect. \"Attack of the Sabretooth\" is about a new vacation resort where the proprietors are genetically engineering Smilodon cats for an attraction. The cats escape and begin to kill people, the guy running the show wants to save them and not warn the unsuspecting visitors about them, and there is a band of visitors and some employees who rebel and plan to kill the cats.<br /><br />Special effects-wise, the film is about an average achievement given its budget. The sabretooths are portrayed through poor CGI. Amazingly, though, the cats look more realistic in an up-close, detailed shot rather than the longer, more distant shots where the CGI is better concealed. Their attacks are recklessly bloody and distasteful. Just as you\\'d expect, they attack, rip off some arms and legs, and leave very little behind. This is part of the reason why the film descends into poor schlock.<br /><br />The plot and characters are just as horrendous. We have some college kids who come to the island and they plan a scavenger hunt. And take it very, VERY seriously. Even so much as to trespass on private property, tamper with security systems, and steal. Why are they taking a simple game so seriously? Did I miss something? Was there money involved? Or were they sent to do it? I don\\'t know, I could barely follow the film. But it seemed to me like they were just doing it for the fun of doing it. Even so, they went too far for normal.<br /><br />\"Attack of the Sabretooth\" is a very poor film. Even for a low-budget sci-fi flick, it is a very poor and cheap example. It will bore most viewers to tears, might be attractive for some, and will make you chuckle and laugh all the way through. And keep in mind, this is not a comedy, this is a cheap horror flick, so it\\'s not suppose to be comical.',\n",
              "        b'The Western society has been fed ideas about India being a poor country. Movies like these only make those beliefs stronger. Such illustrations make it all the more difficult for Indians to be accepted abroad. Agreed there are poor and homeless in India, but why is there no representation of educated people if not the successful ones.<br /><br />I totally hated the idea of the movie portraying Patrick Swayze as another Mother Teressa. In my opinion this movie has shown India in a very bad light giving wrong notions. It is unjust to discuss only one aspect of the society. Exactly the reason why people ask me, \"When we go to India, can we hire an elephant right outside the airport so we do not have to walk on the roads so full of filth and snakes?\"<br /><br />Those who want a second opinion on contemporary Indian society should watch \"Monsoon Wedding\".',\n",
              "        b'This movie was so poorly written and directed I fell asleep 30 minutes through the movie. The jokes in the movie are corny and even though the plot is interesting at some angles, it is too far fetched and at some points- ridiculous. If you are 11 or older you will overlook the writing in the movie and be disappointed, but if you are 10 or younger this is a film that will capture your attention and be amazed with all the stunts (which I might add are poorly done) and wish you were some warrior to. The casting in this movie wasn\\'t very good, and the music was very disappointing because it was like they were trying to build up the tension but it didn\\'t fit at all. On a scale of 1-10 (10 being excellent, 1 being horrible) the acting in this movie is a 4. Brenda Song is talented in comedy, but with this kind of movie, in some of the more serious scenes, her acting was laughable. When she made some of her \"fighting\" poses, I started laughing out loud. I think the worst thing about this movie is definitely the directing, for example, the part where her enemy turns out to be the person the evil villain is possesing, how her voice turns dark and evil, I think that was incredibly stupid, and how Wendy\\'s (Brenda Song)teachers were all her teachers at school being possessed by monks, that was pretty ridiculous to. So to sumamrize it all, a disappointing movie, but okay if you\\'re 10 or under.',\n",
              "        b'This film is not morbid, nor is it depressing. It -is- sad, because AIDS in the early \\'90s -was- sad. But its real message is one of love and perseverance.<br /><br />Mark and Tom were in a long-term, loving relationship. Their devotion to each other is evident right away, and as the ravages of AIDS escalate and become the focal point of their lives, you see strength and commitment that are truly heartwarming.<br /><br />When \"Silverlake Life\" was originally released, I was deeply involved in HIV/AIDS education and health care, volunteering as a counselor at an HIV/AIDS clinic. The film spoke to me like no other AIDS film of its day could, because Mark and Tom were real people, living the very experiences that I saw on a daily basis in real life. I knew from firsthand experience what it was like to watch AIDS eat away at formerly vibrant, young, healthy people; seeing it happen to Mark and Tom in the film was very much like watching my real-life friends deteriorate. It touched me in a way that, even all these years later, still affects me.',\n",
              "        b'boring stuff we got here. His 5 minute shorts are better than this. know why? because there only 5 minutes and not 91 minutes or how ever long this is. <br /><br />The plot is kinda... eh.. the last half hour is alright the rest is boring and not funny =( I had my hopes up, the trailer made it look funny but the pace of this movie is pretty slow and sadly not funny. Just plain boring klaymen running into each other and trying to make us laugh.. not working.<br /><br />Maybe next time knox.<br /><br />Maybe re-cutting this movie and adding better scenes would do a lot of healing but for now its just not good.',\n",
              "        b\"Cavemen was by far the biggest load of crap I have ever wasted my time watching. This show based on the Geico commercials is less entertaining then an actual 30 sec ad for Geico. The makeup was half ass-ed to say the least, hard to imagine a caveman with prefect white teeth even after going to the dentist. This show could of had potential for a funny series if they could of gotten the cast from the commercials, that in it self makes for a lousy show. Perhaps if the writers were the same from the Geico ads this may of had a chance, instead the pilot lacked a good story line. I give this show a 1 out of 10, I would of liked to put a zero out of 10 but that was not an option. I pray for a quick death to this show, I'd give it less then 5 episodes before it dies a deserving death.\",\n",
              "        b\"(SPOILERS included) This film surely is the best Amicus production I've seen so far (even though I still have quite a few to check out). The House that Dripped Blood is a horror-omnibus\\xc2\\x85an anthology that contains four uncanny stories involving the tenants of a vicious, hellish house in the British countryside. A common mistake in productions like this is wasting too much energy on the wraparound story that connects the separate tales\\xc2\\x85Peter Duffel's film wisely doesn't pay too much attention to that. It simply handles about a Scotland Yard inspector who comes to the house to investigate the disappearance of the last tenant and like that, he learns about the bizarre events that took place there before. All four stories in this film are of high quality-level and together, they make a perfect wholesome. High expectations are allowed for this film, since it was entirely written by Robert Bloch! Yes, the same Bloch who wrote the novel that resulted in the brilliant horror milestone `Psycho'\\xc2\\x85 We're also marking Peter Duffel's solid and very professional debut as a director. <br /><br />The four stories \\xc2\\x96 chapters if you will \\xc2\\x96 in the House that Dripped Blood contain a good diversity in topics, but they're (almost) equally chilling and eerie. Number one handles about a horror-author who comes to the house, along with his wife, in order to find inspiration for his new book. This starts out real well, but after a short while, his haunted and stalked by the villain of his own imagination. The idea in this tale isn't exactly original\\xc2\\x85but it's very suspenseful and the climax is rather surprising. The second story stars (Hammer) horror-legend Peter Cushing as a retired stockbroker. Still haunted by the image of an unreachable and long-lost love, he bumps into a wax statue that looks exactly like her. Cushing is a joy to observe as always and \\xc2\\x96 even though the topic of Wax Museums isn't new \\xc2\\x96 this story looks overall fresh and innovating. This chapter also contains a couple of delightful shock-moments and there's a constant tense atmosphere. It's a terrific warm-up for what is arguably the BEST story: number 3. Another legendary actor in this one, as Christopher Lee gives away a flawless portrayal of a terrified father. He's very severe and strict regarding his young daughter and he keeps her in isolation for the outside world. Not without reason, since the little girl shows a bizarre fascination for witchcraft and voodoo. Besides great acting by Lee and the remarkable performance of Chloe Franks as the spooky kid, this story also has a terrific gothic atmosphere! The devilish undertones in this story, along with the creepy sound effects of thunder, make this story a must for fans of authentic horror. The fourth and final story, in which a vain horror actor gets controlled by the vampire-cloak he wears, is slightly weaker then the others when it comes to tension and credibility, but that the overload of subtle humor more or less compensates that. There's even a little room for parody in this story as the protagonist refers to co-star Christopher Lee in the Dracula series! Most memorable element in this last chapter is the presence of the gorgeous Ingrid Pitt! The cult-queen from `The Vampire Lovers' certainly is one of the many highlights in the film\\xc2\\x85her cleavage in particular. <br /><br />No doubt about it\\xc2\\x85The House that Dripped Blood will be greatly appreciated by classic horror fans. I truly believe that, with a bit of mood-settling preparations, this could actually be one of the few movies that'll terrify you and leave a big impression. Intelligent and compelling horror like it should be! Highly recommended. One extra little remark, though: this film may not\\xc2\\x85repeat MAY NOT under any circumstances be confused with `The Dorm that Dripped Blood'. This latter one is a very irritating and lousy underground 80's slasher that has got nothing in common with this film, except for the title it stole.\",\n",
              "        b\"Because that's all she does through out this whole movie,is get naked for no good reason.When Tarzan is bitten by a snake,she suddenly removes her clothes.Since when is a boa constrictor poisonous?How did Tarzan get poisoned by the way ? This whole movie is screwed up.They couldn't get the species of animals for this movie right.Whats an Orangutang doing hanging around those chimpanzees?He must have wandered off the set of a much better film.The group of cannibal tribe's men look caucasin.Why?And why was Bo and her dad painted,if they were going to be eaten later?It was probably just a lame excuse to show her breasts and curves again.Her dad while hunting, approaches and acts stupidly around a bull elephant while standing too close to it.Any real African bull elephant that wasn't from the circus,would've stomped this moron's butt.Any smart hunter would've started shooting the minute he saw it.And I can't help but wonder if the camera was on LSD,because it kept showing various scenes that went in slow motion, for no good reason.It didn't make good sense at all.The boa constrictor that Tarzan wrestled with in the water,looks like one of those 12 Ft rubber snakes you can buy at a local Spencer Gifts.Tarzan was strangly speechless in this film,maybe from Bo flashing herself so much.I'm sorry,but this is a rip off of a classic Black and White Tarzan movie,with a similar but better story.Not To mention plotting .There's one scene in that I saw that everyone forgot to mention.*(SPOILERS ALERT)*The scene where he is trying to rescue Jane and her dad,has him standing too close to a running water spout.It made it seem like he's urinating on someone below him.Eww!Also, him and Jane are fooling around on a beach,with perverted monkeys jumping and clapping.She sure did take her dad's death real well.*(END OF SPOILERS)*There should be a Surgeon General's Warning on this film.That seeing Bo naked too much in this movie,will make you go blind.\",\n",
              "        b'I just got this video used and I was watching it last night. The acting started out extremely bad (hey------hey------twister) but got very good soon after wards. The tornadoes looked extremely fake, and many of the CGI effects were very dodgy, but the scene with the house cracking apart and the contents inside being blown around and sucked out were extremely well done, and just about on par with movies like Twister. The scenes of devastation were also extremely well done too. The story was very well written, and it\\'s refreshing to see a movie like this stray away from the same old \"disaster formulas\" movies of this genre seems to have been stuck in for 30 years.<br /><br />While this movie had a very weird mix of FX and acting quality, this merits an A in my book.',\n",
              "        b'When I had first heard of \"Solar Crisis\" then got a load of the cast, I wondered why I had never heard of a movie with such a big cast before. Then I saw it.<br /><br />Now I know.<br /><br />For a movie that encompasses outer space, the sun, vast deserts and sprawling metropolises, this is an awfully cramped and claustrophobic feature; it feels like everyone is hunkered close together so the camera won\\'t have to pull too far back.<br /><br />And the effects, while good, are pretty underwhelming; we\\'re talking about the imminent destruction of the planet Earth if a team of scientists and soldiers cannot deflect a deadly solar flare. But other than shouting, sweating and a red glow about everything, there\\'s no real feel of emergency.<br /><br />Don\\'t get me started about the cast. What Heston, Palance, Matheson, Boyle, et al are doing in this movie without even bothering to act with any feel for the material is anyone\\'s guess. Makes you wonder who else\\'s condos aren\\'t paid for in Hollywood....<br /><br />And as far as the end goes.... Well, let\\'s just say it\\'s tense and intriguing but it\\'s too little too late in an effort like this. If it had kept up that kind of pace all through the film, maybe I would have heard of \"Solar Crisis\" sooner.<br /><br />Two stars. Mostly for lost opportunities and bad career moves. <br /><br />I wonder how Alan Smithee keeps his job doing junk like this?',\n",
              "        b'Skippy from \"Family Ties\" plays Eddie, a wussy \\'metal\\' nerd who gets picked on. When his favorite wussy \\'metal\\' singer, Sammi Curr, dies, he throws a hissy fit tearing down all the posters on his bedroom wall. But when he later gets an unreleased record that holds the spirit of his dead \\'metal\\' idol. He first gets sucked into ideas of revenge, but then he doesn\\'t want to take it as far as Sammi does. Which isn\\'t really that far as his main victims only seem to go to the hospital. This movie is utterly laughable and has about as much to do with real metal as say, \"Rock Star\". OK, maybe a tad more than that piece of junk, but you get my point. And how ANYone can root for a guy played by Skippy from \"Family Ties\" I haven\\'t a clue. The cameo by Gene Simmons is OK, and Ozzy Osbourne reaches coherency, I applaud him for that, but otherwise skip this one.<br /><br />My Grade: D <br /><br />Eye Candy:Elise Richards gets topless, an a topless extra at a pool party',\n",
              "        b'This movie is pretty awful but I have some interesting information about it:<br /><br />It was filmed in 1976 at Northern Arizona University in Flagstaff, AZ, as well as at Oak Creek Canyon near Sedona, AZ. A good bulk of the extras in the film are then-drama students from NAU. I was a freshman there that year, minoring in theatre, but for some reason I didn\\'t get involved with the production. I did however know several people who did and can supply this rather odd fact:<br /><br />There is a scene in this movie where two of the principals, as part of their hazing ritual, have to run naked into the woods. They are seen from behind in the movie, doing just that. The thing is, those aren\\'t the actors at all but two guys I knew from the theatre department. The identity of these \"stunt posteriors\" will remain anonymous, at least to this website, unless they decide to, um, \"reveal\" themselves!',\n",
              "        b\"Although there's Flying Guillotines as part of the title of this movie, it has no connections to the original Flying Guillotines (1975) and its sequel Flying Guillotines II (1978). The two originals are masterpieces of kung-fu movie and still stands out as a classic. This is a much inferior copy of the original, and even as a regular kung-fu movie, it's below average.<br /><br />First of all, this movie doesn't have much acting. It's one senseless fight scene after another, and flying guillotine doesn't even play a major part in them. Story is about some Shaolin monks who are tracking down some villains who've took off with a sacred book, and an evil prince who owns part of this book is part of the plot. The same evil prince has plans to lure the monks in and use the flying guillotines on them.<br /><br />There are four movies with Flying Guillotine as part of its title. This in my opinion is of least quality. The design of the flying guillotine in this movie is different from the other three indicating that this movie was produced by a different entity from the other three.<br /><br />The movie has no chemistry asides from being unintentionally funny due to poor production. <br /><br />Best skip this and watch the two originals.\",\n",
              "        b'I thought Rachel York was fantastic as \"Lucy.\" I have seen her in \"Kiss Me, Kate\" and \"Victor/Victoria,\" as well, and in each of these performances she has developed very different, and very real, characterizations. She is a chameleon who can play (and sing) anything!<br /><br />I am very surprised at how many negative reviews appear here regarding Rachel\\'s performance in \"Lucy.\" Even some bonafide TV and entertainment critics seem to have missed the point of her portrayal. So many people have focused on the fact that Rachel doesn\\'t really look like Lucy. My response to that is, \"So what?\" I wasn\\'t looking for a superficial impersonation of Lucy. I wanted to know more about the real woman behind the clown. And Rachel certainly gave us that, in great depth. I also didn\\'t want to see someone simply \"doing\" classic Lucy routines. Therefore I was very pleased with the decision by the producers and director to have Rachel portray Lucy in rehearsal for the most memorable of these skits - Vitameatavegamin and The Candy Factory. (It seems that some of the reviewers didn\\'t realize that these two scenes were meant to be rehearsal sequences and not the actual skits). This approach, I thought, gave an innovative twist to sketches that so many of us know by heart. I also thought Rachel was terrifically fresh and funny in these scenes. And she absolutely nailed the routines that were recreated - the Professor and the Grape Stomping, in particular. There was one moment in the Grape scene where the corner of Rachel\\'s mouth had the exact little upturn that I remember Lucy having. I couldn\\'t believe she was able to capture that - and so naturally.<br /><br />I wonder if many of the folks who criticized the performance were expecting to see the Lucille Ball of \"I Love Lucy\" throughout the entire movie. After all, those of us who came to know her only through TV would not have any idea what Lucy was really like in her early movie years. I think Rachel showed a natural progression in the character that was brilliant. She planted all the right seeds for us to see the clown just waiting to emerge, given the right set of circumstances. Lucy didn\\'t fit the mold of the old studio system. In her frustrated attempts to become the stereotypical movie star of that era, she kept repressing what would prove to be her ultimate gifts.<br /><br />I believe that Rachel deftly captured the comedy, drama, wit, sadness, anger, passion, love, ambition, loyalty, sexiness, self absorption, childishness, and stoicism all rolled into one complex American icon. And she did it with an authenticity and freshness that was totally endearing. \"Lucy\" was a star turn for Rachel York. I hope it brings a flood of great roles her way in the future. I also hope it brings her an Emmy.',\n",
              "        b\"Hm. While an enjoyable movie to poke plot holes, point out atrocious acting, primitive (at best) special effects (all of which have caused me to view this movie three times over the past six years), Severed ranks among the worst I've ever seen. I'm never sure who the protagonists are, all I know is that the killer uses a portable guillotine, as seen in the dance floor murder scene. All in all, I don't really like the movie, because only the first 30 minutes are enjoyable, the rest is a mishmash of confusing dialog and imagery that fail to progress the story to a logical conclusion (which I can't remember anyway).\",\n",
              "        b\"This movie scared the crap out of me! I have to admit that I spent most of the film watching through my fingers but what I saw was really scary. I screamed out loud two or three times during the show.<br /><br />Film-making-wise my favorite aspects were the sound and photography. The sound was particularly great and the setting was really creepy beautiful. I read somewhere that it's some weird husband and wife team that made it. For some reason that makes this even stranger for me. <br /><br />If you enjoy the jumps and jitters of scary movies than this one is for you! Very suspenseful and a great movie to rent with a bunch of friends who love to watch movies curled up on a sofa screaming like little girls!\",\n",
              "        b'First of all, I ain\\'t American or Middle-Eastern. Second of all, I don\\'t have a religion. The closest thing to a religion I have are sports and movies. Henceforth, I believe I would be best served to supply an opinion of neutrality and free from bias.<br /><br />Most of these short films are an utter disgrace. This dreadful event should be used to commemorated all those innocent people whom were murdered by \"some\" barbaric and uncivilized morons. Instead, most of what I saw in these short films were conceited attempts to score varied political points. Examples:<br /><br />1) Ken Loach\\'s segment. Sure, we are all sad that this dude had a hard life in his country but what has that got to do with the innocent victims of 2001? Two wrongs don\\'t make a right?! Whatever! This film should have a subtitle for those who have trouble listening to a partially incoherent Chilean-English accent.<br /><br />2) Most disturbing is Youssef Chahine\\'s segment. It is obvious that he has trouble with logic. He justified the murders due to - America being a democracy and because some Americans voted the politicians in power, then all Americans in the end are responsible for the actions and decisions made by their leaders on the Middle-East. Helloooo! Is this guy for real?? Some Americans don\\'t even vote! Some Americans don\\'t even know where the Middle-East is; some don\\'t even know what religion is practiced there; and majority don\\'t know the real political issues that are played behind the scenes. ### Mr Chahine, the reason why we have all these problems in the world is because there are too many people with your kind of logic. The innocent victims in the Twin Towers came from around the world. The murdered firefighters, rescuers, office workers, by-standers and flight passengers have nothing to do with politics. And yet, we are not allowed to go about our lives because \"some\" people think everyone has to choose a side or a religion. We are perceived as fair game for the extreme politics.<br /><br />3) The Israeli segment showed their own bombed victims. Another filmmaker using this event to push their own political agenda. Sometimes, it is not about you. Some people always think about the \"me, me, me.\" Sometimes, it is about other people.<br /><br />4) Idrissa Ouedraogo\\'s segment is a joke and another political point scorer. They obviously want money from the international community by highlighting their poverty. Blah, blah, blah.<br /><br />This movie denigrates the memory of \"Sept. 11th, 2001\" victims.<br /><br />The best thing for it is the TRASH CAN.',\n",
              "        b'In this film we have the fabulous opportunity to see what happened to Timon and Pumbaa in the film when they are not shown - which is a lot! This film even goes back to before Simba and (presumbably) just after the birth of Kiara. <br /><br />Quite true to the first film, \"Lion King 1/2 (or Lion King 3 in other places)\" is a funny, entertaining, exciting and surprising film (or sequel if that\\'s what you want to call it). A bundle of surprises and hilarity await for you!<br /><br />While Timon and Pumbaa are watching a film at the cinema (with a remote control), Timon and Pumbaa have an argument of what point of \"The Lion King\" they are going to start watching, as Timon wants to go to the part when he and Pumbaa come in and Pumbaa wants to go back to the beginning. They have a very fair compromise of watching the film of their own story, which is what awaits... It starts with Timon\\'s first home...<br /><br />For anyone with a good sense of humour who liked the first films of just about any age, enjoy \"Lion King 1/2\"! :-)',\n",
              "        b\"This is the kind of movie that wants to be good but sucks. First thing, what the hell are those punk trying to do with the school? I think the kids doesn't seem to realize the gravity of the situation. Deker guy say to the girl that they under his responsibility when she ask why he wants to go back for them but right after this he gives a gun to the wheel chair dude and wants him to go alone repair the phone line. Where is the responsibility there? I understand poor actors must pay their food but why not just give them the money that takes to make a stupid movie like that or give that money to a charity. Oh yea and none of them knows how to aim. The stupid punk guy shoots in the cafeteria nowhere like a crazy. They all want to look professional but they all suck. One more thing I don't believe that there's no emergency exit in the school the kids are trying several doors but they all locked. What happens if there's a fire and the dumass security guard is dead? It is illegal to not have an emergency exit in school. Anyway there's a lot more to say but it would be too long. I spent some time of my life to watch a crap.\",\n",
              "        b'I was shocked and surprised by the negative reviews I saw on the web, I thought Cinderella 2 (as well as 3) is a very cute and funny sequel for everyone - kids and adults...like me, I am 22 years old.<br /><br />I also find it and very informative film, it shows lessons on being true to yourself and following your heart. I thought it has great animation, and the voice casting was very good; the songs performed by Brooke Allison too. Since this film has been divided into three flashbacks/stories, my favorite out of the three, is the story of when Jaq the mouse, became a human for a day, thanks to Fairy Godmother and her magic.',\n",
              "        b'I saw this movie way back at the first theatrical release, in a justifiably empty theater. Believe it or not, after decades of watching movies, this one still sticks clearly in my mind as the worst movie of all time; or at least the worst that I would allow myself to watch.<br /><br />The acting is far beneath the standard set by any random group of drunken high-school students yanked off the street and forced to learn their lines in 5 minutes or less.<br /><br />After the first shock of disbelief, we laughed for a while as each scene hit new lows. But after a while, even that dubious pleasure wore off and it just got to be really sad.',\n",
              "        b'Kurt Thomas stars as Jonathan Cabot some kind of a gymnast who trains for a special game which involves being hunted by a group of ninjas, but those ninjas won\\'t stand a chance, especially since Cabot is a gymnast! Taken as a whole Gymkata is one helluva bad movie, the atrocious acting, the god-awful script and really incompetent directing make the quality below human standards, however this movie is so terrible it becomes really, really funny. I mean with dialog such as \"I know I\\'ll outsleep them!\" or \"Ha!, your through!\" only add to the mock value that Gymkata more then obtains. Besides it\\'s (Wisely) the only movie that has are hero a gymnast who finds things to swing on in the heat of the moment.',\n",
              "        b\"This is not the worst film I have seen of Peter Greenaway but it is close. That dishonor goes to the even worse Pillow Book. This director's films of 3 I have seen I find them all to be miserable. Like The Cook...,whatever positive cinematic flourishes he displays, are totally unredeemed by the repugnancy of his material and overall presentation.\",\n",
              "        b'The thing that really gets me about this movie (that is, the thing about this movie that makes me physically ill) is that someone actually paid to have it made. There is absolutely no purpose for the existence of this movie. It is not frightening, it is not thought provoking, it is not entertaining, it is not good. It is a sleeping pill made of cyanide. The DVD case compares it to Blair Witch, Evil Dead, and a few other decent movies, making the filmmaker\\'s desperation glaringly obvious. It is nothing like any other movie ever made; it is far, far worse. The claims of an \"extremely shocking ending you will never forget\" are the equivalent of one ton of stinking horse droppings. Please do not ever waste your time watching this piece of trash, because it may make you sterile. The man who wrote this movie should be wiped off the Writer\\'s Guild membership list, and never allowed to film anything again. Because if he thought THIS was a movie worth making, he probably does not have much of anything to offer in the future. Zero stars. May Grod have mercy on the soul of anyone unfortunate enough to see this. I am going to go vomit now.',\n",
              "        b\"Elisha Cuthbert plays Sue a fourteen year old girl who has lost her mother and finds it hard to communicate with her father, until one day in the basement of her apartment she finds a secret magic elevator which takes her to back to the late 18th century were she meets two other children who have lost their father and face poverty...<br /><br />I was clicking through the channels and found this..I read the synopsis and suddenly saw Elisha Cuthbert...I thought okay....and watched the movie.. i didn't realise Elisha had done films before....'The Girl Next Door and 24' Elisha provides a satisfactory performance, the plot is a little cheesy but the film works...Its amazing how this young girl went on to become the Hottest babe in Hollywood!\",\n",
              "        b'It\\'s got Christopher Lee, it\\'s got huge banks of 1970s computers that make Teletype noises as letters appear on the screen, it\\'s got radioactive isotopes that not only glow in the dark but emit pulsing thrumming noises, it\\'s got volcanoes! evil aliens disguised as nuns! tidal waves! earthquakes! exploding cars! exploding coffee machines! and as a climax the entire planet blows up. How on earth does this film managed to be so incredibly, mind-numbingly DULL? The answer, my friend is because 90% of this movie is made up of establishing shots, most of them involving long tracks, pans, or zooms in combinations, or occasionally all three, that do nothing except give the crew something to do. There are endless shots of our protagonists driving, getting in and out of cars, driving again, walking around looking at stuff, getting in cars and driving... I just sat there watching endless parade of nothingness in stupefaction muttering \"Say something, please somebody, just say something... DO something... anything!...\"<br /><br />The dialogue, when it does come, is terrible.<br /><br />\"Maybe their minutes are measured on a different scale than ours.\" was a typically meaningless line. The script culminates in the destruction of the world by stock footage, justified in this speech from Lee as the head alien:<br /><br />\"The planet Earth has emitted an over-abundance of diseases, they are contaminating the Universe. All the planets light years away from here will suffer unless it is destroyed!\" <br /><br />This is is Neanderthal SF script writing. This is the sort of motivation you find in the sort of 1950\\'s Japanese monster suit movies aimed at 7 year olds. It is, and I collect such things, the most god-awful line from an English language SF movie since Buster Crabbe retired. It beggars belief that this movie was released in the same year as Star Wars and Close Encounters.<br /><br />Lee, who always struck me as a smart, useful actor with a sure knowledge of his limits, delivers his lines as if he is going to kill his agent for getting him into this pile of drek. I don\\'t blame him.',\n",
              "        b\"Billy Crystal normally brings the crowd to laughter, but in this movie he and all the rest of them cannot bring any smile on my face.... or perhaps just one. They call it comedy, I say it's a waste of my time.\",\n",
              "        b'I love horror movies that brings out a real amount of mystery like say \"silent hill\" ( which i found to be quite good, but still, was missing something ) and movies that keeps you guessing, this i thought was one of those movies. At first the movie starts out with some really good suspense and builds up a good starting point for a good horror scene, but after that it just rolls down the hill and from there it only goes faster and faster down. I mentioned silent hill at first for a reason because i can see a lot of \"stolen\" themes from that movie in here.. All in all i would say, watch silent hill instead of this one, its better, its more scary, it has a lot more suspense and also the ending is a lot better.. And best of all, you wont feel ripped off as i did with this one.. This just seems to be one of those \"i like that movie so I\\'m gonna re-make it in my own really bad version\" kinda movie.. Oh and one more thing... Lordi.. in a horror movie... thats like trying to scare a kid with a care bear who has \"hug me and i will love you forever\" written on the stomach of it..',\n",
              "        b\"I came here for a review last night before deciding which TV movie to settle in front of, and those I found made this one look unmissable. How misled I feel!<br /><br />Firstly, it needs to be pointed out up front that this is very much a housewife's daytime movie. The performances are wooden, every sentence is an attempt at 'poignant' in the way that housewife's daytime movies and bad soap operas always are, and it is based in that predictable and well-trodden premise that men (particularly soldiers) are essentially violent and incompassionate. The whole movie is about the 'drama' apparent in the moments when the male characters threaten to develop a second dimension.<br /><br />If that sounds tolerable (or even enjoyable) to you, then be warned. Linda Hamilton's German accent, while quite good, is painfully distracting - as is her face, for some reason. The other performances are no doubt an enduring source of embarrassment to their perpetrators, with painfully thin and obvious characterizations being the order of the day. There are few surprises, but do watch for the 'Monty Pythonesque' endless supply of food and drink that miraculously appears from the hungry soldiers' knapsacks!<br /><br />I wasn't expecting action, but I had hoped for beautiful or textural or emotionally charged. What I got was a particularly bad Christmas 'feelgood' story that will have an intelligent audience cringing with the crapulence of it all.<br /><br />Watch it under the folowing circumstances: 1: There's nothing else on. 2: You are a fan of predictable 'housewife takes on men and wins' TV movies. 3: The only way you can appreciate a true story is when Hollywood turns it into a feature film. 4: You've imbibed enough nog that your emotions are easily stirred by unsophisticated storytelling.\",\n",
              "        b\"If you want to watch something that is for 'him' and 'her' so to say then this is the film to pick. I am a sucker for rom coms but my husband is not always so keen (what a guy!!!). Anyway I managed to get him to watch it because I told him it was about sport, and you know what, he loved it!!!<br /><br />Drew Barrymore is very funny and her leading man (sorry but can't remember his name) is equally as good. When I watched the film it was called 'The Perfect Match' but I think the title was changed for the UK as it is based on the book Fever Pitch and there was already a film made about football with that title (the same film but the UK version - phew!),<br /><br />Anyway all of the reviews on here will tell you more details if you need them buy girls, take it from me, get your hubby/boyfriend in front of the television on a Saturday night and you will both laugh and cry together. A real gem.\",\n",
              "        b\"I loved this movie since I was 7 and I saw it on the opening day. It was so touching and beautiful. I strongly recommend seeing for all. It's a movie to watch with your family by far.<br /><br />My MPAA rating: PG-13 for thematic elements, prolonged scenes of disastor, nudity/sexuality and some language.\",\n",
              "        b\"Where the hell are all these uncharted islands where prehistoric monsters lurk, evil doctors perform their experiments, madmen hold the ultimate karate championship, and the uber-rich hunt humans for sport? I had no idea there were still so many uncharted islands out there, but if you take into account the number of movies that utilize one of these mysterious islands as a location, you'd have to assume that there are at least 50 of these suckers out there. It always winds up feeling so damned convenient and I immediately deduct points from any movie that uses this hackneyed device. Hammerhead is the story of a mad scientist who is conducting experiments on one of these uncharted islands, so the movie already had a lot to make up for before it even began.<br /><br />The island in this movie used to belong to Dr. Moreau, but has recently been purchased by the Re-Animator himself, Jeffrey Combs. Old Jeffrey is doing some kind of cutting edge stem cell research, which has led him to start working with sharks while searching for a cure for cancer. If that sounds familiar, that's because this is roughly the same basic set-up as the smart shark facility in Deep Blue Sea, not to mention a host of other Nu Image movies. So apparently, Jeffrey's son was dying of cancer which prompted our mad doctor to start experimenting on his progeny. He did some kind of super fancy gene splicing and so forth, turning his son into a shark-man.<br /><br />William Forsythe leads a crew of unknown actors to the island to look into the doctor's experiments. If someone would have given him a sailor's hat, William would have been a dead ringer for the Skipper from Gilligan's Island. In typical Bond Villain fashion, the doctor decides that all of these intruders would make nice chum for his son. Not chums, like buddies... chum, like shark food. So enter shark-boy who starts stalking the Skipper and his cohorts all over the island. They, of course, make half-hearted attempts to escape and are thwarted over and over again while being chased by a guy in a rubber shark-man suit. <br /><br />The movie didn't make up any of the points that it lost for taking place on one of those dastardly deserted islands. It's funny that this movie is called Hammerhead, it made me think of an old joke. Why do you hit yourself in the head with a hammer? Because it feels so good when you stop. That's pretty much how this movie is. The only reason to watch it is because it feels so good when it's over.\",\n",
              "        b\"- I had planned to write something explaining what I didn't like about this movie, but this is going to be more difficult than I thought. Honestly, I can't remember much about it. I watched it just three days ago and it's made almost no impression on me. That's usually the sign of a real stinker. About the only thing I remember was being incredibly bored by most of it. The novelty of having a Humphrey Bogart look-a-like as the detective wore off real quick. It would be different if he could act, but he's a one-note entertainer. The kill scenes were amateurishly handled and there was no suspense leading up to them. If you can't spot the killer five minutes into the movie, you need to see more Euro horror. The casting is a dead giveaway to the killer's identity.\",\n",
              "        b'Some people loved \"The Aristocrats\" and others hated it, frequently walking out in the middle. Reactions to Eddie Izzard aren\\'t likely to be that extreme -- if you can handle a transvestite comedian (who says he likes girls) and has a vocabulary that makes, shall we say, enough use of the \"f\" word that his program would be one long beep if presented on network television. Many of Izzard\\'s fans are so devoted that they see no flaws whatsoever in his performances. On the other hand, I thought this show was occasionally flatter than Izzard\\'s chest but also more often than not funny and, in spots, absolutely hilarious. He has a way of connecting references from routines early in the show to his later routines. He\\'s not a story teller. He\\'s not a joke maker. He\\'s not a frenetic fantasist like Robin Williams. He plays around with ideas, some of which work and some of which -- a routine with the San Francisco cable car and Alcatraz, for instance -- are completely unfunny. He has a way, however, of moving gracefully past the flopped routines and extending the ones that connect. I gave this performance a 7 and might be persuaded to raise it to an 8. But a 10? No way.',\n",
              "        b'This must be one of the worst movies I have ever seen. I was actually expecting a bad movie but I was caught by surprise believe it or not. The storyline is the traditional, all clich\\xc3\\xa9es are included.<br /><br />The dialogue is so poorly written that you actually laugh when the otherwise half-descent actors are trying to make it sound real. The photo is not too good, the music is so malplac\\xc3\\xa9e it actually made me angry, the actors are not even trying, altho the script makes it almost impossible you could expect more from people that have been acting for 30 years and the so called action scenes actually manage to lack the \"action\" itself.<br /><br />I dont understand why these types of bad movies keep on coming, who is financing this shit? Where is the screening ? And why on earth do actors take on this mission impossible script?<br /><br />There are a million hollywood-movies in this genre without even aspiration of reaching the theaters, but even them Straight To Video things actually manages to look professional in comparison.<br /><br />I can not say anything positive about this except the title which explains it all, I feel robbed of 2 hours of my life.',\n",
              "        b'\"Fear of a Black Hat\" is a superbly crafted film. I was laughing almost continuously from start to finish. If you have the means, I highly recommend viewing this movie It is, by far, the funniest movie I have had the pleasure to experience. Grab your stuff!',\n",
              "        b\"Any movie in which Brooke Shields out-acts a Fonda is going to be both an anomaly and a horror. Shields actually is only bad because she's youthful, inexperienced, and clearly not well directed by her co-star. Peter Fonda is bad because, well, because he's bad. I liked him in Ulee's Gold, years later, but Lord above, he's awful here. Not that anyone else is good. There's not a single performance (outside Henry Fonda's delightful cameo) that is even passable. I've never seen a movie with this many bad performances. In the case of Luke Askew, the chief villain, it's clear this is because of poor dialogue and direction, as he's done good work in the past. But his partner, played by Ted Markland, is an embarrassing ham. The writing is just bloody awful, and the actors cannot be faulted for the terrible things they have to say. But they say them so badly! The editing and direction are worse than pedestrian. Shots are held way too long for no dramatic reason, or cut off before the impact of the scene can be realized. This picture was far worse than I'd imagined and would have been utterly forgotten (and probably never even made) without the participation of a couple of famous names. One bright spot: the cinematography in the Grand Canyon is exquisite, capturing the beauty of that area in a way even big-screen Imax productions have not quite done so well. And finally: either this is a bad version of Paper Moon, with a lovable pair of father-daughter types, or it's a bad version of Pretty Baby, with a considerably more icky romantic relationship between a forty-something and a 13-year-old. It suggests more of the latter than the former, and thus is pretty disturbing.\",\n",
              "        b'Robert Standish\\'s novel is about a triangular romantic situation on a Ceylonese tea plantation... So the events of the Ceylon backgrounds and pictorial beauty are rewarding points to William Dieterle\\'s film...<br /><br />The story is about a rich powerful planter (Peter Finch), who brings a charming and tender beauty (Elizabeth Taylor), into the jungle as his bride... The plantation, of course, is endangered by some kind of wild life... For this reason Taylor \\xc2\\x97 elegant as never in dazzling costumes \\xc2\\x97 finds herself in a strange atmosphere... The echo determination of a ghost, the bad temper of a husband obsessed by the memory of his autocratic father, a highly dangerous disease, and the fury of wild animals...<br /><br />In her confusion, boredom and annoyance Elizabeth Taylor looks to a friendly face, a pretentious foreman (Dana Andrews), who admires her beauty but tries to conquer her love...<br /><br />With echoes of \"Jane Eyre,\" the mysterious Yorkshire mansion with a brooding master, and \"Rebecca,\" the innocent young second wife hunted by the image of the glamorous first wife, \"Elephant Walk\" is a menace melodrama with a wide view of a huge tropical bungalow, exotic dances with rage excessively colorful, stampeding big bull elephants, amazing mansion set on fire, all in the company of an exquisite creature with an unquestioned beauty and talent...<br /><br />The movie gave Liz a change of scenery, and allowed her more creative energy and self-respect than most of her other willful debutante-rebels\\xc2\\x85 The wife here has a sharp tongue and a strong will, and so Taylor plays her movie star heroine with more spirit than she was given credit for\\xc2\\x85',\n",
              "        b\"Tashan - the title itself explains the nature of the movie.<br /><br />This type of movies are actually made for flop. What a shame that Yash Raj Films produces such movies those are worthless than C-grade movies. Or even some C-grade movies have better and pleasing story than Tashan. The much hyped and over-confidently promoted Tashan poorly bombed at the box-office which it certainly deserved.<br /><br />In my view, this is the worst movie ever made from honourable Yash Raj Films' banner. How come they handled such a heavy project to new Vijay Krishna Acharya who has no actual sense of making action flick? He tried to imitate Sanjay Gadhvi's ways of making like Dhoom but he suffered at last. The action scenes are more like than comics or cartoon movies made for exhausting the audiences.<br /><br />The story also loses in its meaning and substances to tenderly win the audiences' hearts. In most scenes Anil Kapoor reminds me of southern Tamil star Rajnikant in his body languages and wordly expressions. I am not a fan of neither Saif nor Akshay, but the award of Kareena should have finally gone to Saif''s hand instead of Akshay. Just from the starting point I expected of it, but at the end it displeased me with the climax truth. Saif is the main behind the whole adventure, while Akshay joins in the midst. In any movie, the final should be judged with the whole characters of the entire story and the award or say reward should be given to the one who deserves credit. And Tashan loses in this way, and unexpectedly failed to become a hit.<br /><br />Akshay's has nothing new to show off his comedian talent here but still reminds of his previous movies. He seriously need to form a new image to his fans that would impress them again and again. In between Saif did a great job in Race, and now he returned again in his hilarious nature through this movie. But he has fully developed himself in the acting field. And last but not the least about Kareena. She looks really hot with bikini dress of which some complain as she became too lean. But I myself don't think so, instead she became slim. Yes slim!!! it is a good factor for a female to attract the major people (or say, male). Beside them it is nice that Saif's son Ibrahim appears in the beginning & last as young Saif. I hope now he too will lean forward in target of making acting as his career.<br /><br />Those who like this Tashan they are either mentally immatured or still want to go back to childhood, or say want to be admitted in an asylum. Thumbs down to debutante director Vijay Krishna Acharya who mishandled the project offered by Yash Raj Films. In future he should experiment and study the script minimum of 5 years before going into practical directions.<br /><br />Sorry, I don't like to rate good stars to this type of junk movies.\",\n",
              "        b\"Spoilers... if such a thing is possible... . . . . . . . As a rabid Robin Williams fan, I felt it necessary to buy this film as first on-screen appearance. Wow... I could not imagine a more mind-numbing movie. Essentially, the movie takes one bad joke after another that your uncle Artie would tell you after dinner and dramatizes them. Robin Williams plays a lawyer in a 30 sec skit.<br /><br />I'm all for bawdy humor, but this humor wasn't pleasantly vulgar, or ribald... it was just mind-numbing. There are no redeeming qualities to this film, other than Robin Williams fanatics, like me, who simply have to own every piece of film.\"],\n",
              "       dtype=object)>,\n",
              " <tf.Tensor: shape=(64,), dtype=int32, numpy=\n",
              " array([1, 0, 1, 0, 0, 1, 0, 0, 0, 0, 1, 1, 0, 0, 0, 1, 0, 1, 0, 0, 0, 1,\n",
              "        1, 1, 0, 0, 0, 1, 0, 0, 1, 0, 1, 0, 0, 0, 0, 1, 0, 1, 0, 1, 0, 1,\n",
              "        0, 0, 0, 0, 1, 0, 0, 0, 0, 1, 1, 0, 0, 1, 0, 1, 0, 1, 0, 0],\n",
              "       dtype=int32)>)"
            ]
          },
          "metadata": {},
          "execution_count": 20
        }
      ]
    },
    {
      "cell_type": "code",
      "source": [
        "int_vectorization = tf.keras.layers.TextVectorization(\n",
        "    max_tokens=VOCAB_SIZE,\n",
        "    standardize='lower_and_strip_punctuation',\n",
        "    output_mode='int',\n",
        "    output_sequence_length=MAX_SEQUENCE_LENGTH\n",
        ")\n",
        "\n",
        "binary_vectorization = tf.keras.layers.TextVectorization(\n",
        "    max_tokens=VOCAB_SIZE,\n",
        "    standardize='lower_and_strip_punctuation',\n",
        "    output_mode='binary'\n",
        ")"
      ],
      "metadata": {
        "id": "zzX6U7SzcZJr"
      },
      "execution_count": null,
      "outputs": []
    },
    {
      "cell_type": "code",
      "source": [
        "train_text = raw_train_ds.map(lambda text, label: text)\n",
        "int_vectorization.adapt(train_text)\n",
        "binary_vectorization.adapt(train_text)"
      ],
      "metadata": {
        "id": "0zDj2cE5dhRU"
      },
      "execution_count": null,
      "outputs": []
    },
    {
      "cell_type": "code",
      "source": [
        "text_sample = next(iter(train_text))[5]\n",
        "int_output = int_vectorization(text_sample)\n",
        "binary_output = binary_vectorization(text_sample)"
      ],
      "metadata": {
        "id": "WG0wTOi8dXc7"
      },
      "execution_count": null,
      "outputs": []
    },
    {
      "cell_type": "code",
      "source": [
        "print(f\"Sample Review:{text_sample}\")\n",
        "print(int_output)"
      ],
      "metadata": {
        "colab": {
          "base_uri": "https://localhost:8080/"
        },
        "id": "RwOVxFH6eS4p",
        "outputId": "fc63cea7-fe2f-4154-b219-802f3945ef04"
      },
      "execution_count": null,
      "outputs": [
        {
          "output_type": "stream",
          "name": "stdout",
          "text": [
            "Sample Review:b'Ronald Colman plays a famous Broadway actor who has begun to lose his mind and sense of identity. After years of playing a wide range of parts, he can\\'t remember who he exactly is--who are his roles and who is the self. And, much more serious, he begins to see and hear his play even in regular everyday life. So, since he\\'s currently playing in \"Othello\", he begins to act jealous and suspicious--just like the title character. Ultimately, it leads him to the depths of insanity and murder.<br /><br />I saw this film years ago and liked it. I just saw it again and loved it. Now perhaps some of my enthusiasm is because I have always liked Ronald Colman and this is a great triumph for him--and for which he earned the Best Actor Oscar. And, looking at the competition that year (Gregory Peck for GENTLEMAN\\'S AGREEMENT, John Garfield for BODY AND SOUL, William Powell for LIFE WITH FATHER and Michael Redgrave for MOURNING BECOMES ELECTRA), I think Colman was a very good choice, as he stretched from his usual comfort zone and did a much more demanding role.<br /><br />Now I noticed that one reviewer hated this film because they hated Shakespeare--and this took up about half their review talking about their dislike for him. However, this film isn\\'t really about Shakespeare, and it doesn\\'t matter at all if you dislike Shakespeare. I am no huge fan of Shakespeare, but marveled at the small portions of the play that Colman re-enacted--though, as I said, this is NOT a really movie about Shakespeare. Instead, it\\'s a wonderful portrait of an actor losing his mind and mixing his stage role with reality. It could have been ANY play, though \"Othello\" was an excellent choice because of the murder scene--which gets acted out for real later in the film.<br /><br />Overall, a very clever film due to a lovely script--with some overtones of Film Noir. Fortunately, the acting was terrific also, as Colman had excellent support from Signe Hasso, Shelly Winters and Edmond O\\'Brien (who was particularly good--he played his part just right). And, considering the great George Cukor was directing, it\\'s no wonder it\\'s a wonderful film from start to finish.'\n",
            "tf.Tensor(\n",
            "[6102 7612  287    4  790 2181  286   37   44 8229    6 1605   25  345\n",
            "    3  275    5 2217  101  151    5  383    4 2228 2133    5  516   28\n",
            "  174  366   37   28  594    1   24   25  558    3   37    7    2 1290\n",
            "    3   73   51  589   28  777    6   69    3  826   25  297   54    8\n",
            " 1823 2819  119   38  230  231 3772  383    8 5932   28  777    6  502\n",
            " 3722    3    1   39    2  412  108 1097    9  787   89    6    2 6244\n",
            "    5 6676    3    1   13   10  207   11   20  151  610    3  411    9\n",
            "   10   41  207    9  173    3  443    9  149  372   47    5   55 5134\n",
            "    7   84   10   26  203  411 6102 7612    3   11    7    4   87 3983\n",
            "   16    1   16   60   28 4246    2  115  286  830    3  283   31    2\n",
            " 3481   12  340 5469 6021   16    1    1  305 7293   16  642    3 1387\n",
            "  997 2468   16  119   17  335    3  482 8484   16    1  456    1   10\n",
            "  103 7612   14    4   53   50 1111   15   28 5099   36   25  609 5282\n",
            " 3120    3  117    4   73   51 6695 5750   13  149   10 1991   12   29\n",
            " 2100 1711   11   20   84   35 1711    1   11  542   58   43  363   65\n",
            "  731  655   43   65 2919   16   89  190   11   20  206   63   43 2423\n",
            "    3    9  145  539   31   32   45   23 2919 2423   10  238   57  615\n",
            "  324    5 2423   19    1   31    2  389 9840    5    2  297   12 7612\n",
            "    1   15   10  293   11    7   22    4   63   18   43 2423  294   30\n",
            "    4  387 3032    5   34  286 2123   25  345    3 6315   25  895  218\n",
            "   17  668    9   97   26   75   96  297  148 5932   14   34  307 1111\n",
            "   84    5    2  586    1  201 1030   46   16  146  301    8    2  739\n",
            "   13  428    4   53 1080   20  679    6    4 1282    1   47 8152    5\n",
            "   20 1459 2991    2  112   14 1277   78   15 7612   67  307 1458   36\n",
            "    1    1    1 3817    3    1 7996   37   14  552    1  247   25  171\n",
            "   41  208    3 1062    2   87  721    1   14  941   30   57  563   30\n",
            "    4  387   20   36  368    6 1368    0    0    0    0    0    0    0\n",
            "    0    0    0    0    0    0    0    0    0    0    0    0    0    0\n",
            "    0    0    0    0    0    0    0    0    0    0    0    0    0    0\n",
            "    0    0    0    0    0    0    0    0    0    0    0    0    0    0\n",
            "    0    0    0    0    0    0    0    0    0    0    0    0    0    0\n",
            "    0    0    0    0    0    0    0    0    0    0    0    0    0    0\n",
            "    0    0    0    0    0    0    0    0    0    0    0    0    0    0\n",
            "    0    0    0    0    0    0    0    0    0    0    0    0    0    0\n",
            "    0    0    0    0    0    0    0    0    0    0    0    0    0    0\n",
            "    0    0    0    0    0    0    0    0    0    0    0    0    0    0\n",
            "    0    0    0    0    0    0    0    0], shape=(512,), dtype=int64)\n"
          ]
        }
      ]
    },
    {
      "cell_type": "code",
      "source": [
        "print(f\"Sample Review:{text_sample}\")\n",
        "print(binary_output)"
      ],
      "metadata": {
        "colab": {
          "base_uri": "https://localhost:8080/"
        },
        "id": "VddMx1xheUX4",
        "outputId": "0f0052aa-7363-4725-a0d7-a38c20586863"
      },
      "execution_count": null,
      "outputs": [
        {
          "output_type": "stream",
          "name": "stdout",
          "text": [
            "Sample Review:b'Ronald Colman plays a famous Broadway actor who has begun to lose his mind and sense of identity. After years of playing a wide range of parts, he can\\'t remember who he exactly is--who are his roles and who is the self. And, much more serious, he begins to see and hear his play even in regular everyday life. So, since he\\'s currently playing in \"Othello\", he begins to act jealous and suspicious--just like the title character. Ultimately, it leads him to the depths of insanity and murder.<br /><br />I saw this film years ago and liked it. I just saw it again and loved it. Now perhaps some of my enthusiasm is because I have always liked Ronald Colman and this is a great triumph for him--and for which he earned the Best Actor Oscar. And, looking at the competition that year (Gregory Peck for GENTLEMAN\\'S AGREEMENT, John Garfield for BODY AND SOUL, William Powell for LIFE WITH FATHER and Michael Redgrave for MOURNING BECOMES ELECTRA), I think Colman was a very good choice, as he stretched from his usual comfort zone and did a much more demanding role.<br /><br />Now I noticed that one reviewer hated this film because they hated Shakespeare--and this took up about half their review talking about their dislike for him. However, this film isn\\'t really about Shakespeare, and it doesn\\'t matter at all if you dislike Shakespeare. I am no huge fan of Shakespeare, but marveled at the small portions of the play that Colman re-enacted--though, as I said, this is NOT a really movie about Shakespeare. Instead, it\\'s a wonderful portrait of an actor losing his mind and mixing his stage role with reality. It could have been ANY play, though \"Othello\" was an excellent choice because of the murder scene--which gets acted out for real later in the film.<br /><br />Overall, a very clever film due to a lovely script--with some overtones of Film Noir. Fortunately, the acting was terrific also, as Colman had excellent support from Signe Hasso, Shelly Winters and Edmond O\\'Brien (who was particularly good--he played his part just right). And, considering the great George Cukor was directing, it\\'s no wonder it\\'s a wonderful film from start to finish.'\n",
            "tf.Tensor([1. 1. 1. ... 0. 0. 0.], shape=(10000,), dtype=float32)\n"
          ]
        }
      ]
    },
    {
      "cell_type": "code",
      "source": [
        "import matplotlib.pyplot as plt\n",
        "\n",
        "plt.plot(binary_output.numpy())\n",
        "plt.xlim(0,VOCAB_SIZE)"
      ],
      "metadata": {
        "colab": {
          "base_uri": "https://localhost:8080/",
          "height": 447
        },
        "id": "xw7oxi-eesDw",
        "outputId": "8dbe1db3-9446-4e8d-c965-183222dbaf9b"
      },
      "execution_count": null,
      "outputs": [
        {
          "output_type": "execute_result",
          "data": {
            "text/plain": [
              "(0.0, 10000.0)"
            ]
          },
          "metadata": {},
          "execution_count": 18
        },
        {
          "output_type": "display_data",
          "data": {
            "text/plain": [
              "<Figure size 640x480 with 1 Axes>"
            ],
            "image/png": "[encoded data removed]"
          },
          "metadata": {}
        }
      ]
    },
    {
      "cell_type": "code",
      "source": [
        "train_ds = raw_train_ds.cache().prefetch(buffer_size=AUTOTUNE)\n",
        "val_ds = raw_val_ds.cache().prefetch(buffer_size=AUTOTUNE)\n",
        "test_ds = raw_test_ds.prefetch(buffer_size=AUTOTUNE)"
      ],
      "metadata": {
        "id": "pLZ9JZCtlh9Y"
      },
      "execution_count": null,
      "outputs": []
    },
    {
      "cell_type": "markdown",
      "source": [
        "## Model"
      ],
      "metadata": {
        "id": "_9XgVdT-fMU-"
      }
    },
    {
      "cell_type": "code",
      "source": [
        "int_rnn_model = keras.models.Sequential()\n",
        "#int_rnn_model.add(keras.layers.Input(shape=(None,)))\n",
        "int_rnn_model.add(int_vectorization)\n",
        "int_rnn_model.add(keras.layers.Embedding(input_dim=VOCAB_SIZE, output_dim=64))\n",
        "int_rnn_model.add(keras.layers.SimpleRNN(128))\n",
        "int_rnn_model.add(keras.layers.Dense(1, activation='sigmoid'))\n",
        "\n",
        "int_rnn_model.summary()"
      ],
      "metadata": {
        "colab": {
          "base_uri": "https://localhost:8080/"
        },
        "id": "M9TmQCtYe9ZP",
        "outputId": "640cb20a-df9d-4edd-b712-430160fb78e5"
      },
      "execution_count": null,
      "outputs": [
        {
          "output_type": "stream",
          "name": "stdout",
          "text": [
            "Model: \"sequential\"\n",
            "_________________________________________________________________\n",
            " Layer (type)                Output Shape              Param #   \n",
            "=================================================================\n",
            " text_vectorization (TextVe  (None, 512)               0         \n",
            " ctorization)                                                    \n",
            "                                                                 \n",
            " embedding (Embedding)       (None, 512, 64)           640000    \n",
            "                                                                 \n",
            " simple_rnn (SimpleRNN)      (None, 128)               24704     \n",
            "                                                                 \n",
            " dense (Dense)               (None, 1)                 129       \n",
            "                                                                 \n",
            "=================================================================\n",
            "Total params: 664833 (2.54 MB)\n",
            "Trainable params: 664833 (2.54 MB)\n",
            "Non-trainable params: 0 (0.00 Byte)\n",
            "_________________________________________________________________\n"
          ]
        }
      ]
    },
    {
      "cell_type": "code",
      "source": [
        "int_rnn_model.compile(loss=keras.losses.BinaryCrossentropy(),\n",
        "                      optimizer=keras.optimizers.RMSprop(),\n",
        "                      metrics=['accuracy'])\n",
        "int_rnn_model.fit(train_ds,\n",
        "                  validation_data=val_ds,\n",
        "                  epochs=10)"
      ],
      "metadata": {
        "colab": {
          "base_uri": "https://localhost:8080/"
        },
        "id": "kjmGrkg6kcuQ",
        "outputId": "2a073ebe-4c25-4779-ed8a-55e70164bfba"
      },
      "execution_count": null,
      "outputs": [
        {
          "output_type": "stream",
          "name": "stdout",
          "text": [
            "Epoch 1/10\n",
            "\u001b[1m625/625\u001b[0m \u001b[32m━━━━━━━━━━━━━━━━━━━━\u001b[0m\u001b[37m\u001b[0m \u001b[1m149s\u001b[0m 233ms/step - accuracy: 0.5009 - loss: 0.7060 - val_accuracy: 0.5076 - val_loss: 0.6953\n",
            "Epoch 2/10\n",
            "\u001b[1m625/625\u001b[0m \u001b[32m━━━━━━━━━━━━━━━━━━━━\u001b[0m\u001b[37m\u001b[0m \u001b[1m198s\u001b[0m 226ms/step - accuracy: 0.4974 - loss: 0.6963 - val_accuracy: 0.5076 - val_loss: 0.6950\n",
            "Epoch 3/10\n",
            "\u001b[1m625/625\u001b[0m \u001b[32m━━━━━━━━━━━━━━━━━━━━\u001b[0m\u001b[37m\u001b[0m \u001b[1m141s\u001b[0m 225ms/step - accuracy: 0.4997 - loss: 0.6961 - val_accuracy: 0.5076 - val_loss: 0.6949\n",
            "Epoch 4/10\n",
            "\u001b[1m625/625\u001b[0m \u001b[32m━━━━━━━━━━━━━━━━━━━━\u001b[0m\u001b[37m\u001b[0m \u001b[1m140s\u001b[0m 225ms/step - accuracy: 0.4993 - loss: 0.6960 - val_accuracy: 0.5076 - val_loss: 0.6947\n",
            "Epoch 5/10\n",
            "\u001b[1m625/625\u001b[0m \u001b[32m━━━━━━━━━━━━━━━━━━━━\u001b[0m\u001b[37m\u001b[0m \u001b[1m143s\u001b[0m 226ms/step - accuracy: 0.4991 - loss: 0.6959 - val_accuracy: 0.5076 - val_loss: 0.6948\n",
            "Epoch 6/10\n",
            "\u001b[1m625/625\u001b[0m \u001b[32m━━━━━━━━━━━━━━━━━━━━\u001b[0m\u001b[37m\u001b[0m \u001b[1m142s\u001b[0m 226ms/step - accuracy: 0.4987 - loss: 0.6959 - val_accuracy: 0.5076 - val_loss: 0.6947\n",
            "Epoch 7/10\n",
            "\u001b[1m625/625\u001b[0m \u001b[32m━━━━━━━━━━━━━━━━━━━━\u001b[0m\u001b[37m\u001b[0m \u001b[1m140s\u001b[0m 225ms/step - accuracy: 0.4978 - loss: 0.6958 - val_accuracy: 0.5076 - val_loss: 0.6945\n",
            "Epoch 8/10\n",
            "\u001b[1m625/625\u001b[0m \u001b[32m━━━━━━━━━━━━━━━━━━━━\u001b[0m\u001b[37m\u001b[0m \u001b[1m140s\u001b[0m 223ms/step - accuracy: 0.5007 - loss: 0.6957 - val_accuracy: 0.5076 - val_loss: 0.6944\n",
            "Epoch 9/10\n",
            "\u001b[1m625/625\u001b[0m \u001b[32m━━━━━━━━━━━━━━━━━━━━\u001b[0m\u001b[37m\u001b[0m \u001b[1m143s\u001b[0m 224ms/step - accuracy: 0.4993 - loss: 0.6956 - val_accuracy: 0.5076 - val_loss: 0.6944\n",
            "Epoch 10/10\n",
            "\u001b[1m625/625\u001b[0m \u001b[32m━━━━━━━━━━━━━━━━━━━━\u001b[0m\u001b[37m\u001b[0m \u001b[1m142s\u001b[0m 226ms/step - accuracy: 0.5005 - loss: 0.6955 - val_accuracy: 0.5076 - val_loss: 0.6945\n"
          ]
        },
        {
          "output_type": "execute_result",
          "data": {
            "text/plain": [
              "<keras.src.callbacks.history.History at 0x7a12dc340ca0>"
            ]
          },
          "metadata": {},
          "execution_count": 40
        }
      ]
    },
    {
      "cell_type": "code",
      "source": [
        "dense_model = keras.models.Sequential()\n",
        "dense_model.add(int_vectorization) # batch size, seq length\n",
        "dense_model.add(keras.layers.Embedding(input_dim=VOCAB_SIZE, output_dim=64)) #batch size, seq length, outputdim\n",
        "dense_model.add(keras.layers.Flatten())\n",
        "dense_model.add(keras.layers.Dense(64, activation='relu')) # batch size, seq length,\n",
        "dense_model.add(keras.layers.Dense(64, activation='relu'))\n",
        "dense_model.add(keras.layers.Dense(128, activation='relu'))\n",
        "dense_model.add(keras.layers.Dense(1, activation='sigmoid'))"
      ],
      "metadata": {
        "id": "TN0NGspzl4uJ"
      },
      "execution_count": null,
      "outputs": []
    },
    {
      "cell_type": "code",
      "source": [
        "dense_model.summary()"
      ],
      "metadata": {
        "colab": {
          "base_uri": "https://localhost:8080/"
        },
        "id": "gDxlo0ZJ9OMo",
        "outputId": "2d6aefc3-dd37-4ca3-bd78-9edab3af7eab"
      },
      "execution_count": null,
      "outputs": [
        {
          "output_type": "stream",
          "name": "stdout",
          "text": [
            "Model: \"sequential_1\"\n",
            "_________________________________________________________________\n",
            " Layer (type)                Output Shape              Param #   \n",
            "=================================================================\n",
            " text_vectorization (TextVe  (None, 512)               0         \n",
            " ctorization)                                                    \n",
            "                                                                 \n",
            " embedding_1 (Embedding)     (None, 512, 64)           640000    \n",
            "                                                                 \n",
            " flatten (Flatten)           (None, 32768)             0         \n",
            "                                                                 \n",
            " dense_1 (Dense)             (None, 64)                2097216   \n",
            "                                                                 \n",
            " dense_2 (Dense)             (None, 64)                4160      \n",
            "                                                                 \n",
            " dense_3 (Dense)             (None, 128)               8320      \n",
            "                                                                 \n",
            " dense_4 (Dense)             (None, 1)                 129       \n",
            "                                                                 \n",
            "=================================================================\n",
            "Total params: 2749825 (10.49 MB)\n",
            "Trainable params: 2749825 (10.49 MB)\n",
            "Non-trainable params: 0 (0.00 Byte)\n",
            "_________________________________________________________________\n"
          ]
        }
      ]
    },
    {
      "cell_type": "code",
      "source": [
        "dense_model.compile(loss=keras.losses.BinaryCrossentropy(),\n",
        "                      optimizer=keras.optimizers.RMSprop(),\n",
        "                      metrics=['accuracy'])\n",
        "dense_model.fit(train_ds,\n",
        "                  validation_data=val_ds,\n",
        "                  epochs=10)"
      ],
      "metadata": {
        "colab": {
          "base_uri": "https://localhost:8080/"
        },
        "id": "PdAA2uJH1TH1",
        "outputId": "f9ccac13-eb4a-4bab-cbb2-d249f92c8415"
      },
      "execution_count": null,
      "outputs": [
        {
          "output_type": "stream",
          "name": "stdout",
          "text": [
            "Epoch 1/10\n",
            "313/313 [==============================] - 27s 80ms/step - loss: 0.6433 - accuracy: 0.5907 - val_loss: 0.5337 - val_accuracy: 0.7376\n",
            "Epoch 2/10\n",
            "313/313 [==============================] - 23s 72ms/step - loss: 0.2902 - accuracy: 0.8753 - val_loss: 0.4530 - val_accuracy: 0.8346\n",
            "Epoch 3/10\n",
            "313/313 [==============================] - 24s 78ms/step - loss: 0.0686 - accuracy: 0.9758 - val_loss: 0.7188 - val_accuracy: 0.8192\n",
            "Epoch 4/10\n",
            "313/313 [==============================] - 21s 67ms/step - loss: 0.0133 - accuracy: 0.9953 - val_loss: 1.0163 - val_accuracy: 0.8302\n",
            "Epoch 5/10\n",
            "313/313 [==============================] - 23s 73ms/step - loss: 0.0093 - accuracy: 0.9975 - val_loss: 1.1800 - val_accuracy: 0.8240\n",
            "Epoch 6/10\n",
            "313/313 [==============================] - 22s 69ms/step - loss: 0.0070 - accuracy: 0.9977 - val_loss: 1.1314 - val_accuracy: 0.8332\n",
            "Epoch 7/10\n",
            "313/313 [==============================] - 23s 72ms/step - loss: 0.0075 - accuracy: 0.9974 - val_loss: 1.1791 - val_accuracy: 0.8250\n",
            "Epoch 8/10\n",
            "313/313 [==============================] - 23s 72ms/step - loss: 0.0059 - accuracy: 0.9984 - val_loss: 1.2676 - val_accuracy: 0.8264\n",
            "Epoch 9/10\n",
            "313/313 [==============================] - 22s 70ms/step - loss: 0.0046 - accuracy: 0.9987 - val_loss: 1.4674 - val_accuracy: 0.8270\n",
            "Epoch 10/10\n",
            "313/313 [==============================] - 22s 70ms/step - loss: 0.0027 - accuracy: 0.9992 - val_loss: 1.6158 - val_accuracy: 0.8244\n"
          ]
        },
        {
          "output_type": "execute_result",
          "data": {
            "text/plain": [
              "<keras.src.callbacks.History at 0x7b327010aa70>"
            ]
          },
          "metadata": {},
          "execution_count": 23
        }
      ]
    },
    {
      "cell_type": "code",
      "source": [
        "#adding two RNN layers\n",
        "rnn_model = keras.models.Sequential()\n",
        "rnn_model.add(int_vectorization)\n",
        "rnn_model.add(keras.layers.Embedding(input_dim=VOCAB_SIZE, output_dim=64, name='embedding'))\n",
        "rnn_model.add(keras.layers.SimpleRNN(32, return_sequences=True, name='simplernn_1'))\n",
        "rnn_model.add(keras.layers.SimpleRNN(64, return_sequences=False, name='simplernn_2'))\n",
        "rnn_model.add(keras.layers.Dense(1, activation='sigmoid', name='output'))\n",
        "rnn_model.summary()"
      ],
      "metadata": {
        "colab": {
          "base_uri": "https://localhost:8080/"
        },
        "id": "E7tmHsTE2rRl",
        "outputId": "137e169e-da92-4266-d876-b9e32b164ed2"
      },
      "execution_count": null,
      "outputs": [
        {
          "output_type": "stream",
          "name": "stdout",
          "text": [
            "Model: \"sequential_7\"\n",
            "_________________________________________________________________\n",
            " Layer (type)                Output Shape              Param #   \n",
            "=================================================================\n",
            " text_vectorization (TextVe  (None, 512)               0         \n",
            " ctorization)                                                    \n",
            "                                                                 \n",
            " embedding (Embedding)       (None, 512, 64)           640000    \n",
            "                                                                 \n",
            " simplernn_1 (SimpleRNN)     (None, 512, 32)           3104      \n",
            "                                                                 \n",
            " simplernn_2 (SimpleRNN)     (None, 64)                6208      \n",
            "                                                                 \n",
            " output (Dense)              (None, 1)                 65        \n",
            "                                                                 \n",
            "=================================================================\n",
            "Total params: 649377 (2.48 MB)\n",
            "Trainable params: 649377 (2.48 MB)\n",
            "Non-trainable params: 0 (0.00 Byte)\n",
            "_________________________________________________________________\n"
          ]
        }
      ]
    },
    {
      "cell_type": "code",
      "source": [
        "rnn_model.compile(loss=keras.losses.BinaryCrossentropy(),\n",
        "                  optimizer=keras.optimizers.RMSprop(),\n",
        "                  metrics=['accuracy'])\n",
        "rnn_model.fit(train_ds,\n",
        "              validation_data=val_ds,\n",
        "              epochs=5)"
      ],
      "metadata": {
        "colab": {
          "base_uri": "https://localhost:8080/"
        },
        "id": "fnB6FIyVBiXm",
        "outputId": "9318e3d4-2058-483b-97f7-12973d8c94fb"
      },
      "execution_count": null,
      "outputs": [
        {
          "output_type": "stream",
          "name": "stdout",
          "text": [
            "Epoch 1/5\n",
            "313/313 [==============================] - 115s 356ms/step - loss: 0.6975 - accuracy: 0.5019 - val_loss: 0.7065 - val_accuracy: 0.5064\n",
            "Epoch 2/5\n",
            "313/313 [==============================] - 110s 352ms/step - loss: 0.6841 - accuracy: 0.5274 - val_loss: 0.7167 - val_accuracy: 0.5026\n",
            "Epoch 3/5\n",
            "313/313 [==============================] - 115s 366ms/step - loss: 0.6611 - accuracy: 0.5365 - val_loss: 0.7376 - val_accuracy: 0.5018\n",
            "Epoch 4/5\n",
            "313/313 [==============================] - 111s 354ms/step - loss: 0.6430 - accuracy: 0.5423 - val_loss: 0.7838 - val_accuracy: 0.5006\n",
            "Epoch 5/5\n",
            "313/313 [==============================] - 110s 352ms/step - loss: 0.6452 - accuracy: 0.5458 - val_loss: 0.7714 - val_accuracy: 0.5042\n"
          ]
        },
        {
          "output_type": "execute_result",
          "data": {
            "text/plain": [
              "<keras.src.callbacks.History at 0x7b3273618be0>"
            ]
          },
          "metadata": {},
          "execution_count": 31
        }
      ]
    },
    {
      "cell_type": "code",
      "source": [
        "#changing optimizer to Adam\n",
        "rnn_model = keras.models.Sequential()\n",
        "rnn_model.add(int_vectorization)\n",
        "rnn_model.add(keras.layers.Embedding(input_dim=VOCAB_SIZE, output_dim=128, name='embedding'))\n",
        "rnn_model.add(keras.layers.SimpleRNN(32, return_sequences=True, name='simplernn_1'))\n",
        "rnn_model.add(keras.layers.Flatten())\n",
        "rnn_model.add(keras.layers.Dense(32, activation='tanh', name='dense_1'))\n",
        "rnn_model.add(keras.layers.Dense(1, activation='sigmoid', name='output'))\n",
        "rnn_model.summary()"
      ],
      "metadata": {
        "colab": {
          "base_uri": "https://localhost:8080/"
        },
        "id": "U0G9PZ_eCbpI",
        "outputId": "2a8cf4e1-2097-4a23-ec3c-b983af9b2e9b"
      },
      "execution_count": null,
      "outputs": [
        {
          "output_type": "stream",
          "name": "stdout",
          "text": [
            "Model: \"sequential_11\"\n",
            "_________________________________________________________________\n",
            " Layer (type)                Output Shape              Param #   \n",
            "=================================================================\n",
            " text_vectorization (TextVe  (None, 512)               0         \n",
            " ctorization)                                                    \n",
            "                                                                 \n",
            " embedding (Embedding)       (None, 512, 128)          1280000   \n",
            "                                                                 \n",
            " simplernn_1 (SimpleRNN)     (None, 512, 32)           5152      \n",
            "                                                                 \n",
            " flatten_4 (Flatten)         (None, 16384)             0         \n",
            "                                                                 \n",
            " dense_1 (Dense)             (None, 32)                524320    \n",
            "                                                                 \n",
            " output (Dense)              (None, 1)                 33        \n",
            "                                                                 \n",
            "=================================================================\n",
            "Total params: 1809505 (6.90 MB)\n",
            "Trainable params: 1809505 (6.90 MB)\n",
            "Non-trainable params: 0 (0.00 Byte)\n",
            "_________________________________________________________________\n"
          ]
        }
      ]
    },
    {
      "cell_type": "code",
      "source": [
        "rnn_model.compile(loss=keras.losses.BinaryCrossentropy(),\n",
        "                  optimizer=keras.optimizers.Adam(learning_rate=1e-3),\n",
        "                  metrics=['accuracy'])\n",
        "rnn_model.fit(train_ds,\n",
        "              validation_data=val_ds,\n",
        "              epochs=5)"
      ],
      "metadata": {
        "colab": {
          "base_uri": "https://localhost:8080/"
        },
        "id": "AuC6nT_IH9TQ",
        "outputId": "ccff75e1-dd84-431d-f13b-626d3364018c"
      },
      "execution_count": null,
      "outputs": [
        {
          "output_type": "stream",
          "name": "stdout",
          "text": [
            "Epoch 1/5\n",
            "313/313 [==============================] - 81s 252ms/step - loss: 0.6208 - accuracy: 0.6344 - val_loss: 0.4213 - val_accuracy: 0.8124\n",
            "Epoch 2/5\n",
            "313/313 [==============================] - 78s 249ms/step - loss: 0.2804 - accuracy: 0.8838 - val_loss: 0.3612 - val_accuracy: 0.8460\n",
            "Epoch 3/5\n",
            "313/313 [==============================] - 77s 246ms/step - loss: 0.1098 - accuracy: 0.9616 - val_loss: 0.5174 - val_accuracy: 0.8272\n",
            "Epoch 4/5\n",
            "313/313 [==============================] - 76s 244ms/step - loss: 0.0406 - accuracy: 0.9862 - val_loss: 0.6815 - val_accuracy: 0.8262\n",
            "Epoch 5/5\n",
            "313/313 [==============================] - 76s 243ms/step - loss: 0.0262 - accuracy: 0.9907 - val_loss: 0.7345 - val_accuracy: 0.8234\n"
          ]
        },
        {
          "output_type": "execute_result",
          "data": {
            "text/plain": [
              "<keras.src.callbacks.History at 0x7b3272373100>"
            ]
          },
          "metadata": {},
          "execution_count": 40
        }
      ]
    },
    {
      "cell_type": "code",
      "source": [
        "MAX_SEQUENCE_LENGTH = 250\n",
        "lstm_model = keras.models.Sequential()\n",
        "lstm_model.add(int_vectorization)\n",
        "lstm_model.add(keras.layers.Embedding(input_dim=VOCAB_SIZE, output_dim=64))\n",
        "lstm_model.add(keras.layers.LSTM(32, name='lstm_layer'))\n",
        "lstm_model.add(keras.layers.Flatten())\n",
        "lstm_model.add(keras.layers.Dense(64, activation='relu'))\n",
        "lstm_model.add(keras.layers.Dropout(0.2))\n",
        "lstm_model.add(keras.layers.Dense(1))\n",
        "\n",
        "lstm_model.summary()"
      ],
      "metadata": {
        "colab": {
          "base_uri": "https://localhost:8080/"
        },
        "id": "w6EQXhaEN1ig",
        "outputId": "6b4e6ec1-9311-4671-ea12-7578105c55e3"
      },
      "execution_count": null,
      "outputs": [
        {
          "output_type": "stream",
          "name": "stdout",
          "text": [
            "Model: \"sequential_22\"\n",
            "_________________________________________________________________\n",
            " Layer (type)                Output Shape              Param #   \n",
            "=================================================================\n",
            " text_vectorization_2 (Text  (None, 250)               0         \n",
            " Vectorization)                                                  \n",
            "                                                                 \n",
            " embedding_12 (Embedding)    (None, 250, 64)           640000    \n",
            "                                                                 \n",
            " lstm_layer (LSTM)           (None, 32)                12416     \n",
            "                                                                 \n",
            " flatten_12 (Flatten)        (None, 32)                0         \n",
            "                                                                 \n",
            " dense_15 (Dense)            (None, 64)                2112      \n",
            "                                                                 \n",
            " dropout_1 (Dropout)         (None, 64)                0         \n",
            "                                                                 \n",
            " dense_16 (Dense)            (None, 1)                 65        \n",
            "                                                                 \n",
            "=================================================================\n",
            "Total params: 654593 (2.50 MB)\n",
            "Trainable params: 654593 (2.50 MB)\n",
            "Non-trainable params: 0 (0.00 Byte)\n",
            "_________________________________________________________________\n"
          ]
        }
      ]
    },
    {
      "cell_type": "code",
      "source": [
        "my_callbacks = [\n",
        "    keras.callbacks.EarlyStopping(monitor='loss', patience=3, min_delta=0.1),\n",
        "    keras.callbacks.ModelCheckpoint(filepath='model.{epoch:02d}-{val_loss:.2f}.keras')\n",
        "]"
      ],
      "metadata": {
        "id": "XarJqlljTQrj"
      },
      "execution_count": null,
      "outputs": []
    },
    {
      "cell_type": "code",
      "source": [
        "lstm_model.compile(loss=keras.losses.BinaryCrossentropy(from_logits=True),\n",
        "                   optimizer=keras.optimizers.Adam(learning_rate=2e-4),\n",
        "                   metrics=['accuracy'])\n",
        "lstm_model.fit(train_ds,\n",
        "               validation_data=val_ds,\n",
        "               epochs=20,\n",
        "               callbacks=my_callbacks)"
      ],
      "metadata": {
        "colab": {
          "base_uri": "https://localhost:8080/"
        },
        "id": "Ycrdaw6COcfh",
        "outputId": "48319fd5-b58f-48bf-e09a-b83d1421be1d"
      },
      "execution_count": null,
      "outputs": [
        {
          "output_type": "stream",
          "name": "stdout",
          "text": [
            "Epoch 1/20\n",
            "313/313 [==============================] - 58s 175ms/step - loss: 0.3570 - accuracy: 0.8756 - val_loss: 0.4831 - val_accuracy: 0.8182\n",
            "Epoch 2/20\n",
            "313/313 [==============================] - 53s 171ms/step - loss: 0.3649 - accuracy: 0.8684 - val_loss: 0.4794 - val_accuracy: 0.8034\n",
            "Epoch 3/20\n",
            "313/313 [==============================] - 54s 174ms/step - loss: 0.3434 - accuracy: 0.8806 - val_loss: 0.6391 - val_accuracy: 0.7882\n",
            "Epoch 4/20\n",
            "313/313 [==============================] - 57s 181ms/step - loss: 0.3411 - accuracy: 0.8834 - val_loss: 0.4918 - val_accuracy: 0.8144\n"
          ]
        },
        {
          "output_type": "execute_result",
          "data": {
            "text/plain": [
              "<keras.src.callbacks.History at 0x7b326c20f1c0>"
            ]
          },
          "metadata": {},
          "execution_count": 64
        }
      ]
    },
    {
      "cell_type": "code",
      "source": [
        "#example convolution\n",
        "x = np.random.rand(1,4, 10)\n",
        "y = keras.layers.Conv1D(32, 3, activation='relu')(x)\n",
        "print(y.shape)"
      ],
      "metadata": {
        "colab": {
          "base_uri": "https://localhost:8080/"
        },
        "id": "Ifu1w25aO6Lo",
        "outputId": "e66d3396-6743-44b9-b02e-670dce148fb1"
      },
      "execution_count": null,
      "outputs": [
        {
          "output_type": "stream",
          "name": "stdout",
          "text": [
            "(1, 2, 32)\n"
          ]
        }
      ]
    },
    {
      "cell_type": "code",
      "source": [
        "x = np.random.rand(1, 10, 10, 1)\n",
        "y = keras.layers.Conv2D(32, 3, activation='relu')(x)\n",
        "print(y.shape)"
      ],
      "metadata": {
        "colab": {
          "base_uri": "https://localhost:8080/"
        },
        "id": "i1OtlN8a1iP8",
        "outputId": "71e46ede-5740-4bfc-9adc-c4b4c4e0dcc3"
      },
      "execution_count": null,
      "outputs": [
        {
          "output_type": "stream",
          "name": "stdout",
          "text": [
            "(1, 8, 8, 32)\n"
          ]
        }
      ]
    },
    {
      "cell_type": "code",
      "source": [
        "x = np.random.rand(1, 10, 10, 10, 1)\n",
        "y = keras.layers.Conv3D(32, 3, activation='relu')(x)\n",
        "print(y.shape)"
      ],
      "metadata": {
        "colab": {
          "base_uri": "https://localhost:8080/"
        },
        "id": "CaJo3nGD2N2N",
        "outputId": "ac1fc673-f615-4c4b-9c58-e1e77e98b38a"
      },
      "execution_count": null,
      "outputs": [
        {
          "output_type": "stream",
          "name": "stdout",
          "text": [
            "(1, 8, 8, 8, 32)\n"
          ]
        }
      ]
    },
    {
      "cell_type": "code",
      "source": [
        "x = np.random.rand(1,4, 10)\n",
        "y = keras.layers.SeparableConv1D(32, 3, activation='relu')(x)\n",
        "print(y.shape)"
      ],
      "metadata": {
        "colab": {
          "base_uri": "https://localhost:8080/"
        },
        "id": "V0TbKsGP2tOu",
        "outputId": "5d7c482b-ddff-4259-ed09-6e0690121d8e"
      },
      "execution_count": null,
      "outputs": [
        {
          "output_type": "stream",
          "name": "stdout",
          "text": [
            "(1, 2, 32)\n"
          ]
        }
      ]
    },
    {
      "cell_type": "code",
      "source": [
        "x = np.random.rand(1, 10, 10, 1)\n",
        "y = keras.layers.SeparableConv2D(32, 3, activation='relu')(x)\n",
        "print(y.shape)"
      ],
      "metadata": {
        "colab": {
          "base_uri": "https://localhost:8080/"
        },
        "id": "ULVsZu_h9ckZ",
        "outputId": "c44fb043-49b1-459f-c4b8-2027feb99128"
      },
      "execution_count": null,
      "outputs": [
        {
          "output_type": "stream",
          "name": "stdout",
          "text": [
            "(1, 8, 8, 32)\n"
          ]
        }
      ]
    },
    {
      "cell_type": "code",
      "source": [
        "x = np.array([1., 2., 3., 4., 5.])\n",
        "x = np.reshape(x, [1, 5, 1])\n",
        "max_pool_1d = keras.layers.MaxPooling1D(pool_size=2, strides=1, padding=\"valid\")\n",
        "max_pool_1d(x)"
      ],
      "metadata": {
        "colab": {
          "base_uri": "https://localhost:8080/"
        },
        "id": "DLCBUbWAAV36",
        "outputId": "d0cf720b-a4a3-4b87-8672-c75f6ec111d7"
      },
      "execution_count": null,
      "outputs": [
        {
          "output_type": "execute_result",
          "data": {
            "text/plain": [
              "<tf.Tensor: shape=(1, 4, 1), dtype=float32, numpy=\n",
              "array([[[2.],\n",
              "        [3.],\n",
              "        [4.],\n",
              "        [5.]]], dtype=float32)>"
            ]
          },
          "metadata": {},
          "execution_count": 26
        }
      ]
    }
  ]
}