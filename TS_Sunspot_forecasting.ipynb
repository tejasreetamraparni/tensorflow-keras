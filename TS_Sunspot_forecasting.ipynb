{
  "nbformat": 4,
  "nbformat_minor": 0,
  "metadata": {
    "colab": {
      "provenance": [],
      "gpuType": "V100",
      "mount_file_id": "1PSa_Up254uzmeRWRcX6Xm6Ui6gdZ4-Ga",
      "authorship_tag": "ABX9TyPqyr8SeSJWfN0BKH3/KkMD"
    },
    "kernelspec": {
      "name": "python3",
      "display_name": "Python 3"
    },
    "language_info": {
      "name": "python"
    },
    "accelerator": "GPU"
  },
  "cells": [
    {
      "cell_type": "markdown",
      "source": [
        "🥇Goal:\n",
        "\n",
        "Predict Sunspots using NASA's sunspot data that was recorded every month since the year 1749.\n",
        "\n",
        "https://www.swpc.noaa.gov/products/solar-cycle-progression\n",
        "\n",
        "❓ What are Sunspots?\n",
        "\n",
        "Points on the sun where the magnetic field is about 2500 times greater than that of Earth's. When sunspots are maximum, more solar flares occur causing disruptions in radio comms and power grids and more northern and southern lights appear, heightening geomagnetic storm activity for Earth."
      ],
      "metadata": {
        "id": "oMuGLpdcAkfS"
      }
    },
    {
      "cell_type": "markdown",
      "source": [
        "# Setup"
      ],
      "metadata": {
        "id": "pqu8VFgLC1P6"
      }
    },
    {
      "cell_type": "markdown",
      "source": [
        "## Import libraries"
      ],
      "metadata": {
        "id": "C-R3eHLADf_J"
      }
    },
    {
      "cell_type": "code",
      "source": [
        "import tensorflow as tf\n",
        "from tensorflow.keras import models, layers\n",
        "from tensorflow.keras import losses, optimizers, metrics\n",
        "\n",
        "import json\n",
        "import os\n",
        "import pandas as pd\n",
        "import numpy as np\n",
        "\n",
        "import matplotlib.pyplot as plt"
      ],
      "metadata": {
        "id": "a9NckvhkC0lb"
      },
      "execution_count": null,
      "outputs": []
    },
    {
      "cell_type": "markdown",
      "source": [
        "## Load Data"
      ],
      "metadata": {
        "id": "gL0MsEZVDbSC"
      }
    },
    {
      "cell_type": "code",
      "source": [
        "fpath = '/content/observed-solar-cycle-indices.json'\n",
        "\n",
        "df = pd.read_json(fpath)"
      ],
      "metadata": {
        "id": "BJElT5ggCxDg"
      },
      "execution_count": null,
      "outputs": []
    },
    {
      "cell_type": "code",
      "source": [
        "df.head()"
      ],
      "metadata": {
        "colab": {
          "base_uri": "https://localhost:8080/",
          "height": 206
        },
        "id": "6nzaFiKLD6cH",
        "outputId": "37f770c8-69e3-4c78-f0c5-52f785f7017c"
      },
      "execution_count": null,
      "outputs": [
        {
          "output_type": "execute_result",
          "data": {
            "text/plain": [
              "  time-tag    ssn  smoothed_ssn  observed_swpc_ssn  smoothed_swpc_ssn  f10.7  \\\n",
              "0  1749-01   96.7          -1.0               -1.0               -1.0   -1.0   \n",
              "1  1749-02  104.3          -1.0               -1.0               -1.0   -1.0   \n",
              "2  1749-03  116.7          -1.0               -1.0               -1.0   -1.0   \n",
              "3  1749-04   92.8          -1.0               -1.0               -1.0   -1.0   \n",
              "4  1749-05  141.7          -1.0               -1.0               -1.0   -1.0   \n",
              "\n",
              "   smoothed_f10.7  \n",
              "0            -1.0  \n",
              "1            -1.0  \n",
              "2            -1.0  \n",
              "3            -1.0  \n",
              "4            -1.0  "
            ],
            "text/html": [
              "\n",
              "  <div id=\"df-97e20280-6ea1-4c2d-b49f-7e0824791e4b\" class=\"colab-df-container\">\n",
              "    <div>\n",
              "<style scoped>\n",
              "    .dataframe tbody tr th:only-of-type {\n",
              "        vertical-align: middle;\n",
              "    }\n",
              "\n",
              "    .dataframe tbody tr th {\n",
              "        vertical-align: top;\n",
              "    }\n",
              "\n",
              "    .dataframe thead th {\n",
              "        text-align: right;\n",
              "    }\n",
              "</style>\n",
              "<table border=\"1\" class=\"dataframe\">\n",
              "  <thead>\n",
              "    <tr style=\"text-align: right;\">\n",
              "      <th></th>\n",
              "      <th>time-tag</th>\n",
              "      <th>ssn</th>\n",
              "      <th>smoothed_ssn</th>\n",
              "      <th>observed_swpc_ssn</th>\n",
              "      <th>smoothed_swpc_ssn</th>\n",
              "      <th>f10.7</th>\n",
              "      <th>smoothed_f10.7</th>\n",
              "    </tr>\n",
              "  </thead>\n",
              "  <tbody>\n",
              "    <tr>\n",
              "      <th>0</th>\n",
              "      <td>1749-01</td>\n",
              "      <td>96.7</td>\n",
              "      <td>-1.0</td>\n",
              "      <td>-1.0</td>\n",
              "      <td>-1.0</td>\n",
              "      <td>-1.0</td>\n",
              "      <td>-1.0</td>\n",
              "    </tr>\n",
              "    <tr>\n",
              "      <th>1</th>\n",
              "      <td>1749-02</td>\n",
              "      <td>104.3</td>\n",
              "      <td>-1.0</td>\n",
              "      <td>-1.0</td>\n",
              "      <td>-1.0</td>\n",
              "      <td>-1.0</td>\n",
              "      <td>-1.0</td>\n",
              "    </tr>\n",
              "    <tr>\n",
              "      <th>2</th>\n",
              "      <td>1749-03</td>\n",
              "      <td>116.7</td>\n",
              "      <td>-1.0</td>\n",
              "      <td>-1.0</td>\n",
              "      <td>-1.0</td>\n",
              "      <td>-1.0</td>\n",
              "      <td>-1.0</td>\n",
              "    </tr>\n",
              "    <tr>\n",
              "      <th>3</th>\n",
              "      <td>1749-04</td>\n",
              "      <td>92.8</td>\n",
              "      <td>-1.0</td>\n",
              "      <td>-1.0</td>\n",
              "      <td>-1.0</td>\n",
              "      <td>-1.0</td>\n",
              "      <td>-1.0</td>\n",
              "    </tr>\n",
              "    <tr>\n",
              "      <th>4</th>\n",
              "      <td>1749-05</td>\n",
              "      <td>141.7</td>\n",
              "      <td>-1.0</td>\n",
              "      <td>-1.0</td>\n",
              "      <td>-1.0</td>\n",
              "      <td>-1.0</td>\n",
              "      <td>-1.0</td>\n",
              "    </tr>\n",
              "  </tbody>\n",
              "</table>\n",
              "</div>\n",
              "    <div class=\"colab-df-buttons\">\n",
              "\n",
              "  <div class=\"colab-df-container\">\n",
              "    <button class=\"colab-df-convert\" onclick=\"convertToInteractive('df-97e20280-6ea1-4c2d-b49f-7e0824791e4b')\"\n",
              "            title=\"Convert this dataframe to an interactive table.\"\n",
              "            style=\"display:none;\">\n",
              "\n",
              "  <svg xmlns=\"http://www.w3.org/2000/svg\" height=\"24px\" viewBox=\"0 -960 960 960\">\n",
              "    <path d=\"M120-120v-720h720v720H120Zm60-500h600v-160H180v160Zm220 220h160v-160H400v160Zm0 220h160v-160H400v160ZM180-400h160v-160H180v160Zm440 0h160v-160H620v160ZM180-180h160v-160H180v160Zm440 0h160v-160H620v160Z\"/>\n",
              "  </svg>\n",
              "    </button>\n",
              "\n",
              "  <style>\n",
              "    .colab-df-container {\n",
              "      display:flex;\n",
              "      gap: 12px;\n",
              "    }\n",
              "\n",
              "    .colab-df-convert {\n",
              "      background-color: #E8F0FE;\n",
              "      border: none;\n",
              "      border-radius: 50%;\n",
              "      cursor: pointer;\n",
              "      display: none;\n",
              "      fill: #1967D2;\n",
              "      height: 32px;\n",
              "      padding: 0 0 0 0;\n",
              "      width: 32px;\n",
              "    }\n",
              "\n",
              "    .colab-df-convert:hover {\n",
              "      background-color: #E2EBFA;\n",
              "      box-shadow: 0px 1px 2px rgba(60, 64, 67, 0.3), 0px 1px 3px 1px rgba(60, 64, 67, 0.15);\n",
              "      fill: #174EA6;\n",
              "    }\n",
              "\n",
              "    .colab-df-buttons div {\n",
              "      margin-bottom: 4px;\n",
              "    }\n",
              "\n",
              "    [theme=dark] .colab-df-convert {\n",
              "      background-color: #3B4455;\n",
              "      fill: #D2E3FC;\n",
              "    }\n",
              "\n",
              "    [theme=dark] .colab-df-convert:hover {\n",
              "      background-color: #434B5C;\n",
              "      box-shadow: 0px 1px 3px 1px rgba(0, 0, 0, 0.15);\n",
              "      filter: drop-shadow(0px 1px 2px rgba(0, 0, 0, 0.3));\n",
              "      fill: #FFFFFF;\n",
              "    }\n",
              "  </style>\n",
              "\n",
              "    <script>\n",
              "      const buttonEl =\n",
              "        document.querySelector('#df-97e20280-6ea1-4c2d-b49f-7e0824791e4b button.colab-df-convert');\n",
              "      buttonEl.style.display =\n",
              "        google.colab.kernel.accessAllowed ? 'block' : 'none';\n",
              "\n",
              "      async function convertToInteractive(key) {\n",
              "        const element = document.querySelector('#df-97e20280-6ea1-4c2d-b49f-7e0824791e4b');\n",
              "        const dataTable =\n",
              "          await google.colab.kernel.invokeFunction('convertToInteractive',\n",
              "                                                    [key], {});\n",
              "        if (!dataTable) return;\n",
              "\n",
              "        const docLinkHtml = 'Like what you see? Visit the ' +\n",
              "          '<a target=\"_blank\" href=https://colab.research.google.com/notebooks/data_table.ipynb>data table notebook</a>'\n",
              "          + ' to learn more about interactive tables.';\n",
              "        element.innerHTML = '';\n",
              "        dataTable['output_type'] = 'display_data';\n",
              "        await google.colab.output.renderOutput(dataTable, element);\n",
              "        const docLink = document.createElement('div');\n",
              "        docLink.innerHTML = docLinkHtml;\n",
              "        element.appendChild(docLink);\n",
              "      }\n",
              "    </script>\n",
              "  </div>\n",
              "\n",
              "\n",
              "<div id=\"df-7140fefc-b9c4-456c-86f7-081b9dcaabf0\">\n",
              "  <button class=\"colab-df-quickchart\" onclick=\"quickchart('df-7140fefc-b9c4-456c-86f7-081b9dcaabf0')\"\n",
              "            title=\"Suggest charts\"\n",
              "            style=\"display:none;\">\n",
              "\n",
              "<svg xmlns=\"http://www.w3.org/2000/svg\" height=\"24px\"viewBox=\"0 0 24 24\"\n",
              "     width=\"24px\">\n",
              "    <g>\n",
              "        <path d=\"M19 3H5c-1.1 0-2 .9-2 2v14c0 1.1.9 2 2 2h14c1.1 0 2-.9 2-2V5c0-1.1-.9-2-2-2zM9 17H7v-7h2v7zm4 0h-2V7h2v10zm4 0h-2v-4h2v4z\"/>\n",
              "    </g>\n",
              "</svg>\n",
              "  </button>\n",
              "\n",
              "<style>\n",
              "  .colab-df-quickchart {\n",
              "      --bg-color: #E8F0FE;\n",
              "      --fill-color: #1967D2;\n",
              "      --hover-bg-color: #E2EBFA;\n",
              "      --hover-fill-color: #174EA6;\n",
              "      --disabled-fill-color: #AAA;\n",
              "      --disabled-bg-color: #DDD;\n",
              "  }\n",
              "\n",
              "  [theme=dark] .colab-df-quickchart {\n",
              "      --bg-color: #3B4455;\n",
              "      --fill-color: #D2E3FC;\n",
              "      --hover-bg-color: #434B5C;\n",
              "      --hover-fill-color: #FFFFFF;\n",
              "      --disabled-bg-color: #3B4455;\n",
              "      --disabled-fill-color: #666;\n",
              "  }\n",
              "\n",
              "  .colab-df-quickchart {\n",
              "    background-color: var(--bg-color);\n",
              "    border: none;\n",
              "    border-radius: 50%;\n",
              "    cursor: pointer;\n",
              "    display: none;\n",
              "    fill: var(--fill-color);\n",
              "    height: 32px;\n",
              "    padding: 0;\n",
              "    width: 32px;\n",
              "  }\n",
              "\n",
              "  .colab-df-quickchart:hover {\n",
              "    background-color: var(--hover-bg-color);\n",
              "    box-shadow: 0 1px 2px rgba(60, 64, 67, 0.3), 0 1px 3px 1px rgba(60, 64, 67, 0.15);\n",
              "    fill: var(--button-hover-fill-color);\n",
              "  }\n",
              "\n",
              "  .colab-df-quickchart-complete:disabled,\n",
              "  .colab-df-quickchart-complete:disabled:hover {\n",
              "    background-color: var(--disabled-bg-color);\n",
              "    fill: var(--disabled-fill-color);\n",
              "    box-shadow: none;\n",
              "  }\n",
              "\n",
              "  .colab-df-spinner {\n",
              "    border: 2px solid var(--fill-color);\n",
              "    border-color: transparent;\n",
              "    border-bottom-color: var(--fill-color);\n",
              "    animation:\n",
              "      spin 1s steps(1) infinite;\n",
              "  }\n",
              "\n",
              "  @keyframes spin {\n",
              "    0% {\n",
              "      border-color: transparent;\n",
              "      border-bottom-color: var(--fill-color);\n",
              "      border-left-color: var(--fill-color);\n",
              "    }\n",
              "    20% {\n",
              "      border-color: transparent;\n",
              "      border-left-color: var(--fill-color);\n",
              "      border-top-color: var(--fill-color);\n",
              "    }\n",
              "    30% {\n",
              "      border-color: transparent;\n",
              "      border-left-color: var(--fill-color);\n",
              "      border-top-color: var(--fill-color);\n",
              "      border-right-color: var(--fill-color);\n",
              "    }\n",
              "    40% {\n",
              "      border-color: transparent;\n",
              "      border-right-color: var(--fill-color);\n",
              "      border-top-color: var(--fill-color);\n",
              "    }\n",
              "    60% {\n",
              "      border-color: transparent;\n",
              "      border-right-color: var(--fill-color);\n",
              "    }\n",
              "    80% {\n",
              "      border-color: transparent;\n",
              "      border-right-color: var(--fill-color);\n",
              "      border-bottom-color: var(--fill-color);\n",
              "    }\n",
              "    90% {\n",
              "      border-color: transparent;\n",
              "      border-bottom-color: var(--fill-color);\n",
              "    }\n",
              "  }\n",
              "</style>\n",
              "\n",
              "  <script>\n",
              "    async function quickchart(key) {\n",
              "      const quickchartButtonEl =\n",
              "        document.querySelector('#' + key + ' button');\n",
              "      quickchartButtonEl.disabled = true;  // To prevent multiple clicks.\n",
              "      quickchartButtonEl.classList.add('colab-df-spinner');\n",
              "      try {\n",
              "        const charts = await google.colab.kernel.invokeFunction(\n",
              "            'suggestCharts', [key], {});\n",
              "      } catch (error) {\n",
              "        console.error('Error during call to suggestCharts:', error);\n",
              "      }\n",
              "      quickchartButtonEl.classList.remove('colab-df-spinner');\n",
              "      quickchartButtonEl.classList.add('colab-df-quickchart-complete');\n",
              "    }\n",
              "    (() => {\n",
              "      let quickchartButtonEl =\n",
              "        document.querySelector('#df-7140fefc-b9c4-456c-86f7-081b9dcaabf0 button');\n",
              "      quickchartButtonEl.style.display =\n",
              "        google.colab.kernel.accessAllowed ? 'block' : 'none';\n",
              "    })();\n",
              "  </script>\n",
              "</div>\n",
              "\n",
              "    </div>\n",
              "  </div>\n"
            ],
            "application/vnd.google.colaboratory.intrinsic+json": {
              "type": "dataframe",
              "variable_name": "df",
              "summary": "{\n  \"name\": \"df\",\n  \"rows\": 3304,\n  \"fields\": [\n    {\n      \"column\": \"time-tag\",\n      \"properties\": {\n        \"dtype\": \"object\",\n        \"num_unique_values\": 3304,\n        \"samples\": [\n          \"1753-05\",\n          \"1805-08\",\n          \"1829-10\"\n        ],\n        \"semantic_type\": \"\",\n        \"description\": \"\"\n      }\n    },\n    {\n      \"column\": \"ssn\",\n      \"properties\": {\n        \"dtype\": \"number\",\n        \"std\": 67.64125592619315,\n        \"min\": 0.0,\n        \"max\": 398.2,\n        \"num_unique_values\": 1608,\n        \"samples\": [\n          39.2,\n          120.5,\n          106.2\n        ],\n        \"semantic_type\": \"\",\n        \"description\": \"\"\n      }\n    },\n    {\n      \"column\": \"smoothed_ssn\",\n      \"properties\": {\n        \"dtype\": \"number\",\n        \"std\": 63.1390545385955,\n        \"min\": -1.0,\n        \"max\": 285.0,\n        \"num_unique_values\": 1632,\n        \"samples\": [\n          17.5,\n          68.7,\n          71.4\n        ],\n        \"semantic_type\": \"\",\n        \"description\": \"\"\n      }\n    },\n    {\n      \"column\": \"observed_swpc_ssn\",\n      \"properties\": {\n        \"dtype\": \"number\",\n        \"std\": 27.47383829802052,\n        \"min\": -1.0,\n        \"max\": 236.68,\n        \"num_unique_values\": 317,\n        \"samples\": [\n          150.03,\n          17.03,\n          94.26\n        ],\n        \"semantic_type\": \"\",\n        \"description\": \"\"\n      }\n    },\n    {\n      \"column\": \"smoothed_swpc_ssn\",\n      \"properties\": {\n        \"dtype\": \"number\",\n        \"std\": 26.38840733407738,\n        \"min\": -1.0,\n        \"max\": 189.0,\n        \"num_unique_values\": 283,\n        \"samples\": [\n          73.5,\n          2.7,\n          7.8\n        ],\n        \"semantic_type\": \"\",\n        \"description\": \"\"\n      }\n    },\n    {\n      \"column\": \"f10.7\",\n      \"properties\": {\n        \"dtype\": \"number\",\n        \"std\": 26.69284341415008,\n        \"min\": -1.0,\n        \"max\": 182.47,\n        \"num_unique_values\": 231,\n        \"samples\": [\n          157.53,\n          82.96,\n          94.09\n        ],\n        \"semantic_type\": \"\",\n        \"description\": \"\"\n      }\n    },\n    {\n      \"column\": \"smoothed_f10.7\",\n      \"properties\": {\n        \"dtype\": \"number\",\n        \"std\": 25.372387857513647,\n        \"min\": -1.0,\n        \"max\": 159.5,\n        \"num_unique_values\": 177,\n        \"samples\": [\n          78.1,\n          74.8,\n          69.6\n        ],\n        \"semantic_type\": \"\",\n        \"description\": \"\"\n      }\n    }\n  ]\n}"
            }
          },
          "metadata": {},
          "execution_count": 12
        }
      ]
    },
    {
      "cell_type": "code",
      "source": [
        "df = df.iloc[:, 0:2]\n",
        "df.columns"
      ],
      "metadata": {
        "colab": {
          "base_uri": "https://localhost:8080/"
        },
        "id": "Xz-RPj0sD7-m",
        "outputId": "012d55a5-4735-4588-da7c-41de33621936"
      },
      "execution_count": null,
      "outputs": [
        {
          "output_type": "execute_result",
          "data": {
            "text/plain": [
              "Index(['time-tag', 'ssn'], dtype='object')"
            ]
          },
          "metadata": {},
          "execution_count": 13
        }
      ]
    },
    {
      "cell_type": "code",
      "source": [
        "len(df)"
      ],
      "metadata": {
        "colab": {
          "base_uri": "https://localhost:8080/"
        },
        "id": "24ziUOgzG6-O",
        "outputId": "889d5fb0-b582-46ae-a4d7-3f8e73db3110"
      },
      "execution_count": null,
      "outputs": [
        {
          "output_type": "execute_result",
          "data": {
            "text/plain": [
              "3304"
            ]
          },
          "metadata": {},
          "execution_count": 14
        }
      ]
    },
    {
      "cell_type": "code",
      "source": [
        "df.info()"
      ],
      "metadata": {
        "colab": {
          "base_uri": "https://localhost:8080/"
        },
        "id": "mB3wjyjbHASf",
        "outputId": "2d171733-907a-4922-b038-10bc216f5de5"
      },
      "execution_count": null,
      "outputs": [
        {
          "output_type": "stream",
          "name": "stdout",
          "text": [
            "<class 'pandas.core.frame.DataFrame'>\n",
            "RangeIndex: 3304 entries, 0 to 3303\n",
            "Data columns (total 2 columns):\n",
            " #   Column    Non-Null Count  Dtype  \n",
            "---  ------    --------------  -----  \n",
            " 0   time-tag  3304 non-null   object \n",
            " 1   ssn       3304 non-null   float64\n",
            "dtypes: float64(1), object(1)\n",
            "memory usage: 51.8+ KB\n"
          ]
        }
      ]
    },
    {
      "cell_type": "code",
      "source": [
        "df.describe()"
      ],
      "metadata": {
        "colab": {
          "base_uri": "https://localhost:8080/",
          "height": 300
        },
        "id": "U87H3WmAHER6",
        "outputId": "eae371c2-da40-4cd1-9a9a-6a1e31abd3b0"
      },
      "execution_count": null,
      "outputs": [
        {
          "output_type": "execute_result",
          "data": {
            "text/plain": [
              "               ssn\n",
              "count  3304.000000\n",
              "mean     81.822821\n",
              "std      67.641256\n",
              "min       0.000000\n",
              "25%      24.100000\n",
              "50%      67.750000\n",
              "75%     122.500000\n",
              "max     398.200000"
            ],
            "text/html": [
              "\n",
              "  <div id=\"df-5f014a61-696d-49ff-968c-7ad8e64ed187\" class=\"colab-df-container\">\n",
              "    <div>\n",
              "<style scoped>\n",
              "    .dataframe tbody tr th:only-of-type {\n",
              "        vertical-align: middle;\n",
              "    }\n",
              "\n",
              "    .dataframe tbody tr th {\n",
              "        vertical-align: top;\n",
              "    }\n",
              "\n",
              "    .dataframe thead th {\n",
              "        text-align: right;\n",
              "    }\n",
              "</style>\n",
              "<table border=\"1\" class=\"dataframe\">\n",
              "  <thead>\n",
              "    <tr style=\"text-align: right;\">\n",
              "      <th></th>\n",
              "      <th>ssn</th>\n",
              "    </tr>\n",
              "  </thead>\n",
              "  <tbody>\n",
              "    <tr>\n",
              "      <th>count</th>\n",
              "      <td>3304.000000</td>\n",
              "    </tr>\n",
              "    <tr>\n",
              "      <th>mean</th>\n",
              "      <td>81.822821</td>\n",
              "    </tr>\n",
              "    <tr>\n",
              "      <th>std</th>\n",
              "      <td>67.641256</td>\n",
              "    </tr>\n",
              "    <tr>\n",
              "      <th>min</th>\n",
              "      <td>0.000000</td>\n",
              "    </tr>\n",
              "    <tr>\n",
              "      <th>25%</th>\n",
              "      <td>24.100000</td>\n",
              "    </tr>\n",
              "    <tr>\n",
              "      <th>50%</th>\n",
              "      <td>67.750000</td>\n",
              "    </tr>\n",
              "    <tr>\n",
              "      <th>75%</th>\n",
              "      <td>122.500000</td>\n",
              "    </tr>\n",
              "    <tr>\n",
              "      <th>max</th>\n",
              "      <td>398.200000</td>\n",
              "    </tr>\n",
              "  </tbody>\n",
              "</table>\n",
              "</div>\n",
              "    <div class=\"colab-df-buttons\">\n",
              "\n",
              "  <div class=\"colab-df-container\">\n",
              "    <button class=\"colab-df-convert\" onclick=\"convertToInteractive('df-5f014a61-696d-49ff-968c-7ad8e64ed187')\"\n",
              "            title=\"Convert this dataframe to an interactive table.\"\n",
              "            style=\"display:none;\">\n",
              "\n",
              "  <svg xmlns=\"http://www.w3.org/2000/svg\" height=\"24px\" viewBox=\"0 -960 960 960\">\n",
              "    <path d=\"M120-120v-720h720v720H120Zm60-500h600v-160H180v160Zm220 220h160v-160H400v160Zm0 220h160v-160H400v160ZM180-400h160v-160H180v160Zm440 0h160v-160H620v160ZM180-180h160v-160H180v160Zm440 0h160v-160H620v160Z\"/>\n",
              "  </svg>\n",
              "    </button>\n",
              "\n",
              "  <style>\n",
              "    .colab-df-container {\n",
              "      display:flex;\n",
              "      gap: 12px;\n",
              "    }\n",
              "\n",
              "    .colab-df-convert {\n",
              "      background-color: #E8F0FE;\n",
              "      border: none;\n",
              "      border-radius: 50%;\n",
              "      cursor: pointer;\n",
              "      display: none;\n",
              "      fill: #1967D2;\n",
              "      height: 32px;\n",
              "      padding: 0 0 0 0;\n",
              "      width: 32px;\n",
              "    }\n",
              "\n",
              "    .colab-df-convert:hover {\n",
              "      background-color: #E2EBFA;\n",
              "      box-shadow: 0px 1px 2px rgba(60, 64, 67, 0.3), 0px 1px 3px 1px rgba(60, 64, 67, 0.15);\n",
              "      fill: #174EA6;\n",
              "    }\n",
              "\n",
              "    .colab-df-buttons div {\n",
              "      margin-bottom: 4px;\n",
              "    }\n",
              "\n",
              "    [theme=dark] .colab-df-convert {\n",
              "      background-color: #3B4455;\n",
              "      fill: #D2E3FC;\n",
              "    }\n",
              "\n",
              "    [theme=dark] .colab-df-convert:hover {\n",
              "      background-color: #434B5C;\n",
              "      box-shadow: 0px 1px 3px 1px rgba(0, 0, 0, 0.15);\n",
              "      filter: drop-shadow(0px 1px 2px rgba(0, 0, 0, 0.3));\n",
              "      fill: #FFFFFF;\n",
              "    }\n",
              "  </style>\n",
              "\n",
              "    <script>\n",
              "      const buttonEl =\n",
              "        document.querySelector('#df-5f014a61-696d-49ff-968c-7ad8e64ed187 button.colab-df-convert');\n",
              "      buttonEl.style.display =\n",
              "        google.colab.kernel.accessAllowed ? 'block' : 'none';\n",
              "\n",
              "      async function convertToInteractive(key) {\n",
              "        const element = document.querySelector('#df-5f014a61-696d-49ff-968c-7ad8e64ed187');\n",
              "        const dataTable =\n",
              "          await google.colab.kernel.invokeFunction('convertToInteractive',\n",
              "                                                    [key], {});\n",
              "        if (!dataTable) return;\n",
              "\n",
              "        const docLinkHtml = 'Like what you see? Visit the ' +\n",
              "          '<a target=\"_blank\" href=https://colab.research.google.com/notebooks/data_table.ipynb>data table notebook</a>'\n",
              "          + ' to learn more about interactive tables.';\n",
              "        element.innerHTML = '';\n",
              "        dataTable['output_type'] = 'display_data';\n",
              "        await google.colab.output.renderOutput(dataTable, element);\n",
              "        const docLink = document.createElement('div');\n",
              "        docLink.innerHTML = docLinkHtml;\n",
              "        element.appendChild(docLink);\n",
              "      }\n",
              "    </script>\n",
              "  </div>\n",
              "\n",
              "\n",
              "<div id=\"df-5b8211e2-83cc-4c1a-a68c-7d792b207e5d\">\n",
              "  <button class=\"colab-df-quickchart\" onclick=\"quickchart('df-5b8211e2-83cc-4c1a-a68c-7d792b207e5d')\"\n",
              "            title=\"Suggest charts\"\n",
              "            style=\"display:none;\">\n",
              "\n",
              "<svg xmlns=\"http://www.w3.org/2000/svg\" height=\"24px\"viewBox=\"0 0 24 24\"\n",
              "     width=\"24px\">\n",
              "    <g>\n",
              "        <path d=\"M19 3H5c-1.1 0-2 .9-2 2v14c0 1.1.9 2 2 2h14c1.1 0 2-.9 2-2V5c0-1.1-.9-2-2-2zM9 17H7v-7h2v7zm4 0h-2V7h2v10zm4 0h-2v-4h2v4z\"/>\n",
              "    </g>\n",
              "</svg>\n",
              "  </button>\n",
              "\n",
              "<style>\n",
              "  .colab-df-quickchart {\n",
              "      --bg-color: #E8F0FE;\n",
              "      --fill-color: #1967D2;\n",
              "      --hover-bg-color: #E2EBFA;\n",
              "      --hover-fill-color: #174EA6;\n",
              "      --disabled-fill-color: #AAA;\n",
              "      --disabled-bg-color: #DDD;\n",
              "  }\n",
              "\n",
              "  [theme=dark] .colab-df-quickchart {\n",
              "      --bg-color: #3B4455;\n",
              "      --fill-color: #D2E3FC;\n",
              "      --hover-bg-color: #434B5C;\n",
              "      --hover-fill-color: #FFFFFF;\n",
              "      --disabled-bg-color: #3B4455;\n",
              "      --disabled-fill-color: #666;\n",
              "  }\n",
              "\n",
              "  .colab-df-quickchart {\n",
              "    background-color: var(--bg-color);\n",
              "    border: none;\n",
              "    border-radius: 50%;\n",
              "    cursor: pointer;\n",
              "    display: none;\n",
              "    fill: var(--fill-color);\n",
              "    height: 32px;\n",
              "    padding: 0;\n",
              "    width: 32px;\n",
              "  }\n",
              "\n",
              "  .colab-df-quickchart:hover {\n",
              "    background-color: var(--hover-bg-color);\n",
              "    box-shadow: 0 1px 2px rgba(60, 64, 67, 0.3), 0 1px 3px 1px rgba(60, 64, 67, 0.15);\n",
              "    fill: var(--button-hover-fill-color);\n",
              "  }\n",
              "\n",
              "  .colab-df-quickchart-complete:disabled,\n",
              "  .colab-df-quickchart-complete:disabled:hover {\n",
              "    background-color: var(--disabled-bg-color);\n",
              "    fill: var(--disabled-fill-color);\n",
              "    box-shadow: none;\n",
              "  }\n",
              "\n",
              "  .colab-df-spinner {\n",
              "    border: 2px solid var(--fill-color);\n",
              "    border-color: transparent;\n",
              "    border-bottom-color: var(--fill-color);\n",
              "    animation:\n",
              "      spin 1s steps(1) infinite;\n",
              "  }\n",
              "\n",
              "  @keyframes spin {\n",
              "    0% {\n",
              "      border-color: transparent;\n",
              "      border-bottom-color: var(--fill-color);\n",
              "      border-left-color: var(--fill-color);\n",
              "    }\n",
              "    20% {\n",
              "      border-color: transparent;\n",
              "      border-left-color: var(--fill-color);\n",
              "      border-top-color: var(--fill-color);\n",
              "    }\n",
              "    30% {\n",
              "      border-color: transparent;\n",
              "      border-left-color: var(--fill-color);\n",
              "      border-top-color: var(--fill-color);\n",
              "      border-right-color: var(--fill-color);\n",
              "    }\n",
              "    40% {\n",
              "      border-color: transparent;\n",
              "      border-right-color: var(--fill-color);\n",
              "      border-top-color: var(--fill-color);\n",
              "    }\n",
              "    60% {\n",
              "      border-color: transparent;\n",
              "      border-right-color: var(--fill-color);\n",
              "    }\n",
              "    80% {\n",
              "      border-color: transparent;\n",
              "      border-right-color: var(--fill-color);\n",
              "      border-bottom-color: var(--fill-color);\n",
              "    }\n",
              "    90% {\n",
              "      border-color: transparent;\n",
              "      border-bottom-color: var(--fill-color);\n",
              "    }\n",
              "  }\n",
              "</style>\n",
              "\n",
              "  <script>\n",
              "    async function quickchart(key) {\n",
              "      const quickchartButtonEl =\n",
              "        document.querySelector('#' + key + ' button');\n",
              "      quickchartButtonEl.disabled = true;  // To prevent multiple clicks.\n",
              "      quickchartButtonEl.classList.add('colab-df-spinner');\n",
              "      try {\n",
              "        const charts = await google.colab.kernel.invokeFunction(\n",
              "            'suggestCharts', [key], {});\n",
              "      } catch (error) {\n",
              "        console.error('Error during call to suggestCharts:', error);\n",
              "      }\n",
              "      quickchartButtonEl.classList.remove('colab-df-spinner');\n",
              "      quickchartButtonEl.classList.add('colab-df-quickchart-complete');\n",
              "    }\n",
              "    (() => {\n",
              "      let quickchartButtonEl =\n",
              "        document.querySelector('#df-5b8211e2-83cc-4c1a-a68c-7d792b207e5d button');\n",
              "      quickchartButtonEl.style.display =\n",
              "        google.colab.kernel.accessAllowed ? 'block' : 'none';\n",
              "    })();\n",
              "  </script>\n",
              "</div>\n",
              "\n",
              "    </div>\n",
              "  </div>\n"
            ],
            "application/vnd.google.colaboratory.intrinsic+json": {
              "type": "dataframe",
              "summary": "{\n  \"name\": \"df\",\n  \"rows\": 8,\n  \"fields\": [\n    {\n      \"column\": \"ssn\",\n      \"properties\": {\n        \"dtype\": \"number\",\n        \"std\": 1136.402083455259,\n        \"min\": 0.0,\n        \"max\": 3304.0,\n        \"num_unique_values\": 8,\n        \"samples\": [\n          81.82282082324454,\n          67.75,\n          3304.0\n        ],\n        \"semantic_type\": \"\",\n        \"description\": \"\"\n      }\n    }\n  ]\n}"
            }
          },
          "metadata": {},
          "execution_count": 16
        }
      ]
    },
    {
      "cell_type": "markdown",
      "source": [
        "## Plot"
      ],
      "metadata": {
        "id": "fsrum2UPHUKi"
      }
    },
    {
      "cell_type": "code",
      "source": [
        "plt.figure(figsize=(8, 6))\n",
        "df.plot()"
      ],
      "metadata": {
        "colab": {
          "base_uri": "https://localhost:8080/",
          "height": 467
        },
        "id": "MHv_APOiHPdT",
        "outputId": "5c645eff-d6ab-4b79-a193-9494913fa66c"
      },
      "execution_count": null,
      "outputs": [
        {
          "output_type": "execute_result",
          "data": {
            "text/plain": [
              "<Axes: >"
            ]
          },
          "metadata": {},
          "execution_count": 17
        },
        {
          "output_type": "display_data",
          "data": {
            "text/plain": [
              "<Figure size 800x600 with 0 Axes>"
            ]
          },
          "metadata": {}
        },
        {
          "output_type": "display_data",
          "data": {
            "text/plain": [
              "<Figure size 640x480 with 1 Axes>"
            ],
            "image/png": "[encoded data removed]"
          },
          "metadata": {}
        }
      ]
    },
    {
      "cell_type": "markdown",
      "source": [
        "# Preprocessing"
      ],
      "metadata": {
        "id": "9JS3KK4kKv1K"
      }
    },
    {
      "cell_type": "markdown",
      "source": [
        "## Scale the data\n",
        "\n",
        "Scaling is a necessary step to ensure all values are consistent on one scale. Here, we're using MinMaxScaler to squeeze the values b/w 0 and 1"
      ],
      "metadata": {
        "id": "Tg7SOrs_Geph"
      }
    },
    {
      "cell_type": "code",
      "source": [
        "from sklearn.preprocessing import MinMaxScaler\n",
        "\n",
        "scaler = MinMaxScaler()\n",
        "data = df.iloc[:, 1].values.reshape(-1, 1)\n",
        "data = scaler.fit_transform(data)"
      ],
      "metadata": {
        "id": "99JdPKqXEshf"
      },
      "execution_count": null,
      "outputs": []
    },
    {
      "cell_type": "markdown",
      "source": [
        "# Prepare Time Windows"
      ],
      "metadata": {
        "id": "FH_2W78nKyQc"
      }
    },
    {
      "cell_type": "markdown",
      "source": [
        "Modeling Experiments on:\n",
        "\n",
        "* Naive Baseline\n",
        "1. Window=12, Horizon=1\n",
        "2. Window=24, Horizon=1\n",
        "3. Window=60, Horizon=12\n",
        "4. Window=60, Horizon=24\n",
        "5. Window=60, Horizon=60\n",
        "5. Window=180, Horizon=180"
      ],
      "metadata": {
        "id": "yxM0k71AMCeb"
      }
    },
    {
      "cell_type": "code",
      "source": [
        "BUFFER_SIZE = 1024"
      ],
      "metadata": {
        "id": "07J0zjVfL87F"
      },
      "execution_count": null,
      "outputs": []
    },
    {
      "cell_type": "code",
      "source": [
        "dataset = tf.data.Dataset.from_tensor_slices(data)"
      ],
      "metadata": {
        "id": "7tlDYJY0KEHW"
      },
      "execution_count": null,
      "outputs": []
    },
    {
      "cell_type": "markdown",
      "source": [
        "We're creating a single-step window, meaning, we're sliding the window by 1 step each time to predict the next step.\n",
        "\n",
        "However, it makes the model learn better if the data is in a sequence or a wider window to predict another sequence.\n",
        "\n",
        "Therefore, this problem can also be called sequence-to-sequence prediction"
      ],
      "metadata": {
        "id": "xxa0q7gXj3a7"
      }
    },
    {
      "cell_type": "code",
      "source": [
        "#ef make_windows(data, input_window, horizon, buffer_size=BUFFER_SIZE):\n",
        "window_size = 60\n",
        "\n",
        "dataset = dataset.window(size=window_size + 1, shift=1, drop_remainder=True).flat_map(lambda w: w.batch(window_size + 1))\n",
        "dataset = dataset.map(lambda x:(x[:-1], x[1:]))\n",
        "dataset = dataset.shuffle(buffer_size=BUFFER_SIZE)"
      ],
      "metadata": {
        "id": "ewurTDQvLlKy"
      },
      "execution_count": null,
      "outputs": []
    },
    {
      "cell_type": "markdown",
      "source": [
        "# Split train/test"
      ],
      "metadata": {
        "id": "y4foRmj9kpLT"
      }
    },
    {
      "cell_type": "code",
      "source": [
        "data.shape"
      ],
      "metadata": {
        "colab": {
          "base_uri": "https://localhost:8080/"
        },
        "id": "UFV-SyXmkw-y",
        "outputId": "67686305-7dd2-46c0-8e27-7eda01683b7a"
      },
      "execution_count": null,
      "outputs": [
        {
          "output_type": "execute_result",
          "data": {
            "text/plain": [
              "(3304, 1)"
            ]
          },
          "metadata": {},
          "execution_count": 22
        }
      ]
    },
    {
      "cell_type": "code",
      "source": [
        "BATCH_SIZE = 64\n",
        "\n",
        "test_size = 0.2\n",
        "num_samples = data.shape[0]\n",
        "num_train_samples = int(num_samples * (1 - test_size))\n",
        "train_ds = dataset.take(num_train_samples).batch(BATCH_SIZE)\n",
        "test_ds = dataset.skip(num_train_samples).batch(BATCH_SIZE)"
      ],
      "metadata": {
        "id": "bD3a-9ayktU1"
      },
      "execution_count": null,
      "outputs": []
    },
    {
      "cell_type": "code",
      "source": [
        "print(f'Train Samples: {num_train_samples}')\n",
        "print(f'Test Samples:{int(num_samples * test_size)}')"
      ],
      "metadata": {
        "colab": {
          "base_uri": "https://localhost:8080/"
        },
        "id": "Sxee8uFPlRZt",
        "outputId": "39da7fdc-144e-4bd8-8144-7b66b54591f4"
      },
      "execution_count": null,
      "outputs": [
        {
          "output_type": "stream",
          "name": "stdout",
          "text": [
            "Train Samples: 2643\n",
            "Test Samples:660\n"
          ]
        }
      ]
    },
    {
      "cell_type": "markdown",
      "source": [
        "# Model Architecture"
      ],
      "metadata": {
        "id": "E9MJtgjLiARk"
      }
    },
    {
      "cell_type": "markdown",
      "source": [
        "## Stacked RNN"
      ],
      "metadata": {
        "id": "u1jcq-F8myPn"
      }
    },
    {
      "cell_type": "code",
      "source": [
        "model = models.Sequential([\n",
        "    layers.Conv1D(filters=32, kernel_size=3, strides=1, padding='causal', activation='relu', input_shape=(window_size, 1)),\n",
        "    layers.GRU(128, return_sequences=True),\n",
        "    layers.GRU(64, return_sequences=True),\n",
        "    layers.Dense(32, activation='swish'),\n",
        "    layers.Dense(32, activation='swish'),\n",
        "    layers.Dense(1),\n",
        "], name='stacked_rnn_w60_h1')\n",
        "\n",
        "model.summary()"
      ],
      "metadata": {
        "colab": {
          "base_uri": "https://localhost:8080/"
        },
        "id": "JWvXCfaomzcj",
        "outputId": "47f4c611-51d4-462d-a154-695682c0459e"
      },
      "execution_count": null,
      "outputs": [
        {
          "output_type": "stream",
          "name": "stdout",
          "text": [
            "Model: \"stacked_rnn_w60_h1\"\n",
            "_________________________________________________________________\n",
            " Layer (type)                Output Shape              Param #   \n",
            "=================================================================\n",
            " conv1d_1 (Conv1D)           (None, 60, 32)            128       \n",
            "                                                                 \n",
            " gru_2 (GRU)                 (None, 60, 128)           62208     \n",
            "                                                                 \n",
            " gru_3 (GRU)                 (None, 60, 64)            37248     \n",
            "                                                                 \n",
            " dense_3 (Dense)             (None, 60, 32)            2080      \n",
            "                                                                 \n",
            " dense_4 (Dense)             (None, 60, 32)            1056      \n",
            "                                                                 \n",
            " dense_5 (Dense)             (None, 60, 1)             33        \n",
            "                                                                 \n",
            "=================================================================\n",
            "Total params: 102753 (401.38 KB)\n",
            "Trainable params: 102753 (401.38 KB)\n",
            "Non-trainable params: 0 (0.00 Byte)\n",
            "_________________________________________________________________\n"
          ]
        }
      ]
    },
    {
      "cell_type": "code",
      "source": [
        "def checkpoint(model_name, filepath='./ts_sunspot'):\n",
        "  return tf.keras.callbacks.ModelCheckpoint(\n",
        "    os.path.join(filepath, model_name + '_{val_loss:.4f}.h5'),\n",
        "    monitor='val_loss',\n",
        "    save_best_only=True,\n",
        "    verbose=1)"
      ],
      "metadata": {
        "id": "jmji9eU-KcEy"
      },
      "execution_count": null,
      "outputs": []
    },
    {
      "cell_type": "code",
      "source": [
        "model.compile(loss=losses.Huber(),\n",
        "              optimizer=optimizers.RMSprop(),\n",
        "              metrics=metrics.MeanAbsoluteError())\n",
        "\n",
        "model.fit(train_ds,\n",
        "          epochs=40,\n",
        "          validation_data=test_ds,\n",
        "          callbacks=[checkpoint(model.name)])"
      ],
      "metadata": {
        "colab": {
          "base_uri": "https://localhost:8080/"
        },
        "id": "cqr1UB9Vvs3S",
        "outputId": "d1d47774-f8da-4542-c6f4-4bee1e19bd90"
      },
      "execution_count": null,
      "outputs": [
        {
          "output_type": "stream",
          "name": "stdout",
          "text": [
            "Epoch 1/40\n",
            "     42/Unknown - 5s 19ms/step - loss: 0.0073 - mean_absolute_error: 0.0863\n",
            "Epoch 1: val_loss improved from inf to 0.00353, saving model to ./ts_sunspot/stacked_rnn_w60_h10.00.h5\n",
            "42/42 [==============================] - 6s 52ms/step - loss: 0.0073 - mean_absolute_error: 0.0863 - val_loss: 0.0035 - val_mean_absolute_error: 0.0578\n",
            "Epoch 2/40\n"
          ]
        },
        {
          "output_type": "stream",
          "name": "stderr",
          "text": [
            "/usr/local/lib/python3.10/dist-packages/keras/src/engine/training.py:3103: UserWarning: You are saving your model as an HDF5 file via `model.save()`. This file format is considered legacy. We recommend using instead the native Keras format, e.g. `model.save('my_model.keras')`.\n",
            "  saving_api.save_model(\n"
          ]
        },
        {
          "output_type": "stream",
          "name": "stdout",
          "text": [
            "39/42 [==========================>...] - ETA: 0s - loss: 0.0034 - mean_absolute_error: 0.0583\n",
            "Epoch 2: val_loss improved from 0.00353 to 0.00297, saving model to ./ts_sunspot/stacked_rnn_w60_h10.00.h5\n",
            "42/42 [==============================] - 2s 35ms/step - loss: 0.0034 - mean_absolute_error: 0.0583 - val_loss: 0.0030 - val_mean_absolute_error: 0.0535\n",
            "Epoch 3/40\n",
            "42/42 [==============================] - ETA: 0s - loss: 0.0031 - mean_absolute_error: 0.0562\n",
            "Epoch 3: val_loss did not improve from 0.00297\n",
            "42/42 [==============================] - 3s 57ms/step - loss: 0.0031 - mean_absolute_error: 0.0562 - val_loss: 0.0030 - val_mean_absolute_error: 0.0537\n",
            "Epoch 4/40\n",
            "41/42 [============================>.] - ETA: 0s - loss: 0.0029 - mean_absolute_error: 0.0547\n",
            "Epoch 4: val_loss improved from 0.00297 to 0.00239, saving model to ./ts_sunspot/stacked_rnn_w60_h10.00.h5\n",
            "42/42 [==============================] - 3s 58ms/step - loss: 0.0029 - mean_absolute_error: 0.0547 - val_loss: 0.0024 - val_mean_absolute_error: 0.0492\n",
            "Epoch 5/40\n",
            "42/42 [==============================] - ETA: 0s - loss: 0.0028 - mean_absolute_error: 0.0544\n",
            "Epoch 5: val_loss did not improve from 0.00239\n",
            "42/42 [==============================] - 1s 31ms/step - loss: 0.0028 - mean_absolute_error: 0.0544 - val_loss: 0.0027 - val_mean_absolute_error: 0.0555\n",
            "Epoch 6/40\n",
            "38/42 [==========================>...] - ETA: 0s - loss: 0.0027 - mean_absolute_error: 0.0533\n",
            "Epoch 6: val_loss improved from 0.00239 to 0.00233, saving model to ./ts_sunspot/stacked_rnn_w60_h10.00.h5\n",
            "42/42 [==============================] - 1s 32ms/step - loss: 0.0027 - mean_absolute_error: 0.0530 - val_loss: 0.0023 - val_mean_absolute_error: 0.0498\n",
            "Epoch 7/40\n",
            "42/42 [==============================] - ETA: 0s - loss: 0.0027 - mean_absolute_error: 0.0528\n",
            "Epoch 7: val_loss did not improve from 0.00233\n",
            "42/42 [==============================] - 2s 33ms/step - loss: 0.0027 - mean_absolute_error: 0.0528 - val_loss: 0.0026 - val_mean_absolute_error: 0.0556\n",
            "Epoch 8/40\n",
            "38/42 [==========================>...] - ETA: 0s - loss: 0.0026 - mean_absolute_error: 0.0523\n",
            "Epoch 8: val_loss did not improve from 0.00233\n",
            "42/42 [==============================] - 1s 32ms/step - loss: 0.0026 - mean_absolute_error: 0.0522 - val_loss: 0.0025 - val_mean_absolute_error: 0.0546\n",
            "Epoch 9/40\n",
            "41/42 [============================>.] - ETA: 0s - loss: 0.0025 - mean_absolute_error: 0.0517\n",
            "Epoch 9: val_loss improved from 0.00233 to 0.00224, saving model to ./ts_sunspot/stacked_rnn_w60_h10.00.h5\n",
            "42/42 [==============================] - 4s 93ms/step - loss: 0.0025 - mean_absolute_error: 0.0517 - val_loss: 0.0022 - val_mean_absolute_error: 0.0481\n",
            "Epoch 10/40\n",
            "42/42 [==============================] - ETA: 0s - loss: 0.0025 - mean_absolute_error: 0.0514\n",
            "Epoch 10: val_loss did not improve from 0.00224\n",
            "42/42 [==============================] - 1s 30ms/step - loss: 0.0025 - mean_absolute_error: 0.0514 - val_loss: 0.0023 - val_mean_absolute_error: 0.0504\n",
            "Epoch 11/40\n",
            "42/42 [==============================] - ETA: 0s - loss: 0.0025 - mean_absolute_error: 0.0509\n",
            "Epoch 11: val_loss did not improve from 0.00224\n",
            "42/42 [==============================] - 1s 31ms/step - loss: 0.0025 - mean_absolute_error: 0.0509 - val_loss: 0.0025 - val_mean_absolute_error: 0.0537\n",
            "Epoch 12/40\n",
            "39/42 [==========================>...] - ETA: 0s - loss: 0.0025 - mean_absolute_error: 0.0510\n",
            "Epoch 12: val_loss did not improve from 0.00224\n",
            "42/42 [==============================] - 1s 30ms/step - loss: 0.0025 - mean_absolute_error: 0.0509 - val_loss: 0.0025 - val_mean_absolute_error: 0.0541\n",
            "Epoch 13/40\n",
            "41/42 [============================>.] - ETA: 0s - loss: 0.0024 - mean_absolute_error: 0.0503\n",
            "Epoch 13: val_loss improved from 0.00224 to 0.00214, saving model to ./ts_sunspot/stacked_rnn_w60_h10.00.h5\n",
            "42/42 [==============================] - 2s 36ms/step - loss: 0.0024 - mean_absolute_error: 0.0502 - val_loss: 0.0021 - val_mean_absolute_error: 0.0471\n",
            "Epoch 14/40\n",
            "39/42 [==========================>...] - ETA: 0s - loss: 0.0024 - mean_absolute_error: 0.0508\n",
            "Epoch 14: val_loss did not improve from 0.00214\n",
            "42/42 [==============================] - 2s 37ms/step - loss: 0.0024 - mean_absolute_error: 0.0507 - val_loss: 0.0023 - val_mean_absolute_error: 0.0517\n",
            "Epoch 15/40\n",
            "40/42 [===========================>..] - ETA: 0s - loss: 0.0024 - mean_absolute_error: 0.0500\n",
            "Epoch 15: val_loss improved from 0.00214 to 0.00212, saving model to ./ts_sunspot/stacked_rnn_w60_h10.00.h5\n",
            "42/42 [==============================] - 2s 43ms/step - loss: 0.0024 - mean_absolute_error: 0.0500 - val_loss: 0.0021 - val_mean_absolute_error: 0.0480\n",
            "Epoch 16/40\n",
            "40/42 [===========================>..] - ETA: 0s - loss: 0.0024 - mean_absolute_error: 0.0500\n",
            "Epoch 16: val_loss improved from 0.00212 to 0.00209, saving model to ./ts_sunspot/stacked_rnn_w60_h10.00.h5\n",
            "42/42 [==============================] - 3s 64ms/step - loss: 0.0024 - mean_absolute_error: 0.0499 - val_loss: 0.0021 - val_mean_absolute_error: 0.0474\n",
            "Epoch 17/40\n",
            "42/42 [==============================] - ETA: 0s - loss: 0.0023 - mean_absolute_error: 0.0496\n",
            "Epoch 17: val_loss did not improve from 0.00209\n",
            "42/42 [==============================] - 3s 56ms/step - loss: 0.0023 - mean_absolute_error: 0.0496 - val_loss: 0.0022 - val_mean_absolute_error: 0.0494\n",
            "Epoch 18/40\n",
            "39/42 [==========================>...] - ETA: 0s - loss: 0.0023 - mean_absolute_error: 0.0494\n",
            "Epoch 18: val_loss did not improve from 0.00209\n",
            "42/42 [==============================] - 1s 31ms/step - loss: 0.0023 - mean_absolute_error: 0.0492 - val_loss: 0.0022 - val_mean_absolute_error: 0.0507\n",
            "Epoch 19/40\n",
            "39/42 [==========================>...] - ETA: 0s - loss: 0.0023 - mean_absolute_error: 0.0495\n",
            "Epoch 19: val_loss improved from 0.00209 to 0.00202, saving model to ./ts_sunspot/stacked_rnn_w60_h10.00.h5\n",
            "42/42 [==============================] - 2s 35ms/step - loss: 0.0023 - mean_absolute_error: 0.0493 - val_loss: 0.0020 - val_mean_absolute_error: 0.0454\n",
            "Epoch 20/40\n",
            "41/42 [============================>.] - ETA: 0s - loss: 0.0023 - mean_absolute_error: 0.0492\n",
            "Epoch 20: val_loss did not improve from 0.00202\n",
            "42/42 [==============================] - 1s 32ms/step - loss: 0.0023 - mean_absolute_error: 0.0491 - val_loss: 0.0021 - val_mean_absolute_error: 0.0461\n",
            "Epoch 21/40\n",
            "42/42 [==============================] - ETA: 0s - loss: 0.0023 - mean_absolute_error: 0.0484\n",
            "Epoch 21: val_loss did not improve from 0.00202\n",
            "42/42 [==============================] - 1s 31ms/step - loss: 0.0023 - mean_absolute_error: 0.0484 - val_loss: 0.0023 - val_mean_absolute_error: 0.0488\n",
            "Epoch 22/40\n",
            "37/42 [=========================>....] - ETA: 0s - loss: 0.0023 - mean_absolute_error: 0.0492\n",
            "Epoch 22: val_loss did not improve from 0.00202\n",
            "42/42 [==============================] - 1s 30ms/step - loss: 0.0023 - mean_absolute_error: 0.0491 - val_loss: 0.0023 - val_mean_absolute_error: 0.0479\n",
            "Epoch 23/40\n",
            "42/42 [==============================] - ETA: 0s - loss: 0.0023 - mean_absolute_error: 0.0488\n",
            "Epoch 23: val_loss did not improve from 0.00202\n",
            "42/42 [==============================] - 2s 40ms/step - loss: 0.0023 - mean_absolute_error: 0.0488 - val_loss: 0.0022 - val_mean_absolute_error: 0.0473\n",
            "Epoch 24/40\n",
            "39/42 [==========================>...] - ETA: 0s - loss: 0.0022 - mean_absolute_error: 0.0483\n",
            "Epoch 24: val_loss did not improve from 0.00202\n",
            "42/42 [==============================] - 3s 63ms/step - loss: 0.0022 - mean_absolute_error: 0.0484 - val_loss: 0.0024 - val_mean_absolute_error: 0.0501\n",
            "Epoch 25/40\n",
            "41/42 [============================>.] - ETA: 0s - loss: 0.0022 - mean_absolute_error: 0.0483\n",
            "Epoch 25: val_loss did not improve from 0.00202\n",
            "42/42 [==============================] - 1s 30ms/step - loss: 0.0022 - mean_absolute_error: 0.0482 - val_loss: 0.0020 - val_mean_absolute_error: 0.0457\n",
            "Epoch 26/40\n",
            "39/42 [==========================>...] - ETA: 0s - loss: 0.0023 - mean_absolute_error: 0.0484\n",
            "Epoch 26: val_loss did not improve from 0.00202\n",
            "42/42 [==============================] - 1s 30ms/step - loss: 0.0022 - mean_absolute_error: 0.0483 - val_loss: 0.0023 - val_mean_absolute_error: 0.0485\n",
            "Epoch 27/40\n",
            "42/42 [==============================] - ETA: 0s - loss: 0.0022 - mean_absolute_error: 0.0482\n",
            "Epoch 27: val_loss did not improve from 0.00202\n",
            "42/42 [==============================] - 1s 31ms/step - loss: 0.0022 - mean_absolute_error: 0.0482 - val_loss: 0.0021 - val_mean_absolute_error: 0.0456\n",
            "Epoch 28/40\n",
            "42/42 [==============================] - ETA: 0s - loss: 0.0022 - mean_absolute_error: 0.0481\n",
            "Epoch 28: val_loss did not improve from 0.00202\n",
            "42/42 [==============================] - 2s 34ms/step - loss: 0.0022 - mean_absolute_error: 0.0481 - val_loss: 0.0022 - val_mean_absolute_error: 0.0501\n",
            "Epoch 29/40\n",
            "41/42 [============================>.] - ETA: 0s - loss: 0.0022 - mean_absolute_error: 0.0479\n",
            "Epoch 29: val_loss did not improve from 0.00202\n",
            "42/42 [==============================] - 2s 53ms/step - loss: 0.0022 - mean_absolute_error: 0.0480 - val_loss: 0.0020 - val_mean_absolute_error: 0.0469\n",
            "Epoch 30/40\n",
            "41/42 [============================>.] - ETA: 0s - loss: 0.0022 - mean_absolute_error: 0.0478\n",
            "Epoch 30: val_loss improved from 0.00202 to 0.00193, saving model to ./ts_sunspot/stacked_rnn_w60_h10.00.h5\n",
            "42/42 [==============================] - 3s 67ms/step - loss: 0.0022 - mean_absolute_error: 0.0477 - val_loss: 0.0019 - val_mean_absolute_error: 0.0444\n",
            "Epoch 31/40\n",
            "40/42 [===========================>..] - ETA: 0s - loss: 0.0022 - mean_absolute_error: 0.0480\n",
            "Epoch 31: val_loss did not improve from 0.00193\n",
            "42/42 [==============================] - 2s 33ms/step - loss: 0.0022 - mean_absolute_error: 0.0480 - val_loss: 0.0022 - val_mean_absolute_error: 0.0493\n",
            "Epoch 32/40\n",
            "39/42 [==========================>...] - ETA: 0s - loss: 0.0022 - mean_absolute_error: 0.0479\n",
            "Epoch 32: val_loss did not improve from 0.00193\n",
            "42/42 [==============================] - 1s 32ms/step - loss: 0.0022 - mean_absolute_error: 0.0478 - val_loss: 0.0020 - val_mean_absolute_error: 0.0459\n",
            "Epoch 33/40\n",
            "39/42 [==========================>...] - ETA: 0s - loss: 0.0022 - mean_absolute_error: 0.0477\n",
            "Epoch 33: val_loss did not improve from 0.00193\n",
            "42/42 [==============================] - 2s 34ms/step - loss: 0.0022 - mean_absolute_error: 0.0476 - val_loss: 0.0020 - val_mean_absolute_error: 0.0464\n",
            "Epoch 34/40\n",
            "38/42 [==========================>...] - ETA: 0s - loss: 0.0022 - mean_absolute_error: 0.0479\n",
            "Epoch 34: val_loss did not improve from 0.00193\n",
            "42/42 [==============================] - 2s 34ms/step - loss: 0.0022 - mean_absolute_error: 0.0477 - val_loss: 0.0020 - val_mean_absolute_error: 0.0460\n",
            "Epoch 35/40\n",
            "39/42 [==========================>...] - ETA: 0s - loss: 0.0022 - mean_absolute_error: 0.0479\n",
            "Epoch 35: val_loss did not improve from 0.00193\n",
            "42/42 [==============================] - 2s 34ms/step - loss: 0.0022 - mean_absolute_error: 0.0477 - val_loss: 0.0020 - val_mean_absolute_error: 0.0465\n",
            "Epoch 36/40\n",
            "42/42 [==============================] - ETA: 0s - loss: 0.0022 - mean_absolute_error: 0.0476\n",
            "Epoch 36: val_loss did not improve from 0.00193\n",
            "42/42 [==============================] - 3s 64ms/step - loss: 0.0022 - mean_absolute_error: 0.0476 - val_loss: 0.0021 - val_mean_absolute_error: 0.0485\n",
            "Epoch 37/40\n",
            "39/42 [==========================>...] - ETA: 0s - loss: 0.0022 - mean_absolute_error: 0.0474\n",
            "Epoch 37: val_loss did not improve from 0.00193\n",
            "42/42 [==============================] - 2s 34ms/step - loss: 0.0022 - mean_absolute_error: 0.0474 - val_loss: 0.0020 - val_mean_absolute_error: 0.0460\n",
            "Epoch 38/40\n",
            "39/42 [==========================>...] - ETA: 0s - loss: 0.0022 - mean_absolute_error: 0.0473\n",
            "Epoch 38: val_loss did not improve from 0.00193\n",
            "42/42 [==============================] - 1s 31ms/step - loss: 0.0021 - mean_absolute_error: 0.0472 - val_loss: 0.0020 - val_mean_absolute_error: 0.0470\n",
            "Epoch 39/40\n",
            "38/42 [==========================>...] - ETA: 0s - loss: 0.0022 - mean_absolute_error: 0.0477\n",
            "Epoch 39: val_loss did not improve from 0.00193\n",
            "42/42 [==============================] - 2s 36ms/step - loss: 0.0022 - mean_absolute_error: 0.0476 - val_loss: 0.0020 - val_mean_absolute_error: 0.0445\n",
            "Epoch 40/40\n",
            "41/42 [============================>.] - ETA: 0s - loss: 0.0022 - mean_absolute_error: 0.0472\n",
            "Epoch 40: val_loss did not improve from 0.00193\n",
            "42/42 [==============================] - 2s 33ms/step - loss: 0.0022 - mean_absolute_error: 0.0472 - val_loss: 0.0022 - val_mean_absolute_error: 0.0468\n"
          ]
        },
        {
          "output_type": "execute_result",
          "data": {
            "text/plain": [
              "<keras.src.callbacks.History at 0x7a4c38241720>"
            ]
          },
          "metadata": {},
          "execution_count": 34
        }
      ]
    },
    {
      "cell_type": "code",
      "source": [
        "!zip -r ts_sunspot_v1.zip ts_sunspot"
      ],
      "metadata": {
        "colab": {
          "base_uri": "https://localhost:8080/"
        },
        "id": "UeHX_5V-SNtS",
        "outputId": "9c9b98da-2bbd-4e92-e244-1d6e9761d326"
      },
      "execution_count": null,
      "outputs": [
        {
          "output_type": "stream",
          "name": "stdout",
          "text": [
            "  adding: ts_sunspot/ (stored 0%)\n",
            "  adding: ts_sunspot/stacked_rnn_w60_h10.00.h5 (deflated 11%)\n"
          ]
        }
      ]
    },
    {
      "cell_type": "markdown",
      "source": [
        "## Bidirectional RNN"
      ],
      "metadata": {
        "id": "JYO1Zp6rTS2b"
      }
    },
    {
      "cell_type": "code",
      "source": [
        "model = models.Sequential(name='bidirectional_rnn_w60_h1')\n",
        "model.add(layers.Conv1D(filters=32, kernel_size=5, strides=1, padding=\"causal\", activation=\"relu\", input_shape=[window_size, 1]))\n",
        "model.add(layers.Bidirectional(layers.GRU(64, return_sequences=True)))\n",
        "model.add(layers.Bidirectional(layers.GRU(64, return_sequences=True)))\n",
        "model.add(layers.Dense(32, activation=\"swish\"))\n",
        "model.add(layers.Dense(16, activation=\"swish\"))\n",
        "model.add(layers.Dense(1))\n",
        "\n",
        "model.compile(optimizer=\"rmsprop\", loss=\"huber\", metrics=[\"mae\"])\n",
        "model.summary()"
      ],
      "metadata": {
        "colab": {
          "base_uri": "https://localhost:8080/"
        },
        "id": "7cO7BBoSTP3L",
        "outputId": "92e8e4e8-f31a-44d0-b23a-9f54c389bd2c"
      },
      "execution_count": null,
      "outputs": [
        {
          "output_type": "stream",
          "name": "stdout",
          "text": [
            "Model: \"bidirectional_rnn_w60_h1\"\n",
            "_________________________________________________________________\n",
            " Layer (type)                Output Shape              Param #   \n",
            "=================================================================\n",
            " conv1d_3 (Conv1D)           (None, 60, 32)            192       \n",
            "                                                                 \n",
            " bidirectional_2 (Bidirecti  (None, 60, 128)           37632     \n",
            " onal)                                                           \n",
            "                                                                 \n",
            " bidirectional_3 (Bidirecti  (None, 60, 128)           74496     \n",
            " onal)                                                           \n",
            "                                                                 \n",
            " dense_9 (Dense)             (None, 60, 32)            4128      \n",
            "                                                                 \n",
            " dense_10 (Dense)            (None, 60, 16)            528       \n",
            "                                                                 \n",
            " dense_11 (Dense)            (None, 60, 1)             17        \n",
            "                                                                 \n",
            "=================================================================\n",
            "Total params: 116993 (457.00 KB)\n",
            "Trainable params: 116993 (457.00 KB)\n",
            "Non-trainable params: 0 (0.00 Byte)\n",
            "_________________________________________________________________\n"
          ]
        }
      ]
    },
    {
      "cell_type": "code",
      "source": [
        "model.compile(loss=losses.Huber(),\n",
        "              optimizer=optimizers.RMSprop(),\n",
        "              metrics=metrics.MeanAbsoluteError())\n",
        "\n",
        "model.fit(train_ds,\n",
        "          epochs=40,\n",
        "          validation_data=test_ds,\n",
        "          callbacks=[checkpoint(model.name)])"
      ],
      "metadata": {
        "colab": {
          "base_uri": "https://localhost:8080/"
        },
        "id": "KkAzkNpDTrVr",
        "outputId": "1863e1ac-3572-4e88-8b15-b0f11cc921fe"
      },
      "execution_count": null,
      "outputs": [
        {
          "output_type": "stream",
          "name": "stdout",
          "text": [
            "Epoch 1/40\n",
            "     42/Unknown - 8s 29ms/step - loss: 0.0043 - mean_absolute_error: 0.0627\n",
            "Epoch 1: val_loss improved from inf to 0.00211, saving model to ./ts_sunspot/bidirectional_rnn_w60_h1_0.0021.h5\n",
            "42/42 [==============================] - 13s 142ms/step - loss: 0.0043 - mean_absolute_error: 0.0627 - val_loss: 0.0021 - val_mean_absolute_error: 0.0470\n"
          ]
        },
        {
          "output_type": "stream",
          "name": "stderr",
          "text": [
            "/usr/local/lib/python3.10/dist-packages/keras/src/engine/training.py:3103: UserWarning: You are saving your model as an HDF5 file via `model.save()`. This file format is considered legacy. We recommend using instead the native Keras format, e.g. `model.save('my_model.keras')`.\n",
            "  saving_api.save_model(\n"
          ]
        },
        {
          "output_type": "stream",
          "name": "stdout",
          "text": [
            "Epoch 2/40\n",
            "42/42 [==============================] - ETA: 0s - loss: 0.0021 - mean_absolute_error: 0.0461\n",
            "Epoch 2: val_loss improved from 0.00211 to 0.00182, saving model to ./ts_sunspot/bidirectional_rnn_w60_h1_0.0018.h5\n",
            "42/42 [==============================] - 2s 40ms/step - loss: 0.0021 - mean_absolute_error: 0.0461 - val_loss: 0.0018 - val_mean_absolute_error: 0.0446\n",
            "Epoch 3/40\n",
            "40/42 [===========================>..] - ETA: 0s - loss: 0.0019 - mean_absolute_error: 0.0435\n",
            "Epoch 3: val_loss did not improve from 0.00182\n",
            "42/42 [==============================] - 2s 38ms/step - loss: 0.0019 - mean_absolute_error: 0.0435 - val_loss: 0.0018 - val_mean_absolute_error: 0.0461\n",
            "Epoch 4/40\n",
            "40/42 [===========================>..] - ETA: 0s - loss: 0.0018 - mean_absolute_error: 0.0421\n",
            "Epoch 4: val_loss improved from 0.00182 to 0.00173, saving model to ./ts_sunspot/bidirectional_rnn_w60_h1_0.0017.h5\n",
            "42/42 [==============================] - 2s 40ms/step - loss: 0.0018 - mean_absolute_error: 0.0421 - val_loss: 0.0017 - val_mean_absolute_error: 0.0440\n",
            "Epoch 5/40\n",
            "40/42 [===========================>..] - ETA: 0s - loss: 0.0017 - mean_absolute_error: 0.0412\n",
            "Epoch 5: val_loss improved from 0.00173 to 0.00147, saving model to ./ts_sunspot/bidirectional_rnn_w60_h1_0.0015.h5\n",
            "42/42 [==============================] - 3s 66ms/step - loss: 0.0017 - mean_absolute_error: 0.0411 - val_loss: 0.0015 - val_mean_absolute_error: 0.0398\n",
            "Epoch 6/40\n",
            "42/42 [==============================] - ETA: 0s - loss: 0.0016 - mean_absolute_error: 0.0409\n",
            "Epoch 6: val_loss did not improve from 0.00147\n",
            "42/42 [==============================] - 4s 79ms/step - loss: 0.0016 - mean_absolute_error: 0.0409 - val_loss: 0.0017 - val_mean_absolute_error: 0.0428\n",
            "Epoch 7/40\n",
            "42/42 [==============================] - ETA: 0s - loss: 0.0016 - mean_absolute_error: 0.0401\n",
            "Epoch 7: val_loss improved from 0.00147 to 0.00141, saving model to ./ts_sunspot/bidirectional_rnn_w60_h1_0.0014.h5\n",
            "42/42 [==============================] - 2s 40ms/step - loss: 0.0016 - mean_absolute_error: 0.0401 - val_loss: 0.0014 - val_mean_absolute_error: 0.0393\n",
            "Epoch 8/40\n",
            "42/42 [==============================] - ETA: 0s - loss: 0.0015 - mean_absolute_error: 0.0395\n",
            "Epoch 8: val_loss did not improve from 0.00141\n",
            "42/42 [==============================] - 2s 40ms/step - loss: 0.0015 - mean_absolute_error: 0.0395 - val_loss: 0.0015 - val_mean_absolute_error: 0.0415\n",
            "Epoch 9/40\n",
            "40/42 [===========================>..] - ETA: 0s - loss: 0.0015 - mean_absolute_error: 0.0391\n",
            "Epoch 9: val_loss improved from 0.00141 to 0.00131, saving model to ./ts_sunspot/bidirectional_rnn_w60_h1_0.0013.h5\n",
            "42/42 [==============================] - 2s 42ms/step - loss: 0.0015 - mean_absolute_error: 0.0390 - val_loss: 0.0013 - val_mean_absolute_error: 0.0377\n",
            "Epoch 10/40\n",
            "41/42 [============================>.] - ETA: 0s - loss: 0.0014 - mean_absolute_error: 0.0386\n",
            "Epoch 10: val_loss improved from 0.00131 to 0.00131, saving model to ./ts_sunspot/bidirectional_rnn_w60_h1_0.0013.h5\n",
            "42/42 [==============================] - 2s 38ms/step - loss: 0.0014 - mean_absolute_error: 0.0386 - val_loss: 0.0013 - val_mean_absolute_error: 0.0380\n",
            "Epoch 11/40\n",
            "42/42 [==============================] - ETA: 0s - loss: 0.0014 - mean_absolute_error: 0.0381\n",
            "Epoch 11: val_loss did not improve from 0.00131\n",
            "42/42 [==============================] - 3s 75ms/step - loss: 0.0014 - mean_absolute_error: 0.0381 - val_loss: 0.0015 - val_mean_absolute_error: 0.0409\n",
            "Epoch 12/40\n",
            "42/42 [==============================] - ETA: 0s - loss: 0.0014 - mean_absolute_error: 0.0378\n",
            "Epoch 12: val_loss improved from 0.00131 to 0.00128, saving model to ./ts_sunspot/bidirectional_rnn_w60_h1_0.0013.h5\n",
            "42/42 [==============================] - 2s 41ms/step - loss: 0.0014 - mean_absolute_error: 0.0378 - val_loss: 0.0013 - val_mean_absolute_error: 0.0372\n",
            "Epoch 13/40\n",
            "41/42 [============================>.] - ETA: 0s - loss: 0.0013 - mean_absolute_error: 0.0375\n",
            "Epoch 13: val_loss improved from 0.00128 to 0.00116, saving model to ./ts_sunspot/bidirectional_rnn_w60_h1_0.0012.h5\n",
            "42/42 [==============================] - 2s 41ms/step - loss: 0.0013 - mean_absolute_error: 0.0375 - val_loss: 0.0012 - val_mean_absolute_error: 0.0349\n",
            "Epoch 14/40\n",
            "42/42 [==============================] - ETA: 0s - loss: 0.0013 - mean_absolute_error: 0.0366\n",
            "Epoch 14: val_loss did not improve from 0.00116\n",
            "42/42 [==============================] - 2s 43ms/step - loss: 0.0013 - mean_absolute_error: 0.0366 - val_loss: 0.0013 - val_mean_absolute_error: 0.0375\n",
            "Epoch 15/40\n",
            "41/42 [============================>.] - ETA: 0s - loss: 0.0013 - mean_absolute_error: 0.0369\n",
            "Epoch 15: val_loss improved from 0.00116 to 0.00113, saving model to ./ts_sunspot/bidirectional_rnn_w60_h1_0.0011.h5\n",
            "42/42 [==============================] - 2s 42ms/step - loss: 0.0013 - mean_absolute_error: 0.0369 - val_loss: 0.0011 - val_mean_absolute_error: 0.0342\n",
            "Epoch 16/40\n",
            "41/42 [============================>.] - ETA: 0s - loss: 0.0013 - mean_absolute_error: 0.0362\n",
            "Epoch 16: val_loss did not improve from 0.00113\n",
            "42/42 [==============================] - 3s 67ms/step - loss: 0.0013 - mean_absolute_error: 0.0362 - val_loss: 0.0013 - val_mean_absolute_error: 0.0378\n",
            "Epoch 17/40\n",
            "40/42 [===========================>..] - ETA: 0s - loss: 0.0012 - mean_absolute_error: 0.0359\n",
            "Epoch 17: val_loss did not improve from 0.00113\n",
            "42/42 [==============================] - 4s 76ms/step - loss: 0.0012 - mean_absolute_error: 0.0360 - val_loss: 0.0012 - val_mean_absolute_error: 0.0360\n",
            "Epoch 18/40\n",
            "42/42 [==============================] - ETA: 0s - loss: 0.0012 - mean_absolute_error: 0.0353\n",
            "Epoch 18: val_loss improved from 0.00113 to 0.00109, saving model to ./ts_sunspot/bidirectional_rnn_w60_h1_0.0011.h5\n",
            "42/42 [==============================] - 2s 40ms/step - loss: 0.0012 - mean_absolute_error: 0.0353 - val_loss: 0.0011 - val_mean_absolute_error: 0.0339\n",
            "Epoch 19/40\n",
            "42/42 [==============================] - ETA: 0s - loss: 0.0012 - mean_absolute_error: 0.0354\n",
            "Epoch 19: val_loss improved from 0.00109 to 0.00101, saving model to ./ts_sunspot/bidirectional_rnn_w60_h1_0.0010.h5\n",
            "42/42 [==============================] - 2s 43ms/step - loss: 0.0012 - mean_absolute_error: 0.0354 - val_loss: 0.0010 - val_mean_absolute_error: 0.0322\n",
            "Epoch 20/40\n",
            "41/42 [============================>.] - ETA: 0s - loss: 0.0012 - mean_absolute_error: 0.0349\n",
            "Epoch 20: val_loss did not improve from 0.00101\n",
            "42/42 [==============================] - 2s 41ms/step - loss: 0.0012 - mean_absolute_error: 0.0349 - val_loss: 0.0011 - val_mean_absolute_error: 0.0344\n",
            "Epoch 21/40\n",
            "42/42 [==============================] - ETA: 0s - loss: 0.0012 - mean_absolute_error: 0.0347\n",
            "Epoch 21: val_loss improved from 0.00101 to 0.00096, saving model to ./ts_sunspot/bidirectional_rnn_w60_h1_0.0010.h5\n",
            "42/42 [==============================] - 2s 40ms/step - loss: 0.0012 - mean_absolute_error: 0.0347 - val_loss: 9.5776e-04 - val_mean_absolute_error: 0.0318\n",
            "Epoch 22/40\n",
            "40/42 [===========================>..] - ETA: 0s - loss: 0.0012 - mean_absolute_error: 0.0347\n",
            "Epoch 22: val_loss did not improve from 0.00096\n",
            "42/42 [==============================] - 3s 75ms/step - loss: 0.0012 - mean_absolute_error: 0.0347 - val_loss: 0.0011 - val_mean_absolute_error: 0.0338\n",
            "Epoch 23/40\n",
            "42/42 [==============================] - ETA: 0s - loss: 0.0011 - mean_absolute_error: 0.0342\n",
            "Epoch 23: val_loss did not improve from 0.00096\n",
            "42/42 [==============================] - 2s 40ms/step - loss: 0.0011 - mean_absolute_error: 0.0342 - val_loss: 0.0011 - val_mean_absolute_error: 0.0338\n",
            "Epoch 24/40\n",
            "40/42 [===========================>..] - ETA: 0s - loss: 0.0011 - mean_absolute_error: 0.0340\n",
            "Epoch 24: val_loss did not improve from 0.00096\n",
            "42/42 [==============================] - 2s 42ms/step - loss: 0.0011 - mean_absolute_error: 0.0340 - val_loss: 0.0010 - val_mean_absolute_error: 0.0332\n",
            "Epoch 25/40\n",
            "40/42 [===========================>..] - ETA: 0s - loss: 0.0011 - mean_absolute_error: 0.0341\n",
            "Epoch 25: val_loss did not improve from 0.00096\n",
            "42/42 [==============================] - 2s 39ms/step - loss: 0.0011 - mean_absolute_error: 0.0341 - val_loss: 0.0011 - val_mean_absolute_error: 0.0339\n",
            "Epoch 26/40\n",
            "40/42 [===========================>..] - ETA: 0s - loss: 0.0011 - mean_absolute_error: 0.0335\n",
            "Epoch 26: val_loss did not improve from 0.00096\n",
            "42/42 [==============================] - 2s 42ms/step - loss: 0.0011 - mean_absolute_error: 0.0335 - val_loss: 0.0011 - val_mean_absolute_error: 0.0347\n",
            "Epoch 27/40\n",
            "41/42 [============================>.] - ETA: 0s - loss: 0.0011 - mean_absolute_error: 0.0337\n",
            "Epoch 27: val_loss did not improve from 0.00096\n",
            "42/42 [==============================] - 4s 100ms/step - loss: 0.0011 - mean_absolute_error: 0.0337 - val_loss: 0.0011 - val_mean_absolute_error: 0.0341\n",
            "Epoch 28/40\n",
            "41/42 [============================>.] - ETA: 0s - loss: 0.0011 - mean_absolute_error: 0.0333\n",
            "Epoch 28: val_loss did not improve from 0.00096\n",
            "42/42 [==============================] - 2s 41ms/step - loss: 0.0011 - mean_absolute_error: 0.0333 - val_loss: 0.0011 - val_mean_absolute_error: 0.0339\n",
            "Epoch 29/40\n",
            "41/42 [============================>.] - ETA: 0s - loss: 0.0011 - mean_absolute_error: 0.0332\n",
            "Epoch 29: val_loss did not improve from 0.00096\n",
            "42/42 [==============================] - 2s 41ms/step - loss: 0.0011 - mean_absolute_error: 0.0332 - val_loss: 0.0011 - val_mean_absolute_error: 0.0341\n",
            "Epoch 30/40\n",
            "41/42 [============================>.] - ETA: 0s - loss: 0.0010 - mean_absolute_error: 0.0329\n",
            "Epoch 30: val_loss did not improve from 0.00096\n",
            "42/42 [==============================] - 2s 38ms/step - loss: 0.0010 - mean_absolute_error: 0.0329 - val_loss: 9.6379e-04 - val_mean_absolute_error: 0.0322\n",
            "Epoch 31/40\n",
            "42/42 [==============================] - ETA: 0s - loss: 0.0010 - mean_absolute_error: 0.0327\n",
            "Epoch 31: val_loss improved from 0.00096 to 0.00087, saving model to ./ts_sunspot/bidirectional_rnn_w60_h1_0.0009.h5\n",
            "42/42 [==============================] - 2s 42ms/step - loss: 0.0010 - mean_absolute_error: 0.0327 - val_loss: 8.6502e-04 - val_mean_absolute_error: 0.0300\n",
            "Epoch 32/40\n",
            "42/42 [==============================] - ETA: 0s - loss: 0.0010 - mean_absolute_error: 0.0326\n",
            "Epoch 32: val_loss improved from 0.00087 to 0.00085, saving model to ./ts_sunspot/bidirectional_rnn_w60_h1_0.0009.h5\n",
            "42/42 [==============================] - 3s 64ms/step - loss: 0.0010 - mean_absolute_error: 0.0326 - val_loss: 8.5438e-04 - val_mean_absolute_error: 0.0293\n",
            "Epoch 33/40\n",
            "41/42 [============================>.] - ETA: 0s - loss: 0.0010 - mean_absolute_error: 0.0324\n",
            "Epoch 33: val_loss did not improve from 0.00085\n",
            "42/42 [==============================] - 4s 79ms/step - loss: 0.0010 - mean_absolute_error: 0.0323 - val_loss: 8.5727e-04 - val_mean_absolute_error: 0.0295\n",
            "Epoch 34/40\n",
            "41/42 [============================>.] - ETA: 0s - loss: 0.0010 - mean_absolute_error: 0.0324\n",
            "Epoch 34: val_loss did not improve from 0.00085\n",
            "42/42 [==============================] - 2s 42ms/step - loss: 0.0010 - mean_absolute_error: 0.0324 - val_loss: 9.1821e-04 - val_mean_absolute_error: 0.0314\n",
            "Epoch 35/40\n",
            "40/42 [===========================>..] - ETA: 0s - loss: 9.9006e-04 - mean_absolute_error: 0.0320\n",
            "Epoch 35: val_loss did not improve from 0.00085\n",
            "42/42 [==============================] - 2s 37ms/step - loss: 9.8645e-04 - mean_absolute_error: 0.0320 - val_loss: 9.2167e-04 - val_mean_absolute_error: 0.0309\n",
            "Epoch 36/40\n",
            "40/42 [===========================>..] - ETA: 0s - loss: 0.0010 - mean_absolute_error: 0.0323\n",
            "Epoch 36: val_loss improved from 0.00085 to 0.00084, saving model to ./ts_sunspot/bidirectional_rnn_w60_h1_0.0008.h5\n",
            "42/42 [==============================] - 2s 42ms/step - loss: 9.9479e-04 - mean_absolute_error: 0.0322 - val_loss: 8.4249e-04 - val_mean_absolute_error: 0.0296\n",
            "Epoch 37/40\n",
            "42/42 [==============================] - ETA: 0s - loss: 9.6540e-04 - mean_absolute_error: 0.0316\n",
            "Epoch 37: val_loss did not improve from 0.00084\n",
            "42/42 [==============================] - 2s 40ms/step - loss: 9.6540e-04 - mean_absolute_error: 0.0316 - val_loss: 9.3225e-04 - val_mean_absolute_error: 0.0319\n",
            "Epoch 38/40\n",
            "41/42 [============================>.] - ETA: 0s - loss: 9.8161e-04 - mean_absolute_error: 0.0320\n",
            "Epoch 38: val_loss did not improve from 0.00084\n",
            "42/42 [==============================] - 3s 66ms/step - loss: 9.8048e-04 - mean_absolute_error: 0.0320 - val_loss: 8.5060e-04 - val_mean_absolute_error: 0.0297\n",
            "Epoch 39/40\n",
            "42/42 [==============================] - ETA: 0s - loss: 9.6266e-04 - mean_absolute_error: 0.0317\n",
            "Epoch 39: val_loss did not improve from 0.00084\n",
            "42/42 [==============================] - 3s 73ms/step - loss: 9.6266e-04 - mean_absolute_error: 0.0317 - val_loss: 9.6377e-04 - val_mean_absolute_error: 0.0326\n",
            "Epoch 40/40\n",
            "42/42 [==============================] - ETA: 0s - loss: 9.4818e-04 - mean_absolute_error: 0.0313\n",
            "Epoch 40: val_loss did not improve from 0.00084\n",
            "42/42 [==============================] - 2s 44ms/step - loss: 9.4818e-04 - mean_absolute_error: 0.0313 - val_loss: 9.3188e-04 - val_mean_absolute_error: 0.0319\n"
          ]
        },
        {
          "output_type": "execute_result",
          "data": {
            "text/plain": [
              "<keras.src.callbacks.History at 0x7a4c91953b20>"
            ]
          },
          "metadata": {},
          "execution_count": 39
        }
      ]
    }
  ]
}